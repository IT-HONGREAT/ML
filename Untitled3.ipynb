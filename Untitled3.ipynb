{
  "nbformat": 4,
  "nbformat_minor": 0,
  "metadata": {
    "colab": {
      "name": "Untitled3.ipynb",
      "provenance": [],
      "authorship_tag": "ABX9TyOXVQJbK51tyU5B/8Ycdt4S",
      "include_colab_link": true
    },
    "kernelspec": {
      "name": "python3",
      "display_name": "Python 3"
    },
    "language_info": {
      "name": "python"
    }
  },
  "cells": [
    {
      "cell_type": "markdown",
      "metadata": {
        "id": "view-in-github",
        "colab_type": "text"
      },
      "source": [
        "<a href=\"https://colab.research.google.com/github/IT-HONGREAT/studying/blob/main/Untitled3.ipynb\" target=\"_parent\"><img src=\"https://colab.research.google.com/assets/colab-badge.svg\" alt=\"Open In Colab\"/></a>"
      ]
    },
    {
      "cell_type": "code",
      "metadata": {
        "id": "SuqfGssZCI52"
      },
      "source": [
        "class JSS:\n",
        "  def __init__(self):\n",
        "    print(\"JSS 클래스 선언!\")\n",
        "    self.name = input(\"이름 : \")\n",
        "    self.age = input(\"나이 : \")\n",
        "\n",
        "  def show(self):\n",
        "    print(f\"나의 이름은 {self.name}이고 나이는{self.age}입니다\")\n"
      ],
      "execution_count": 22,
      "outputs": []
    },
    {
      "cell_type": "markdown",
      "metadata": {
        "id": "ZSt8FclNRf2u"
      },
      "source": [
        ""
      ]
    },
    {
      "cell_type": "code",
      "metadata": {
        "id": "-242ydhQWKcc"
      },
      "source": [
        "class JSS2(JSS):\n",
        "  def __init__(self):\n",
        "    super().__init__()\n",
        "    self.gender = input(\"성별 : \")\n",
        "  def show(self):\n",
        "    print(f\"나의 이름은 {self.name}이고,{self.gender}자 입니다. 나이는{self.age}입니다\")\n",
        "\n"
      ],
      "execution_count": 30,
      "outputs": []
    },
    {
      "cell_type": "code",
      "metadata": {
        "colab": {
          "base_uri": "https://localhost:8080/"
        },
        "id": "8q5Ar5bvQhbT",
        "outputId": "3f90be0c-20b2-48a9-9820-afa2f1ed204c"
      },
      "source": [
        "a = JSS2()\n"
      ],
      "execution_count": 31,
      "outputs": [
        {
          "output_type": "stream",
          "text": [
            "JSS 클래스 선언!\n",
            "이름 : 홍인영\n",
            "나이 : 27\n",
            "성별 : 남\n"
          ],
          "name": "stdout"
        }
      ]
    },
    {
      "cell_type": "code",
      "metadata": {
        "colab": {
          "base_uri": "https://localhost:8080/"
        },
        "id": "Ht_JsFh_XyXr",
        "outputId": "6d9b598a-5052-4745-a42a-3fe7f776e833"
      },
      "source": [
        "a.show()"
      ],
      "execution_count": 32,
      "outputs": [
        {
          "output_type": "stream",
          "text": [
            "나의 이름은 홍인영이고,남자 입니다. 나이는27입니다\n"
          ],
          "name": "stdout"
        }
      ]
    }
  ]
}