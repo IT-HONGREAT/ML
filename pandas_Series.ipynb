{
  "nbformat": 4,
  "nbformat_minor": 0,
  "metadata": {
    "colab": {
      "name": "pandas_Series",
      "provenance": [],
      "authorship_tag": "ABX9TyNFI84D22aM0ipvLIx658HN",
      "include_colab_link": true
    },
    "kernelspec": {
      "name": "python3",
      "display_name": "Python 3"
    },
    "language_info": {
      "name": "python"
    }
  },
  "cells": [
    {
      "cell_type": "markdown",
      "metadata": {
        "id": "view-in-github",
        "colab_type": "text"
      },
      "source": [
        "<a href=\"https://colab.research.google.com/github/IT-HONGREAT/studying/blob/main/pandas_Series.ipynb\" target=\"_parent\"><img src=\"https://colab.research.google.com/assets/colab-badge.svg\" alt=\"Open In Colab\"/></a>"
      ]
    },
    {
      "cell_type": "code",
      "metadata": {
        "id": "5Uk1XIMfU7vQ"
      },
      "source": [
        "import pandas as pd\n",
        "from IPython.core.interactiveshell import InteractiveShell\n",
        "InteractiveShell.ast_node_intercativity = \"all\"\n"
      ],
      "execution_count": 5,
      "outputs": []
    },
    {
      "cell_type": "code",
      "metadata": {
        "colab": {
          "base_uri": "https://localhost:8080/"
        },
        "id": "iMayhnm1VinM",
        "outputId": "91064f61-7804-425f-ef6b-5c4fceafc614"
      },
      "source": [
        "s = pd.Series([1,3,5,6,7], index = ['하나','둘','셋','넷','다섯'])\n",
        "print(s)"
      ],
      "execution_count": 10,
      "outputs": [
        {
          "output_type": "stream",
          "text": [
            "하나    1\n",
            "둘     3\n",
            "셋     5\n",
            "넷     6\n",
            "다섯    7\n",
            "dtype: int64\n"
          ],
          "name": "stdout"
        }
      ]
    },
    {
      "cell_type": "code",
      "metadata": {
        "colab": {
          "base_uri": "https://localhost:8080/"
        },
        "id": "0uT-MbAvZTMN",
        "outputId": "16e46aab-0be9-4080-88ac-763153dfee88"
      },
      "source": [
        "#리스트를 시리즈로 바꾸기\n",
        "\n",
        "list_data = [1,2,3,4,5]\n",
        "series = pd.Series(list_data)\n",
        "print(series)\n",
        "print('\\n')\n",
        "\n",
        "list_index = ['하나','둘','셋','넷','다섯']\n",
        "new_series = pd.Series(list_data, index=list_index)\n",
        "print(new_series)"
      ],
      "execution_count": 12,
      "outputs": [
        {
          "output_type": "stream",
          "text": [
            "0    1\n",
            "1    2\n",
            "2    3\n",
            "3    4\n",
            "4    5\n",
            "dtype: int64\n",
            "\n",
            "\n",
            "하나    1\n",
            "둘     2\n",
            "셋     3\n",
            "넷     4\n",
            "다섯    5\n",
            "dtype: int64\n"
          ],
          "name": "stdout"
        }
      ]
    },
    {
      "cell_type": "code",
      "metadata": {
        "colab": {
          "base_uri": "https://localhost:8080/"
        },
        "id": "rf5mmiY5Z3XC",
        "outputId": "ba11afab-c899-4035-9064-73adc509765f"
      },
      "source": [
        "\n",
        "tuple_data = ('판','다','스','꿀','잼')\n",
        "series = pd.Series(tuple_data)\n",
        "print(series)\n",
        "print('\\n')\n",
        "\n",
        "tuple_index = ['하나','둘','셋','넷','다섯']\n",
        "new_series = pd.Series(tuple_data, index=tuple_index)\n",
        "print(new_series)"
      ],
      "execution_count": 14,
      "outputs": [
        {
          "output_type": "stream",
          "text": [
            "0    판\n",
            "1    다\n",
            "2    스\n",
            "3    꿀\n",
            "4    잼\n",
            "dtype: object\n",
            "\n",
            "\n",
            "하나    판\n",
            "둘     다\n",
            "셋     스\n",
            "넷     꿀\n",
            "다섯    잼\n",
            "dtype: object\n"
          ],
          "name": "stdout"
        }
      ]
    },
    {
      "cell_type": "code",
      "metadata": {
        "colab": {
          "base_uri": "https://localhost:8080/"
        },
        "id": "_QIh_803auQe",
        "outputId": "1f9bd399-329a-434a-94b4-5336d8f154da"
      },
      "source": [
        "dict_data = {'a':1,'b':2,'c':3}\n",
        "sr = pd.Series(dict_data)\n",
        "\n",
        "print(dict_data)\n",
        "print('\\n')\n",
        "print(type(sr))\n",
        "print('\\n')\n",
        "print(sr)"
      ],
      "execution_count": 16,
      "outputs": [
        {
          "output_type": "stream",
          "text": [
            "{'a': 1, 'b': 2, 'c': 3}\n",
            "\n",
            "\n",
            "<class 'pandas.core.series.Series'>\n",
            "\n",
            "\n",
            "a    1\n",
            "b    2\n",
            "c    3\n",
            "dtype: int64\n"
          ],
          "name": "stdout"
        }
      ]
    },
    {
      "cell_type": "code",
      "metadata": {
        "colab": {
          "base_uri": "https://localhost:8080/"
        },
        "id": "N50VWP08bp9w",
        "outputId": "afe26d17-7df2-4b62-f387-20e4a6279beb"
      },
      "source": [
        "series_data = pd.Series(['홍길동','26','010-1234-5678','경기','학생'],\n",
        "                        index=['이름','나이','전화번호','거주지','직업'])\n",
        "\n",
        "#정수형위치\n",
        "num_index_data = series_data[2]\n",
        "print(num_index_data)\n",
        "\n",
        "#index 이름으로\n",
        "name_index_data = series_data['전화번호']\n",
        "print(name_index_data)\n",
        "print()\n",
        "print('전체 데이터 프레임 입니다.')\n",
        "print()\n",
        "print(series_data)\n"
      ],
      "execution_count": 23,
      "outputs": [
        {
          "output_type": "stream",
          "text": [
            "010-1234-5678\n",
            "010-1234-5678\n",
            "\n",
            "전체 데이터 프레임 입니다.\n",
            "\n",
            "이름                홍길동\n",
            "나이                 26\n",
            "전화번호    010-1234-5678\n",
            "거주지                경기\n",
            "직업                 학생\n",
            "dtype: object\n"
          ],
          "name": "stdout"
        }
      ]
    },
    {
      "cell_type": "code",
      "metadata": {
        "colab": {
          "base_uri": "https://localhost:8080/"
        },
        "id": "N17QJ-vWc9O7",
        "outputId": "328de9bc-9b8e-40b3-b6aa-a5553e87a2e9"
      },
      "source": [
        "series_data = pd.Series(['홍길동','26','010-1234-5678','경기','학생'],\n",
        "                        index=['이름','나이','전화번호','거주지','직업'])\n",
        "\n",
        "#정수형위치\n",
        "new = series_data[[0,1,3]]\n",
        "print(new)\n",
        "print('\\n')\n",
        "\n",
        "new = series_data[['이름','나이','거주지']]\n",
        "print(new)\n"
      ],
      "execution_count": 25,
      "outputs": [
        {
          "output_type": "stream",
          "text": [
            "이름     홍길동\n",
            "나이      26\n",
            "거주지     경기\n",
            "dtype: object\n",
            "\n",
            "\n",
            "이름     홍길동\n",
            "나이      26\n",
            "거주지     경기\n",
            "dtype: object\n"
          ],
          "name": "stdout"
        }
      ]
    },
    {
      "cell_type": "code",
      "metadata": {
        "colab": {
          "base_uri": "https://localhost:8080/"
        },
        "id": "nwelQStbdcdd",
        "outputId": "e855f220-8241-4873-8142-4a13f30122f7"
      },
      "source": [
        "series_data = pd.Series(['홍길동','26','010-1234-5678','경기','학생'],\n",
        "                        index=['이름','나이','전화번호','거주지','직업'])\n",
        "\n",
        "#슬라이싱\n",
        "new = series_data[2:4]\n",
        "print(new)\n",
        "print('\\n')\n",
        "\n",
        "new = series_data['전화번호':]\n",
        "print(new)"
      ],
      "execution_count": 31,
      "outputs": [
        {
          "output_type": "stream",
          "text": [
            "전화번호    010-1234-5678\n",
            "거주지                경기\n",
            "dtype: object\n",
            "\n",
            "\n",
            "전화번호    010-1234-5678\n",
            "거주지                경기\n",
            "직업                 학생\n",
            "dtype: object\n"
          ],
          "name": "stdout"
        }
      ]
    },
    {
      "cell_type": "code",
      "metadata": {
        "colab": {
          "base_uri": "https://localhost:8080/"
        },
        "id": "RSpdzKsneO6Y",
        "outputId": "d185410d-bdec-4582-cbf0-eb18e0e50888"
      },
      "source": [
        "#속성보기\n",
        "new_series = pd.Series(['welcome','to','pandas'],\n",
        "                       index = ['here','is','seoul'])\n",
        "print(new_series.index)\n",
        "print('\\n')\n",
        "print(new_series.values)\n"
      ],
      "execution_count": 35,
      "outputs": [
        {
          "output_type": "stream",
          "text": [
            "Index(['here', 'is', 'seoul'], dtype='object')\n",
            "\n",
            "\n",
            "['welcome' 'to' 'pandas']\n"
          ],
          "name": "stdout"
        }
      ]
    },
    {
      "cell_type": "code",
      "metadata": {
        "colab": {
          "base_uri": "https://localhost:8080/"
        },
        "id": "DJnKXMrmfWkR",
        "outputId": "6e4213cf-e509-4e83-86a4-6351acfb6f37"
      },
      "source": [
        "#리스트로 데이터프레임 만들기\n",
        "\n",
        "list_data_2d = [[23,'남','부산'],[21,'여','서울'],[25,'남','광주'],[27,'여','대전'],[24,'여','광주']]\n",
        "\n",
        "df = pd.DataFrame(list_data_2d,columns = ['나이','성별','지역']) #데이터와 columns 설정\n",
        "print(df)\n",
        "print('\\n')\n",
        "\n",
        "#index설정\n",
        "\n",
        "df = pd.DataFrame(list_data_2d,\n",
        "                  index = ['상우','지원','민기','정민','수림']\n",
        "                  ,columns = ['나이','성별','지역'])\n",
        "print(df)"
      ],
      "execution_count": 41,
      "outputs": [
        {
          "output_type": "stream",
          "text": [
            "   나이 성별  지역\n",
            "0  23  남  부산\n",
            "1  21  여  서울\n",
            "2  25  남  광주\n",
            "3  27  여  대전\n",
            "4  24  여  광주\n",
            "\n",
            "\n",
            "    나이 성별  지역\n",
            "상우  23  남  부산\n",
            "지원  21  여  서울\n",
            "민기  25  남  광주\n",
            "정민  27  여  대전\n",
            "수림  24  여  광주\n"
          ],
          "name": "stdout"
        }
      ]
    },
    {
      "cell_type": "code",
      "metadata": {
        "colab": {
          "base_uri": "https://localhost:8080/"
        },
        "id": "_AkjsyvNhFv8",
        "outputId": "d73d9b45-8dad-474a-bb2f-759ba8ee0766"
      },
      "source": [
        "dict_data = {\"나이\" : [23,21,25,27,24],'성별':['남','여','남','여','여'],\n",
        "             '지역':['부산','서울','광주','대전','광주']}\n",
        "\n",
        "df = pd.DataFrame(dict_data)\n",
        "print(df)\n",
        "print('\\n')\n",
        "\n",
        "df = pd.DataFrame(dict_data,\n",
        "                  index = ['상우','지원','민기','정민','수림'])\n",
        "\n",
        "print(df)"
      ],
      "execution_count": 44,
      "outputs": [
        {
          "output_type": "stream",
          "text": [
            "   나이 성별  지역\n",
            "0  23  남  부산\n",
            "1  21  여  서울\n",
            "2  25  남  광주\n",
            "3  27  여  대전\n",
            "4  24  여  광주\n",
            "\n",
            "\n",
            "    나이 성별  지역\n",
            "상우  23  남  부산\n",
            "지원  21  여  서울\n",
            "민기  25  남  광주\n",
            "정민  27  여  대전\n",
            "수림  24  여  광주\n"
          ],
          "name": "stdout"
        }
      ]
    },
    {
      "cell_type": "code",
      "metadata": {
        "colab": {
          "base_uri": "https://localhost:8080/",
          "height": 234
        },
        "id": "HEKMQ6ZUigAV",
        "outputId": "7b313848-6745-436e-9ba9-70a765d877a8"
      },
      "source": [
        "test_data = {'팀이름' : ['아자아자', '할수있다', 'AI마피아', 'TF고수', '경사하강법', '광인사최고'],\n",
        "             '창의성' : ['상','중','하','상','중','하'],\n",
        "             '완성도' : [100,80,70,90,50,60],\n",
        "             '사업성' : ['좋음','보통','부족','보통','잘함','못함']}\n",
        "\n",
        "df = pd.DataFrame(test_data)\n",
        "df\n",
        "\n"
      ],
      "execution_count": 56,
      "outputs": [
        {
          "output_type": "execute_result",
          "data": {
            "text/html": [
              "<div>\n",
              "<style scoped>\n",
              "    .dataframe tbody tr th:only-of-type {\n",
              "        vertical-align: middle;\n",
              "    }\n",
              "\n",
              "    .dataframe tbody tr th {\n",
              "        vertical-align: top;\n",
              "    }\n",
              "\n",
              "    .dataframe thead th {\n",
              "        text-align: right;\n",
              "    }\n",
              "</style>\n",
              "<table border=\"1\" class=\"dataframe\">\n",
              "  <thead>\n",
              "    <tr style=\"text-align: right;\">\n",
              "      <th></th>\n",
              "      <th>팀이름</th>\n",
              "      <th>창의성</th>\n",
              "      <th>완성도</th>\n",
              "      <th>사업성</th>\n",
              "    </tr>\n",
              "  </thead>\n",
              "  <tbody>\n",
              "    <tr>\n",
              "      <th>0</th>\n",
              "      <td>아자아자</td>\n",
              "      <td>상</td>\n",
              "      <td>100</td>\n",
              "      <td>좋음</td>\n",
              "    </tr>\n",
              "    <tr>\n",
              "      <th>1</th>\n",
              "      <td>할수있다</td>\n",
              "      <td>중</td>\n",
              "      <td>80</td>\n",
              "      <td>보통</td>\n",
              "    </tr>\n",
              "    <tr>\n",
              "      <th>2</th>\n",
              "      <td>AI마피아</td>\n",
              "      <td>하</td>\n",
              "      <td>70</td>\n",
              "      <td>부족</td>\n",
              "    </tr>\n",
              "    <tr>\n",
              "      <th>3</th>\n",
              "      <td>TF고수</td>\n",
              "      <td>상</td>\n",
              "      <td>90</td>\n",
              "      <td>보통</td>\n",
              "    </tr>\n",
              "    <tr>\n",
              "      <th>4</th>\n",
              "      <td>경사하강법</td>\n",
              "      <td>중</td>\n",
              "      <td>50</td>\n",
              "      <td>잘함</td>\n",
              "    </tr>\n",
              "    <tr>\n",
              "      <th>5</th>\n",
              "      <td>광인사최고</td>\n",
              "      <td>하</td>\n",
              "      <td>60</td>\n",
              "      <td>못함</td>\n",
              "    </tr>\n",
              "  </tbody>\n",
              "</table>\n",
              "</div>"
            ],
            "text/plain": [
              "     팀이름 창의성  완성도 사업성\n",
              "0   아자아자   상  100  좋음\n",
              "1   할수있다   중   80  보통\n",
              "2  AI마피아   하   70  부족\n",
              "3   TF고수   상   90  보통\n",
              "4  경사하강법   중   50  잘함\n",
              "5  광인사최고   하   60  못함"
            ]
          },
          "metadata": {
            "tags": []
          },
          "execution_count": 56
        }
      ]
    },
    {
      "cell_type": "code",
      "metadata": {
        "colab": {
          "base_uri": "https://localhost:8080/",
          "height": 744
        },
        "id": "k3umS5w6j0ak",
        "outputId": "d8d6f677-a472-4558-ea03-6f3ee995a02d"
      },
      "source": [
        "#1\n",
        "print(df.팀이름)\n",
        "print()\n",
        "print(df.사업성)\n",
        "#2\n",
        "print(df['팀이름'])\n",
        "print(df['창의성'])\n",
        "#\n",
        "df[['팀이름','창의성']]"
      ],
      "execution_count": 65,
      "outputs": [
        {
          "output_type": "stream",
          "text": [
            "0     아자아자\n",
            "1     할수있다\n",
            "2    AI마피아\n",
            "3     TF고수\n",
            "4    경사하강법\n",
            "5    광인사최고\n",
            "Name: 팀이름, dtype: object\n",
            "\n",
            "0    좋음\n",
            "1    보통\n",
            "2    부족\n",
            "3    보통\n",
            "4    잘함\n",
            "5    못함\n",
            "Name: 사업성, dtype: object\n",
            "0     아자아자\n",
            "1     할수있다\n",
            "2    AI마피아\n",
            "3     TF고수\n",
            "4    경사하강법\n",
            "5    광인사최고\n",
            "Name: 팀이름, dtype: object\n",
            "0    상\n",
            "1    중\n",
            "2    하\n",
            "3    상\n",
            "4    중\n",
            "5    하\n",
            "Name: 창의성, dtype: object\n"
          ],
          "name": "stdout"
        },
        {
          "output_type": "execute_result",
          "data": {
            "text/html": [
              "<div>\n",
              "<style scoped>\n",
              "    .dataframe tbody tr th:only-of-type {\n",
              "        vertical-align: middle;\n",
              "    }\n",
              "\n",
              "    .dataframe tbody tr th {\n",
              "        vertical-align: top;\n",
              "    }\n",
              "\n",
              "    .dataframe thead th {\n",
              "        text-align: right;\n",
              "    }\n",
              "</style>\n",
              "<table border=\"1\" class=\"dataframe\">\n",
              "  <thead>\n",
              "    <tr style=\"text-align: right;\">\n",
              "      <th></th>\n",
              "      <th>팀이름</th>\n",
              "      <th>창의성</th>\n",
              "    </tr>\n",
              "  </thead>\n",
              "  <tbody>\n",
              "    <tr>\n",
              "      <th>0</th>\n",
              "      <td>아자아자</td>\n",
              "      <td>상</td>\n",
              "    </tr>\n",
              "    <tr>\n",
              "      <th>1</th>\n",
              "      <td>할수있다</td>\n",
              "      <td>중</td>\n",
              "    </tr>\n",
              "    <tr>\n",
              "      <th>2</th>\n",
              "      <td>AI마피아</td>\n",
              "      <td>하</td>\n",
              "    </tr>\n",
              "    <tr>\n",
              "      <th>3</th>\n",
              "      <td>TF고수</td>\n",
              "      <td>상</td>\n",
              "    </tr>\n",
              "    <tr>\n",
              "      <th>4</th>\n",
              "      <td>경사하강법</td>\n",
              "      <td>중</td>\n",
              "    </tr>\n",
              "    <tr>\n",
              "      <th>5</th>\n",
              "      <td>광인사최고</td>\n",
              "      <td>하</td>\n",
              "    </tr>\n",
              "  </tbody>\n",
              "</table>\n",
              "</div>"
            ],
            "text/plain": [
              "     팀이름 창의성\n",
              "0   아자아자   상\n",
              "1   할수있다   중\n",
              "2  AI마피아   하\n",
              "3   TF고수   상\n",
              "4  경사하강법   중\n",
              "5  광인사최고   하"
            ]
          },
          "metadata": {
            "tags": []
          },
          "execution_count": 65
        }
      ]
    },
    {
      "cell_type": "code",
      "metadata": {
        "colab": {
          "base_uri": "https://localhost:8080/"
        },
        "id": "UdwaDEh3nLCE",
        "outputId": "4c5d8b1b-2faa-409e-c36a-3c6fd3c360c5"
      },
      "source": [
        "test_data = {'팀이름' : ['아자아자', '할수있다', 'AI마피아', 'TF고수', '경사하강법', '광인사최고'],\n",
        "             '창의성' : ['상','중','하','상','중','하'],\n",
        "             '완성도' : [100,80,70,90,50,60],\n",
        "             '사업성' : ['좋음','보통','부족','보통','잘함','못함']}\n",
        "\n",
        "df = pd.DataFrame(test_data, index = ['11팀','12팀','13팀','14팀','15팀','16팀'])\n",
        "\n",
        "print(df.loc[['13팀']])\n",
        "\n",
        "print(df.iloc[[3]])"
      ],
      "execution_count": 69,
      "outputs": [
        {
          "output_type": "stream",
          "text": [
            "       팀이름 창의성  완성도 사업성\n",
            "13팀  AI마피아   하   70  부족\n",
            "      팀이름 창의성  완성도 사업성\n",
            "14팀  TF고수   상   90  보통\n"
          ],
          "name": "stdout"
        }
      ]
    },
    {
      "cell_type": "code",
      "metadata": {
        "colab": {
          "base_uri": "https://localhost:8080/"
        },
        "id": "Dui6BTB4ni9Z",
        "outputId": "e1ae22de-f58a-47d3-eaed-91debe6c06ff"
      },
      "source": [
        "test_data = {'팀이름' : ['아자아자', '할수있다', 'AI마피아', 'TF고수', '경사하강법', '광인사최고'],\n",
        "             '창의성' : ['상','중','하','상','중','하'],\n",
        "             '완성도' : [100,80,70,90,50,60],\n",
        "             '사업성' : ['좋음','보통','부족','보통','잘함','못함']}\n",
        "\n",
        "df = pd.DataFrame(test_data, index = ['11팀','12팀','13팀','14팀','15팀','16팀'])\n",
        "\n",
        "print(df.loc[['13팀','14팀']])\n",
        "print()\n",
        "print(df.iloc[[3,5]])\n",
        "\n"
      ],
      "execution_count": 73,
      "outputs": [
        {
          "output_type": "stream",
          "text": [
            "       팀이름 창의성  완성도 사업성\n",
            "13팀  AI마피아   하   70  부족\n",
            "14팀   TF고수   상   90  보통\n",
            "\n",
            "       팀이름 창의성  완성도 사업성\n",
            "14팀   TF고수   상   90  보통\n",
            "16팀  광인사최고   하   60  못함\n"
          ],
          "name": "stdout"
        }
      ]
    },
    {
      "cell_type": "code",
      "metadata": {
        "colab": {
          "base_uri": "https://localhost:8080/",
          "height": 339
        },
        "id": "_83oxMm_nvbN",
        "outputId": "855295ee-eded-4ea9-ce42-8d2acb03f333"
      },
      "source": [
        "test_data = {'팀이름' : ['아자아자', '할수있다', 'AI마피아', 'TF고수', '경사하강법', '광인사최고'],\n",
        "             '창의성' : ['상','중','하','상','중','하'],\n",
        "             '완성도' : [100,80,70,90,50,60],\n",
        "             '사업성' : ['좋음','보통','부족','보통','잘함','못함']}\n",
        "\n",
        "df = pd.DataFrame(test_data, index = ['11팀','12팀','13팀','14팀','15팀','16팀'])\n",
        "\n",
        "print(df.loc['13팀':])\n",
        "print()\n",
        "print(df.iloc[1:7])\n",
        "print()\n",
        "df.loc['12팀'::2]\n",
        "df.loc['16팀'::-1]\n",
        "\n",
        "df.iloc[2::2]\n"
      ],
      "execution_count": 90,
      "outputs": [
        {
          "output_type": "stream",
          "text": [
            "       팀이름 창의성  완성도 사업성\n",
            "13팀  AI마피아   하   70  부족\n",
            "14팀   TF고수   상   90  보통\n",
            "15팀  경사하강법   중   50  잘함\n",
            "16팀  광인사최고   하   60  못함\n",
            "\n",
            "       팀이름 창의성  완성도 사업성\n",
            "12팀   할수있다   중   80  보통\n",
            "13팀  AI마피아   하   70  부족\n",
            "14팀   TF고수   상   90  보통\n",
            "15팀  경사하강법   중   50  잘함\n",
            "16팀  광인사최고   하   60  못함\n",
            "\n"
          ],
          "name": "stdout"
        },
        {
          "output_type": "execute_result",
          "data": {
            "text/html": [
              "<div>\n",
              "<style scoped>\n",
              "    .dataframe tbody tr th:only-of-type {\n",
              "        vertical-align: middle;\n",
              "    }\n",
              "\n",
              "    .dataframe tbody tr th {\n",
              "        vertical-align: top;\n",
              "    }\n",
              "\n",
              "    .dataframe thead th {\n",
              "        text-align: right;\n",
              "    }\n",
              "</style>\n",
              "<table border=\"1\" class=\"dataframe\">\n",
              "  <thead>\n",
              "    <tr style=\"text-align: right;\">\n",
              "      <th></th>\n",
              "      <th>팀이름</th>\n",
              "      <th>창의성</th>\n",
              "      <th>완성도</th>\n",
              "      <th>사업성</th>\n",
              "    </tr>\n",
              "  </thead>\n",
              "  <tbody>\n",
              "    <tr>\n",
              "      <th>13팀</th>\n",
              "      <td>AI마피아</td>\n",
              "      <td>하</td>\n",
              "      <td>70</td>\n",
              "      <td>부족</td>\n",
              "    </tr>\n",
              "    <tr>\n",
              "      <th>15팀</th>\n",
              "      <td>경사하강법</td>\n",
              "      <td>중</td>\n",
              "      <td>50</td>\n",
              "      <td>잘함</td>\n",
              "    </tr>\n",
              "  </tbody>\n",
              "</table>\n",
              "</div>"
            ],
            "text/plain": [
              "       팀이름 창의성  완성도 사업성\n",
              "13팀  AI마피아   하   70  부족\n",
              "15팀  경사하강법   중   50  잘함"
            ]
          },
          "metadata": {
            "tags": []
          },
          "execution_count": 90
        }
      ]
    },
    {
      "cell_type": "code",
      "metadata": {
        "colab": {
          "base_uri": "https://localhost:8080/",
          "height": 234
        },
        "id": "iXDe0GgBqHfm",
        "outputId": "11a4cccb-6537-463b-9bb4-cd575f3f7284"
      },
      "source": [
        "#원소 선택\n",
        "test_data = {'이름':['상우','현정','문영','동엽','우재'],\n",
        "             '국어':[85,88,90,50,70],\n",
        "             '수학':[57,90,100,78,66],\n",
        "             '영어':[85,89,67,98,98],\n",
        "             '과학':[93,79,92,50,70],\n",
        "             '사회':[94,80,99,69,100]}\n",
        "\n",
        "df = pd.DataFrame(test_data)\n",
        "df.set_index('이름', inplace=True)\n",
        "df"
      ],
      "execution_count": 93,
      "outputs": [
        {
          "output_type": "execute_result",
          "data": {
            "text/html": [
              "<div>\n",
              "<style scoped>\n",
              "    .dataframe tbody tr th:only-of-type {\n",
              "        vertical-align: middle;\n",
              "    }\n",
              "\n",
              "    .dataframe tbody tr th {\n",
              "        vertical-align: top;\n",
              "    }\n",
              "\n",
              "    .dataframe thead th {\n",
              "        text-align: right;\n",
              "    }\n",
              "</style>\n",
              "<table border=\"1\" class=\"dataframe\">\n",
              "  <thead>\n",
              "    <tr style=\"text-align: right;\">\n",
              "      <th></th>\n",
              "      <th>국어</th>\n",
              "      <th>수학</th>\n",
              "      <th>영어</th>\n",
              "      <th>과학</th>\n",
              "      <th>사회</th>\n",
              "    </tr>\n",
              "    <tr>\n",
              "      <th>이름</th>\n",
              "      <th></th>\n",
              "      <th></th>\n",
              "      <th></th>\n",
              "      <th></th>\n",
              "      <th></th>\n",
              "    </tr>\n",
              "  </thead>\n",
              "  <tbody>\n",
              "    <tr>\n",
              "      <th>상우</th>\n",
              "      <td>85</td>\n",
              "      <td>57</td>\n",
              "      <td>85</td>\n",
              "      <td>93</td>\n",
              "      <td>94</td>\n",
              "    </tr>\n",
              "    <tr>\n",
              "      <th>현정</th>\n",
              "      <td>88</td>\n",
              "      <td>90</td>\n",
              "      <td>89</td>\n",
              "      <td>79</td>\n",
              "      <td>80</td>\n",
              "    </tr>\n",
              "    <tr>\n",
              "      <th>문영</th>\n",
              "      <td>90</td>\n",
              "      <td>100</td>\n",
              "      <td>67</td>\n",
              "      <td>92</td>\n",
              "      <td>99</td>\n",
              "    </tr>\n",
              "    <tr>\n",
              "      <th>동엽</th>\n",
              "      <td>50</td>\n",
              "      <td>78</td>\n",
              "      <td>98</td>\n",
              "      <td>50</td>\n",
              "      <td>69</td>\n",
              "    </tr>\n",
              "    <tr>\n",
              "      <th>우재</th>\n",
              "      <td>70</td>\n",
              "      <td>66</td>\n",
              "      <td>98</td>\n",
              "      <td>70</td>\n",
              "      <td>100</td>\n",
              "    </tr>\n",
              "  </tbody>\n",
              "</table>\n",
              "</div>"
            ],
            "text/plain": [
              "    국어   수학  영어  과학   사회\n",
              "이름                      \n",
              "상우  85   57  85  93   94\n",
              "현정  88   90  89  79   80\n",
              "문영  90  100  67  92   99\n",
              "동엽  50   78  98  50   69\n",
              "우재  70   66  98  70  100"
            ]
          },
          "metadata": {
            "tags": []
          },
          "execution_count": 93
        }
      ]
    },
    {
      "cell_type": "code",
      "metadata": {
        "colab": {
          "base_uri": "https://localhost:8080/",
          "height": 110
        },
        "id": "9eSrU1RgrBF6",
        "outputId": "f41bd40c-95ad-4a25-df9e-8ec11e288951"
      },
      "source": [
        "#원소 하나 접근\n",
        "\n",
        "df.loc[['문영'],['영어']]\n"
      ],
      "execution_count": 97,
      "outputs": [
        {
          "output_type": "execute_result",
          "data": {
            "text/html": [
              "<div>\n",
              "<style scoped>\n",
              "    .dataframe tbody tr th:only-of-type {\n",
              "        vertical-align: middle;\n",
              "    }\n",
              "\n",
              "    .dataframe tbody tr th {\n",
              "        vertical-align: top;\n",
              "    }\n",
              "\n",
              "    .dataframe thead th {\n",
              "        text-align: right;\n",
              "    }\n",
              "</style>\n",
              "<table border=\"1\" class=\"dataframe\">\n",
              "  <thead>\n",
              "    <tr style=\"text-align: right;\">\n",
              "      <th></th>\n",
              "      <th>영어</th>\n",
              "    </tr>\n",
              "    <tr>\n",
              "      <th>이름</th>\n",
              "      <th></th>\n",
              "    </tr>\n",
              "  </thead>\n",
              "  <tbody>\n",
              "    <tr>\n",
              "      <th>문영</th>\n",
              "      <td>67</td>\n",
              "    </tr>\n",
              "  </tbody>\n",
              "</table>\n",
              "</div>"
            ],
            "text/plain": [
              "    영어\n",
              "이름    \n",
              "문영  67"
            ]
          },
          "metadata": {
            "tags": []
          },
          "execution_count": 97
        }
      ]
    },
    {
      "cell_type": "code",
      "metadata": {
        "colab": {
          "base_uri": "https://localhost:8080/",
          "height": 110
        },
        "id": "lO9Db8q_rCxV",
        "outputId": "29fa2d95-a6fb-4ef6-dc91-1cb8d42ea89f"
      },
      "source": [
        "df.iloc[[3],[2]]"
      ],
      "execution_count": 100,
      "outputs": [
        {
          "output_type": "execute_result",
          "data": {
            "text/html": [
              "<div>\n",
              "<style scoped>\n",
              "    .dataframe tbody tr th:only-of-type {\n",
              "        vertical-align: middle;\n",
              "    }\n",
              "\n",
              "    .dataframe tbody tr th {\n",
              "        vertical-align: top;\n",
              "    }\n",
              "\n",
              "    .dataframe thead th {\n",
              "        text-align: right;\n",
              "    }\n",
              "</style>\n",
              "<table border=\"1\" class=\"dataframe\">\n",
              "  <thead>\n",
              "    <tr style=\"text-align: right;\">\n",
              "      <th></th>\n",
              "      <th>영어</th>\n",
              "    </tr>\n",
              "    <tr>\n",
              "      <th>이름</th>\n",
              "      <th></th>\n",
              "    </tr>\n",
              "  </thead>\n",
              "  <tbody>\n",
              "    <tr>\n",
              "      <th>동엽</th>\n",
              "      <td>98</td>\n",
              "    </tr>\n",
              "  </tbody>\n",
              "</table>\n",
              "</div>"
            ],
            "text/plain": [
              "    영어\n",
              "이름    \n",
              "동엽  98"
            ]
          },
          "metadata": {
            "tags": []
          },
          "execution_count": 100
        }
      ]
    },
    {
      "cell_type": "code",
      "metadata": {
        "colab": {
          "base_uri": "https://localhost:8080/",
          "height": 172
        },
        "id": "l73co95qrXFq",
        "outputId": "f2b95c03-a506-4c26-cca3-7e144359753c"
      },
      "source": [
        "\n",
        "#원소 두개이상\n",
        "\n",
        "df.loc[['문영'],['국어','사회']]\n",
        "\n",
        "df.iloc[[2],[0,3]]\n",
        "\n",
        "df.iloc[[0,3],[2]]\n",
        "\n",
        "df.loc[['상우','동엽','우재'],['국어','영어','수학']]   #인덱스 먼저 접근해야한다. 인덱스->컬럼"
      ],
      "execution_count": 114,
      "outputs": [
        {
          "output_type": "execute_result",
          "data": {
            "text/html": [
              "<div>\n",
              "<style scoped>\n",
              "    .dataframe tbody tr th:only-of-type {\n",
              "        vertical-align: middle;\n",
              "    }\n",
              "\n",
              "    .dataframe tbody tr th {\n",
              "        vertical-align: top;\n",
              "    }\n",
              "\n",
              "    .dataframe thead th {\n",
              "        text-align: right;\n",
              "    }\n",
              "</style>\n",
              "<table border=\"1\" class=\"dataframe\">\n",
              "  <thead>\n",
              "    <tr style=\"text-align: right;\">\n",
              "      <th></th>\n",
              "      <th>국어</th>\n",
              "      <th>영어</th>\n",
              "      <th>수학</th>\n",
              "    </tr>\n",
              "    <tr>\n",
              "      <th>이름</th>\n",
              "      <th></th>\n",
              "      <th></th>\n",
              "      <th></th>\n",
              "    </tr>\n",
              "  </thead>\n",
              "  <tbody>\n",
              "    <tr>\n",
              "      <th>상우</th>\n",
              "      <td>85</td>\n",
              "      <td>85</td>\n",
              "      <td>57</td>\n",
              "    </tr>\n",
              "    <tr>\n",
              "      <th>동엽</th>\n",
              "      <td>50</td>\n",
              "      <td>98</td>\n",
              "      <td>78</td>\n",
              "    </tr>\n",
              "    <tr>\n",
              "      <th>우재</th>\n",
              "      <td>70</td>\n",
              "      <td>98</td>\n",
              "      <td>66</td>\n",
              "    </tr>\n",
              "  </tbody>\n",
              "</table>\n",
              "</div>"
            ],
            "text/plain": [
              "    국어  영어  수학\n",
              "이름            \n",
              "상우  85  85  57\n",
              "동엽  50  98  78\n",
              "우재  70  98  66"
            ]
          },
          "metadata": {
            "tags": []
          },
          "execution_count": 114
        }
      ]
    },
    {
      "cell_type": "code",
      "metadata": {
        "colab": {
          "base_uri": "https://localhost:8080/"
        },
        "id": "F2P_FpTAsD5i",
        "outputId": "9c9304b7-16f0-49b4-b805-06ef97a5a944"
      },
      "source": [
        "df.loc['현정':'동엽'],['국어','과학']"
      ],
      "execution_count": 123,
      "outputs": [
        {
          "output_type": "execute_result",
          "data": {
            "text/plain": [
              "(    국어   수학  영어  과학  사회\n",
              " 이름                     \n",
              " 현정  88   90  89  79  80\n",
              " 문영  90  100  67  92  99\n",
              " 동엽  50   78  98  50  69, ['국어', '과학'])"
            ]
          },
          "metadata": {
            "tags": []
          },
          "execution_count": 123
        }
      ]
    }
  ]
}