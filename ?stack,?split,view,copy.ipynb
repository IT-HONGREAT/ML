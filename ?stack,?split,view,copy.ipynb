{
  "nbformat": 4,
  "nbformat_minor": 0,
  "metadata": {
    "colab": {
      "name": "?stack,?split,view,copy",
      "provenance": [],
      "authorship_tag": "ABX9TyOTZxm4FaDltmN9nZU1TBK4",
      "include_colab_link": true
    },
    "kernelspec": {
      "name": "python3",
      "display_name": "Python 3"
    },
    "language_info": {
      "name": "python"
    }
  },
  "cells": [
    {
      "cell_type": "markdown",
      "metadata": {
        "id": "view-in-github",
        "colab_type": "text"
      },
      "source": [
        "<a href=\"https://colab.research.google.com/github/IT-HONGREAT/studying/blob/main/%3Fstack%2C%3Fsplit%2Cview%2Ccopy.ipynb\" target=\"_parent\"><img src=\"https://colab.research.google.com/assets/colab-badge.svg\" alt=\"Open In Colab\"/></a>"
      ]
    },
    {
      "cell_type": "code",
      "metadata": {
        "colab": {
          "base_uri": "https://localhost:8080/"
        },
        "id": "3bVmOtxgdoeK",
        "outputId": "b039b8b5-6e69-4ff4-e30e-192b80d85179"
      },
      "source": [
        "import numpy as np\n",
        "\n",
        "arr1 = np.array([[1,1],[2,2]])\n",
        "arr2 = np.array([[3,3],[4,4]])\n",
        "\n",
        "arr_vstack = np.vstack((arr1,arr2))\n",
        "\n",
        "print(arr_vstack)"
      ],
      "execution_count": 3,
      "outputs": [
        {
          "output_type": "stream",
          "text": [
            "[[1 1]\n",
            " [2 2]\n",
            " [3 3]\n",
            " [4 4]]\n"
          ],
          "name": "stdout"
        }
      ]
    },
    {
      "cell_type": "code",
      "metadata": {
        "colab": {
          "base_uri": "https://localhost:8080/"
        },
        "id": "-KiumZBHe4oy",
        "outputId": "fd9b4356-1a5a-4ba5-87a5-815bc489f4ef"
      },
      "source": [
        "import numpy as np\n",
        "\n",
        "arr1 = np.array([[1,1],[2,2]])\n",
        "arr2 = np.array([[3,3],[4,4]])\n",
        "\n",
        "arr_hstack = np.hstack((arr1,arr2))\n",
        "\n",
        "print(arr_hstack)\n"
      ],
      "execution_count": 6,
      "outputs": [
        {
          "output_type": "stream",
          "text": [
            "[[1 1 3 3]\n",
            " [2 2 4 4]]\n"
          ],
          "name": "stdout"
        }
      ]
    },
    {
      "cell_type": "code",
      "metadata": {
        "colab": {
          "base_uri": "https://localhost:8080/"
        },
        "id": "ikOAimXAf9N4",
        "outputId": "80547db2-8259-42e0-a347-a15c32f0a2c2"
      },
      "source": [
        "arr = np.arange(1,25).reshape(6,4)\n",
        "print(arr)\n",
        "print()\n",
        "arr1, arr2, arr3 = np.vsplit(arr,3)\n",
        "print(arr1)\n",
        "\n",
        "print(arr2)\n",
        "\n",
        "print(arr3)"
      ],
      "execution_count": 10,
      "outputs": [
        {
          "output_type": "stream",
          "text": [
            "[[ 1  2  3  4]\n",
            " [ 5  6  7  8]\n",
            " [ 9 10 11 12]\n",
            " [13 14 15 16]\n",
            " [17 18 19 20]\n",
            " [21 22 23 24]]\n",
            "\n",
            "[[1 2 3 4]\n",
            " [5 6 7 8]]\n",
            "[[ 9 10 11 12]\n",
            " [13 14 15 16]]\n",
            "[[17 18 19 20]\n",
            " [21 22 23 24]]\n"
          ],
          "name": "stdout"
        }
      ]
    },
    {
      "cell_type": "code",
      "metadata": {
        "colab": {
          "base_uri": "https://localhost:8080/"
        },
        "id": "iDrxRsYigwDl",
        "outputId": "65f1f222-d8f8-4351-b1be-544bb64bad5a"
      },
      "source": [
        "import numpy as np\n",
        "arr = np.arange(1,25).reshape(2,12)\n",
        "print(arr)\n",
        "\n",
        "\n",
        "arr_col1,arr_col2,arr_col3 = np.hsplit(arr,3)\n",
        "\n",
        "print(arr_col1)\n",
        "\n",
        "print(arr_col2)\n",
        "\n",
        "print(arr_col3)"
      ],
      "execution_count": 24,
      "outputs": [
        {
          "output_type": "stream",
          "text": [
            "[[ 1  2  3  4  5  6  7  8  9 10 11 12]\n",
            " [13 14 15 16 17 18 19 20 21 22 23 24]]\n",
            "[[ 1  2  3  4]\n",
            " [13 14 15 16]]\n",
            "[[ 5  6  7  8]\n",
            " [17 18 19 20]]\n",
            "[[ 9 10 11 12]\n",
            " [21 22 23 24]]\n"
          ],
          "name": "stdout"
        }
      ]
    },
    {
      "cell_type": "code",
      "metadata": {
        "colab": {
          "base_uri": "https://localhost:8080/"
        },
        "id": "vH2CkRIviBQY",
        "outputId": "a3d2c1e7-3ceb-42e2-9c4e-4257580090ab"
      },
      "source": [
        "arr1 = np.array([[0,1,2,3],\n",
        "                 [4,5,6,7],\n",
        "                 [8,9,10,11]])\n",
        "\n",
        "arr2 = arr1\n",
        "print(arr2 is arr1)"
      ],
      "execution_count": 28,
      "outputs": [
        {
          "output_type": "stream",
          "text": [
            "True\n"
          ],
          "name": "stdout"
        }
      ]
    },
    {
      "cell_type": "code",
      "metadata": {
        "colab": {
          "base_uri": "https://localhost:8080/"
        },
        "id": "lOxEUhnwiSKL",
        "outputId": "87f2216b-87bc-48ce-ea7b-8d5558aece35"
      },
      "source": [
        "arr1 = np.array([[0,1,2,3],\n",
        "                 [4,5,6,7],\n",
        "                 [8,9,10,11]])\n",
        "\n",
        "arr2 = arr1.view()  \n",
        "#arr.view()  연결되는 다른 복사본을 만든것. 얕은 복사방식!사실 복사본의 개념이라기 보다 해당함수가 어떤 것인지 봐주는 것이라고 생각하자.\n",
        "\n",
        "print(arr1 is arr2)\n",
        "print(arr2)"
      ],
      "execution_count": 45,
      "outputs": [
        {
          "output_type": "stream",
          "text": [
            "False\n",
            "[[ 0  1  2  3]\n",
            " [ 4  5  6  7]\n",
            " [ 8  9 10 11]]\n"
          ],
          "name": "stdout"
        }
      ]
    },
    {
      "cell_type": "code",
      "metadata": {
        "colab": {
          "base_uri": "https://localhost:8080/"
        },
        "id": "TRh7ZemVi8RM",
        "outputId": "16418b8a-11be-47fd-b636-79acfb1de20f"
      },
      "source": [
        "arr1[0] = 999\n",
        "print(arr2)"
      ],
      "execution_count": 39,
      "outputs": [
        {
          "output_type": "stream",
          "text": [
            "[[999 999 999 999]\n",
            " [  4   5   6   7]\n",
            " [  8   9  10  11]]\n"
          ],
          "name": "stdout"
        }
      ]
    },
    {
      "cell_type": "code",
      "metadata": {
        "colab": {
          "base_uri": "https://localhost:8080/"
        },
        "id": "qRfHMxsYjXMN",
        "outputId": "15ccc62b-43e3-4448-dc4f-6c5ba84d2ad5"
      },
      "source": [
        "print(id(arr1))"
      ],
      "execution_count": 42,
      "outputs": [
        {
          "output_type": "stream",
          "text": [
            "140436744571840\n"
          ],
          "name": "stdout"
        }
      ]
    },
    {
      "cell_type": "code",
      "metadata": {
        "colab": {
          "base_uri": "https://localhost:8080/"
        },
        "id": "myAygKjAjZtM",
        "outputId": "5d18988b-1788-4423-ec65-978a1a8c42b1"
      },
      "source": [
        "print(id(arr2))"
      ],
      "execution_count": 46,
      "outputs": [
        {
          "output_type": "stream",
          "text": [
            "140436741913616\n"
          ],
          "name": "stdout"
        }
      ]
    },
    {
      "cell_type": "code",
      "metadata": {
        "colab": {
          "base_uri": "https://localhost:8080/"
        },
        "id": "5n2rwOkAlObq",
        "outputId": "f54e63f2-1866-4ff6-e440-b657601187fd"
      },
      "source": [
        "arr1 = np.array([[0,1,2,3],\n",
        "                 [4,5,6,7],\n",
        "                 [8,9,10,11]])\n",
        "\n",
        "arr2 = arr1.copy()  #깊은 복사 방식으로, 다른 변수에 지정해주는 것이다.\n",
        "print(arr1 is arr2)"
      ],
      "execution_count": 49,
      "outputs": [
        {
          "output_type": "stream",
          "text": [
            "False\n"
          ],
          "name": "stdout"
        }
      ]
    },
    {
      "cell_type": "code",
      "metadata": {
        "colab": {
          "base_uri": "https://localhost:8080/"
        },
        "id": "amtuU6tKlVH4",
        "outputId": "7cb54b40-e210-4a19-f83e-7ca52a74bf65"
      },
      "source": [
        "arr1[0] = 999\n",
        "print(arr1)"
      ],
      "execution_count": 52,
      "outputs": [
        {
          "output_type": "stream",
          "text": [
            "[[999 999 999 999]\n",
            " [  4   5   6   7]\n",
            " [  8   9  10  11]]\n"
          ],
          "name": "stdout"
        }
      ]
    },
    {
      "cell_type": "code",
      "metadata": {
        "colab": {
          "base_uri": "https://localhost:8080/"
        },
        "id": "71TPR4YtlYn7",
        "outputId": "06361573-579e-40b6-994a-a823a230969c"
      },
      "source": [
        "print(arr2)"
      ],
      "execution_count": 53,
      "outputs": [
        {
          "output_type": "stream",
          "text": [
            "[[ 0  1  2  3]\n",
            " [ 4  5  6  7]\n",
            " [ 8  9 10 11]]\n"
          ],
          "name": "stdout"
        }
      ]
    },
    {
      "cell_type": "code",
      "metadata": {
        "colab": {
          "base_uri": "https://localhost:8080/"
        },
        "id": "GDWoLuYhlaaz",
        "outputId": "9dbcf103-7118-4e05-9b12-ef050f63e1bb"
      },
      "source": [
        "print(id(arr1))"
      ],
      "execution_count": 54,
      "outputs": [
        {
          "output_type": "stream",
          "text": [
            "140436742695152\n"
          ],
          "name": "stdout"
        }
      ]
    },
    {
      "cell_type": "code",
      "metadata": {
        "colab": {
          "base_uri": "https://localhost:8080/"
        },
        "id": "phVL5gsLlcpN",
        "outputId": "89df4ea5-2852-42f4-e555-b7df7cbb1bd0"
      },
      "source": [
        "print(id(arr2))"
      ],
      "execution_count": 55,
      "outputs": [
        {
          "output_type": "stream",
          "text": [
            "140436744653280\n"
          ],
          "name": "stdout"
        }
      ]
    }
  ]
}