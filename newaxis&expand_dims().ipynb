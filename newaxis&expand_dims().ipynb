{
  "nbformat": 4,
  "nbformat_minor": 0,
  "metadata": {
    "colab": {
      "name": "newaxis&expand_dims()",
      "provenance": [],
      "authorship_tag": "ABX9TyMl2+9JLhvxAf6qtxE/W6Bl",
      "include_colab_link": true
    },
    "kernelspec": {
      "name": "python3",
      "display_name": "Python 3"
    },
    "language_info": {
      "name": "python"
    }
  },
  "cells": [
    {
      "cell_type": "markdown",
      "metadata": {
        "id": "view-in-github",
        "colab_type": "text"
      },
      "source": [
        "<a href=\"https://colab.research.google.com/github/IT-HONGREAT/studying/blob/main/newaxis%26expand_dims().ipynb\" target=\"_parent\"><img src=\"https://colab.research.google.com/assets/colab-badge.svg\" alt=\"Open In Colab\"/></a>"
      ]
    },
    {
      "cell_type": "code",
      "metadata": {
        "colab": {
          "base_uri": "https://localhost:8080/"
        },
        "id": "MOp5HXcLyygM",
        "outputId": "db2d2e7e-1dd5-4738-b4f0-423857510573"
      },
      "source": [
        "import numpy as np\n",
        "\n",
        "arr = np.array([1,2,3,4,5,6])\n",
        "\n",
        "print(arr.shape)\n",
        "print(arr)\n",
        "print()\n",
        "arr2 = arr[np.newaxis,:]\n",
        "print(arr.shape)\n",
        "print(arr2)\n",
        "print()\n",
        "\n",
        "col_vector = arr[:,np.newaxis]\n",
        "print(col_vector.shape)\n",
        "print(col_vector)"
      ],
      "execution_count": 6,
      "outputs": [
        {
          "output_type": "stream",
          "text": [
            "(6,)\n",
            "[1 2 3 4 5 6]\n",
            "\n",
            "(6,)\n",
            "[[1 2 3 4 5 6]]\n",
            "\n",
            "(6, 1)\n",
            "[[1]\n",
            " [2]\n",
            " [3]\n",
            " [4]\n",
            " [5]\n",
            " [6]]\n"
          ],
          "name": "stdout"
        }
      ]
    },
    {
      "cell_type": "code",
      "metadata": {
        "colab": {
          "base_uri": "https://localhost:8080/"
        },
        "id": "ZdesO2_RzkG1",
        "outputId": "ce7a2eb0-87e9-45e3-d53a-7e02f7836522"
      },
      "source": [
        "arr = np.arange(20).reshape(4,5)\n",
        "print(arr)\n",
        "print()\n",
        "arr = arr[:,np.newaxis]  # 2번째 차원에 새로운 축(차원) 추가\n",
        "print(arr)"
      ],
      "execution_count": 11,
      "outputs": [
        {
          "output_type": "stream",
          "text": [
            "[[ 0  1  2  3  4]\n",
            " [ 5  6  7  8  9]\n",
            " [10 11 12 13 14]\n",
            " [15 16 17 18 19]]\n",
            "\n",
            "[[[ 0  1  2  3  4]]\n",
            "\n",
            " [[ 5  6  7  8  9]]\n",
            "\n",
            " [[10 11 12 13 14]]\n",
            "\n",
            " [[15 16 17 18 19]]]\n"
          ],
          "name": "stdout"
        }
      ]
    },
    {
      "cell_type": "code",
      "metadata": {
        "colab": {
          "base_uri": "https://localhost:8080/"
        },
        "id": "WKSpbI2d0bKh",
        "outputId": "1b2acbfe-ec04-45d3-b97d-8dca93f8665a"
      },
      "source": [
        "arr = np.arange(10,40).reshape(6,5)\n",
        "print(arr)\n",
        "print()\n",
        "arr = arr[np.newaxis,:]   # 1번째 차원에 새로운 축(차원) 추가\n",
        "print(arr)"
      ],
      "execution_count": 14,
      "outputs": [
        {
          "output_type": "stream",
          "text": [
            "[[10 11 12 13 14]\n",
            " [15 16 17 18 19]\n",
            " [20 21 22 23 24]\n",
            " [25 26 27 28 29]\n",
            " [30 31 32 33 34]\n",
            " [35 36 37 38 39]]\n",
            "\n",
            "[[[10 11 12 13 14]\n",
            "  [15 16 17 18 19]\n",
            "  [20 21 22 23 24]\n",
            "  [25 26 27 28 29]\n",
            "  [30 31 32 33 34]\n",
            "  [35 36 37 38 39]]]\n"
          ],
          "name": "stdout"
        }
      ]
    },
    {
      "cell_type": "code",
      "metadata": {
        "colab": {
          "base_uri": "https://localhost:8080/"
        },
        "id": "Q3FFbecp06QD",
        "outputId": "1acde8bf-f159-439d-c060-3d9a4dcbe72d"
      },
      "source": [
        "arr = np.array([[[1],[2],[3]],[[4],[5],[6]]])\n",
        "print((arr.shape))\n",
        "\n",
        "print()\n",
        "\n",
        "arr4 = arr[:, np.newaxis,:,:]\n",
        "print(arr4.shape)"
      ],
      "execution_count": 18,
      "outputs": [
        {
          "output_type": "stream",
          "text": [
            "(2, 3, 1)\n",
            "\n",
            "(2, 1, 3, 1)\n"
          ],
          "name": "stdout"
        }
      ]
    },
    {
      "cell_type": "code",
      "metadata": {
        "colab": {
          "base_uri": "https://localhost:8080/"
        },
        "id": "nsjW8JOW1oGp",
        "outputId": "7c1028bb-dc82-4c59-e484-f7715fe4db15"
      },
      "source": [
        "import numpy as np\n",
        "arr = np.array([1,2,3])\n",
        "print(arr.shape)\n",
        "print()\n",
        "arr2 = np.expand_dims(arr,axis = 0)\n",
        "print(arr2)\n",
        "print(arr2.shape)\n",
        "print()\n",
        "arr3 = np.expand_dims(arr,axis = -1)\n",
        "# arr3 = np.expand_dims(arr3,axis = -1)\n",
        "print(arr3)\n",
        "print(arr3.shape)"
      ],
      "execution_count": 11,
      "outputs": [
        {
          "output_type": "stream",
          "text": [
            "(3,)\n",
            "\n",
            "[[1 2 3]]\n",
            "(1, 3)\n",
            "\n",
            "[[1]\n",
            " [2]\n",
            " [3]]\n",
            "(3, 1)\n"
          ],
          "name": "stdout"
        }
      ]
    },
    {
      "cell_type": "code",
      "metadata": {
        "colab": {
          "base_uri": "https://localhost:8080/"
        },
        "id": "5TmclYQEcR02",
        "outputId": "d8f78a9e-3af1-4e9b-ad3d-2e5dfa756e75"
      },
      "source": [
        "import numpy as np\n",
        "arr = np.arange(3)\n",
        "\n",
        "print(arr)"
      ],
      "execution_count": 4,
      "outputs": [
        {
          "output_type": "stream",
          "text": [
            "[0 1 2]\n"
          ],
          "name": "stdout"
        }
      ]
    },
    {
      "cell_type": "code",
      "metadata": {
        "colab": {
          "base_uri": "https://localhost:8080/"
        },
        "id": "nhznvqH2cfhX",
        "outputId": "977d4e08-7267-4e24-a55d-eecc6c7db3fb"
      },
      "source": [
        "arr1 = arr[:,np.newaxis]\n",
        "print(arr1)"
      ],
      "execution_count": 7,
      "outputs": [
        {
          "output_type": "stream",
          "text": [
            "[[0]\n",
            " [1]\n",
            " [2]]\n"
          ],
          "name": "stdout"
        }
      ]
    },
    {
      "cell_type": "code",
      "metadata": {
        "colab": {
          "base_uri": "https://localhost:8080/"
        },
        "id": "6c5UJCYIcqDP",
        "outputId": "83dbb008-e85d-4569-c477-4a61f54c09d8"
      },
      "source": [
        "arr2 = arr[:,np.newaxis]*arr\n",
        "print(arr2)"
      ],
      "execution_count": 9,
      "outputs": [
        {
          "output_type": "stream",
          "text": [
            "[[0 0 0]\n",
            " [0 1 2]\n",
            " [0 2 4]]\n"
          ],
          "name": "stdout"
        }
      ]
    },
    {
      "cell_type": "code",
      "metadata": {
        "colab": {
          "base_uri": "https://localhost:8080/"
        },
        "id": "isbj9Wm_cyEd",
        "outputId": "c612916a-f182-4c4b-ef00-1f9832ee9c45"
      },
      "source": [
        "arr3 = arr[:,np.newaxis]+arr\n",
        "print(arr3)"
      ],
      "execution_count": 10,
      "outputs": [
        {
          "output_type": "stream",
          "text": [
            "[[0 1 2]\n",
            " [1 2 3]\n",
            " [2 3 4]]\n"
          ],
          "name": "stdout"
        }
      ]
    }
  ]
}