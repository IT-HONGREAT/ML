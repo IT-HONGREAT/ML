{
  "nbformat": 4,
  "nbformat_minor": 0,
  "metadata": {
    "colab": {
      "name": "array_인덱싱/슬라이싱",
      "provenance": [],
      "authorship_tag": "ABX9TyMC7plaBmJtVRQ3Ctx+ye+3",
      "include_colab_link": true
    },
    "kernelspec": {
      "name": "python3",
      "display_name": "Python 3"
    },
    "language_info": {
      "name": "python"
    }
  },
  "cells": [
    {
      "cell_type": "markdown",
      "metadata": {
        "id": "view-in-github",
        "colab_type": "text"
      },
      "source": [
        "<a href=\"https://colab.research.google.com/github/IT-HONGREAT/studying/blob/main/array_%EC%9D%B8%EB%8D%B1%EC%8B%B1_%EC%8A%AC%EB%9D%BC%EC%9D%B4%EC%8B%B1.ipynb\" target=\"_parent\"><img src=\"https://colab.research.google.com/assets/colab-badge.svg\" alt=\"Open In Colab\"/></a>"
      ]
    },
    {
      "cell_type": "code",
      "metadata": {
        "colab": {
          "base_uri": "https://localhost:8080/"
        },
        "id": "s0a1PblYfhMo",
        "outputId": "dbe97888-3f31-4796-dded-a3af0e67e6f3"
      },
      "source": [
        "import numpy as np\n",
        "\n",
        "arr = np.arange(10).reshape(2,5)\n",
        "\n",
        "print(arr)\n",
        "print(arr[0,3])    #[0][3] 과 같지만 []자체가 접근이라는 하나의 동작이기때문에 비효율적.\n",
        "print(arr[1,-1])"
      ],
      "execution_count": 4,
      "outputs": [
        {
          "output_type": "stream",
          "text": [
            "[[0 1 2 3 4]\n",
            " [5 6 7 8 9]]\n",
            "3\n",
            "9\n"
          ],
          "name": "stdout"
        }
      ]
    },
    {
      "cell_type": "code",
      "metadata": {
        "colab": {
          "base_uri": "https://localhost:8080/"
        },
        "id": "IBZ227J5gTXt",
        "outputId": "7ff91946-8905-4a08-fdfa-b9a792bbefcb"
      },
      "source": [
        "arr = np.arange(20).reshape(5,4)\n",
        "\n",
        "print(arr)\n",
        "print(arr[2,3])"
      ],
      "execution_count": 9,
      "outputs": [
        {
          "output_type": "stream",
          "text": [
            "[[ 0  1  2  3]\n",
            " [ 4  5  6  7]\n",
            " [ 8  9 10 11]\n",
            " [12 13 14 15]\n",
            " [16 17 18 19]]\n",
            "11\n"
          ],
          "name": "stdout"
        }
      ]
    },
    {
      "cell_type": "code",
      "metadata": {
        "colab": {
          "base_uri": "https://localhost:8080/"
        },
        "id": "QdV-Av8Ag5C9",
        "outputId": "1c725e70-d191-401b-aace-d8612055f6eb"
      },
      "source": [
        "arr = np.arange(20).reshape(5,4)\n",
        "\n",
        "print(arr)\n",
        "print(arr[0:4,1])"
      ],
      "execution_count": 19,
      "outputs": [
        {
          "output_type": "stream",
          "text": [
            "[[ 0  1  2  3]\n",
            " [ 4  5  6  7]\n",
            " [ 8  9 10 11]\n",
            " [12 13 14 15]\n",
            " [16 17 18 19]]\n",
            "[ 1  5  9 13]\n"
          ],
          "name": "stdout"
        }
      ]
    },
    {
      "cell_type": "code",
      "metadata": {
        "colab": {
          "base_uri": "https://localhost:8080/"
        },
        "id": "SEaj84_vhhQP",
        "outputId": "a92ddb35-a975-4005-921d-a61d0eb6df3a"
      },
      "source": [
        "arr = np.arange(20).reshape(5,4)\n",
        "\n",
        "print(arr)\n",
        "print(arr[0:4,1].reshape(4,1))  #출력을 세로로 하고 싶어서 reshape 을 써봤다."
      ],
      "execution_count": 18,
      "outputs": [
        {
          "output_type": "stream",
          "text": [
            "[[ 0  1  2  3]\n",
            " [ 4  5  6  7]\n",
            " [ 8  9 10 11]\n",
            " [12 13 14 15]\n",
            " [16 17 18 19]]\n",
            "[[ 1]\n",
            " [ 5]\n",
            " [ 9]\n",
            " [13]]\n"
          ],
          "name": "stdout"
        }
      ]
    },
    {
      "cell_type": "code",
      "metadata": {
        "colab": {
          "base_uri": "https://localhost:8080/"
        },
        "id": "tML9ti3xh1pe",
        "outputId": "f09b22f5-a262-4b80-a825-00fcaa965042"
      },
      "source": [
        "arr = np.arange(20).reshape(5,4)\n",
        "\n",
        "print(arr)\n",
        "print(arr[0:2,:])"
      ],
      "execution_count": 21,
      "outputs": [
        {
          "output_type": "stream",
          "text": [
            "[[ 0  1  2  3]\n",
            " [ 4  5  6  7]\n",
            " [ 8  9 10 11]\n",
            " [12 13 14 15]\n",
            " [16 17 18 19]]\n",
            "[[0 1 2 3]\n",
            " [4 5 6 7]]\n"
          ],
          "name": "stdout"
        }
      ]
    },
    {
      "cell_type": "code",
      "metadata": {
        "colab": {
          "base_uri": "https://localhost:8080/"
        },
        "id": "8xoJHpZXiFDp",
        "outputId": "f1d5c305-4757-4ad2-cd9b-9d2d91cd86be"
      },
      "source": [
        "arr = np.arange(42).reshape(6,7)\n",
        "\n",
        "print(arr)\n",
        "print(arr[2,3])\n",
        "print(arr[5,0])\n",
        "print(arr[3,6])\n",
        "print(arr[0,1])\n",
        "\n",
        "print(arr[5,3])\n",
        "print(arr[4,1])\n",
        "print(arr[1,6])\n",
        "print(arr[-1,-1])"
      ],
      "execution_count": 37,
      "outputs": [
        {
          "output_type": "stream",
          "text": [
            "[[ 0  1  2  3  4  5  6]\n",
            " [ 7  8  9 10 11 12 13]\n",
            " [14 15 16 17 18 19 20]\n",
            " [21 22 23 24 25 26 27]\n",
            " [28 29 30 31 32 33 34]\n",
            " [35 36 37 38 39 40 41]]\n",
            "17\n",
            "35\n",
            "27\n",
            "1\n",
            "38\n",
            "29\n",
            "13\n",
            "41\n"
          ],
          "name": "stdout"
        }
      ]
    },
    {
      "cell_type": "code",
      "metadata": {
        "colab": {
          "base_uri": "https://localhost:8080/"
        },
        "id": "H_jJ-LfYi_3E",
        "outputId": "2bd60055-3281-4b44-c6cb-ca8dae489df6"
      },
      "source": [
        "arr = np.arange(42).reshape(6,7)\n",
        "\n",
        "print(arr)\n",
        "print(arr[:,3])\n",
        "print(arr[4,:])\n",
        "print(arr[1,:])\n",
        "print(arr[:,-1])\n",
        "print()\n",
        "print(arr[:,1])\n",
        "print(arr[0,:])\n",
        "print(arr[5,:])\n",
        "print(arr[:,5])"
      ],
      "execution_count": 48,
      "outputs": [
        {
          "output_type": "stream",
          "text": [
            "[[ 0  1  2  3  4  5  6]\n",
            " [ 7  8  9 10 11 12 13]\n",
            " [14 15 16 17 18 19 20]\n",
            " [21 22 23 24 25 26 27]\n",
            " [28 29 30 31 32 33 34]\n",
            " [35 36 37 38 39 40 41]]\n",
            "[ 3 10 17 24 31 38]\n",
            "[28 29 30 31 32 33 34]\n",
            "[ 7  8  9 10 11 12 13]\n",
            "[ 6 13 20 27 34 41]\n",
            "\n",
            "[ 1  8 15 22 29 36]\n",
            "[0 1 2 3 4 5 6]\n",
            "[35 36 37 38 39 40 41]\n",
            "[ 5 12 19 26 33 40]\n"
          ],
          "name": "stdout"
        }
      ]
    },
    {
      "cell_type": "code",
      "metadata": {
        "colab": {
          "base_uri": "https://localhost:8080/"
        },
        "id": "O6Hzlg2Pj5eL",
        "outputId": "71e75e4f-cf47-4f52-f7ad-71aa808009ef"
      },
      "source": [
        "arr = np.arange(42).reshape(6,7)\n",
        "\n",
        "print(arr)\n",
        "print(arr[:,1:4])\n",
        "print(arr[2:5,:])\n",
        "print(arr[1:3,:])\n",
        "print(arr[:,-2:])\n",
        "print()\n",
        "print(arr[:,3:6])\n",
        "print(arr[1:,:])\n",
        "print(arr[:2,:])\n",
        "print(arr[:,1:6])"
      ],
      "execution_count": 58,
      "outputs": [
        {
          "output_type": "stream",
          "text": [
            "[[ 0  1  2  3  4  5  6]\n",
            " [ 7  8  9 10 11 12 13]\n",
            " [14 15 16 17 18 19 20]\n",
            " [21 22 23 24 25 26 27]\n",
            " [28 29 30 31 32 33 34]\n",
            " [35 36 37 38 39 40 41]]\n",
            "[[ 1  2  3]\n",
            " [ 8  9 10]\n",
            " [15 16 17]\n",
            " [22 23 24]\n",
            " [29 30 31]\n",
            " [36 37 38]]\n",
            "[[14 15 16 17 18 19 20]\n",
            " [21 22 23 24 25 26 27]\n",
            " [28 29 30 31 32 33 34]]\n",
            "[[ 7  8  9 10 11 12 13]\n",
            " [14 15 16 17 18 19 20]]\n",
            "[[ 5  6]\n",
            " [12 13]\n",
            " [19 20]\n",
            " [26 27]\n",
            " [33 34]\n",
            " [40 41]]\n",
            "\n",
            "[[ 3  4  5]\n",
            " [10 11 12]\n",
            " [17 18 19]\n",
            " [24 25 26]\n",
            " [31 32 33]\n",
            " [38 39 40]]\n",
            "[[ 7  8  9 10 11 12 13]\n",
            " [14 15 16 17 18 19 20]\n",
            " [21 22 23 24 25 26 27]\n",
            " [28 29 30 31 32 33 34]\n",
            " [35 36 37 38 39 40 41]]\n",
            "[[ 0  1  2  3  4  5  6]\n",
            " [ 7  8  9 10 11 12 13]]\n",
            "[[ 1  2  3  4  5]\n",
            " [ 8  9 10 11 12]\n",
            " [15 16 17 18 19]\n",
            " [22 23 24 25 26]\n",
            " [29 30 31 32 33]\n",
            " [36 37 38 39 40]]\n"
          ],
          "name": "stdout"
        }
      ]
    },
    {
      "cell_type": "code",
      "metadata": {
        "colab": {
          "base_uri": "https://localhost:8080/"
        },
        "id": "FYX9Wa5IlOQE",
        "outputId": "164d7593-ab25-4897-f020-d9bba70c689f"
      },
      "source": [
        "arr = np.arange(42).reshape(6,7)\n",
        "\n",
        "print(arr)\n",
        "print(arr[-2:,3:5])\n",
        "print(arr[1:,5:7])\n",
        "print(arr[1:4,2:5])\n",
        "print(arr[1:4,:3])"
      ],
      "execution_count": 63,
      "outputs": [
        {
          "output_type": "stream",
          "text": [
            "[[ 0  1  2  3  4  5  6]\n",
            " [ 7  8  9 10 11 12 13]\n",
            " [14 15 16 17 18 19 20]\n",
            " [21 22 23 24 25 26 27]\n",
            " [28 29 30 31 32 33 34]\n",
            " [35 36 37 38 39 40 41]]\n",
            "[[31 32]\n",
            " [38 39]]\n",
            "[[12 13]\n",
            " [19 20]\n",
            " [26 27]\n",
            " [33 34]\n",
            " [40 41]]\n",
            "[[ 9 10 11]\n",
            " [16 17 18]\n",
            " [23 24 25]]\n",
            "[[ 7  8  9]\n",
            " [14 15 16]\n",
            " [21 22 23]]\n"
          ],
          "name": "stdout"
        }
      ]
    },
    {
      "cell_type": "code",
      "metadata": {
        "colab": {
          "base_uri": "https://localhost:8080/"
        },
        "id": "oEDyr4mtmCTB",
        "outputId": "68ba04fc-da2b-4a80-8d6a-6fc175acc024"
      },
      "source": [
        "arr = np.arange(50).reshape(2,5,5)  #3차원 배열을 만드는 reshape 꼭 기억해둘것.\n",
        "\n",
        "print(arr)\n",
        "print(arr[0,2,:])\n",
        "print(arr[1,:,-1])\n",
        "print()\n",
        "print(arr[1,:3,:])\n",
        "print(arr[0,:,2:4])\n",
        "print()\n",
        "print(arr[0,1:4,1:3])\n",
        "print(arr[1,1:-1,:4])\n",
        "print()\n",
        "print(arr[:,:2,2:4])\n",
        "print(arr[:,2:,1:4])\n"
      ],
      "execution_count": 74,
      "outputs": [
        {
          "output_type": "stream",
          "text": [
            "[[[ 0  1  2  3  4]\n",
            "  [ 5  6  7  8  9]\n",
            "  [10 11 12 13 14]\n",
            "  [15 16 17 18 19]\n",
            "  [20 21 22 23 24]]\n",
            "\n",
            " [[25 26 27 28 29]\n",
            "  [30 31 32 33 34]\n",
            "  [35 36 37 38 39]\n",
            "  [40 41 42 43 44]\n",
            "  [45 46 47 48 49]]]\n",
            "[10 11 12 13 14]\n",
            "[29 34 39 44 49]\n",
            "\n",
            "[[25 26 27 28 29]\n",
            " [30 31 32 33 34]\n",
            " [35 36 37 38 39]]\n",
            "[[ 2  3]\n",
            " [ 7  8]\n",
            " [12 13]\n",
            " [17 18]\n",
            " [22 23]]\n",
            "\n",
            "[[ 6  7]\n",
            " [11 12]\n",
            " [16 17]]\n",
            "[[30 31 32 33]\n",
            " [35 36 37 38]\n",
            " [40 41 42 43]]\n",
            "\n",
            "[[[ 2  3]\n",
            "  [ 7  8]]\n",
            "\n",
            " [[27 28]\n",
            "  [32 33]]]\n",
            "[[[11 12 13]\n",
            "  [16 17 18]\n",
            "  [21 22 23]]\n",
            "\n",
            " [[36 37 38]\n",
            "  [41 42 43]\n",
            "  [46 47 48]]]\n"
          ],
          "name": "stdout"
        }
      ]
    },
    {
      "cell_type": "code",
      "metadata": {
        "id": "GsaPOWhtm57Y"
      },
      "source": [
        ""
      ],
      "execution_count": null,
      "outputs": []
    }
  ]
}