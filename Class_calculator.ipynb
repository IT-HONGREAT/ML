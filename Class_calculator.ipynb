{
  "nbformat": 4,
  "nbformat_minor": 0,
  "metadata": {
    "colab": {
      "name": "Class_calculator ",
      "provenance": [],
      "collapsed_sections": [],
      "authorship_tag": "ABX9TyPUqnhDmJprLqUT3UJtNJzx",
      "include_colab_link": true
    },
    "kernelspec": {
      "name": "python3",
      "display_name": "Python 3"
    },
    "language_info": {
      "name": "python"
    }
  },
  "cells": [
    {
      "cell_type": "markdown",
      "metadata": {
        "id": "view-in-github",
        "colab_type": "text"
      },
      "source": [
        "<a href=\"https://colab.research.google.com/github/IT-HONGREAT/studying/blob/main/Class_calculator.ipynb\" target=\"_parent\"><img src=\"https://colab.research.google.com/assets/colab-badge.svg\" alt=\"Open In Colab\"/></a>"
      ]
    },
    {
      "cell_type": "code",
      "metadata": {
        "colab": {
          "base_uri": "https://localhost:8080/"
        },
        "id": "IDTks-uvKSVd",
        "outputId": "1efe3150-6a8f-4395-b23e-19ace377c8b7"
      },
      "source": [
        "class calculator:\n",
        "\n",
        "  #생성자\n",
        "\n",
        "  def __init__(self, num1, num2):\n",
        "\n",
        "    self.num1 = num1\n",
        "    self.num2 = num2\n",
        "    print(\"init is operated!\")\n",
        "\n",
        "  def add(self):\n",
        "    num_result = self.num1 + self.num2\n",
        "    return num_result\n",
        "  def sub(self):\n",
        "    num_result = self.num1 - self.num2\n",
        "    return num_result\n",
        "\n",
        "a = calculator(5,6)\n",
        "result = a.add()\n",
        "a.sub()\n",
        "print(result)\n",
        "print(a.num2)\n"
      ],
      "execution_count": null,
      "outputs": [
        {
          "output_type": "stream",
          "text": [
            "init is operated!\n",
            "11\n",
            "6\n"
          ],
          "name": "stdout"
        }
      ]
    }
  ]
}