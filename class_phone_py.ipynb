{
  "nbformat": 4,
  "nbformat_minor": 0,
  "metadata": {
    "colab": {
      "name": "class_phone.py",
      "provenance": [],
      "collapsed_sections": [],
      "authorship_tag": "ABX9TyMfIV2QMcILUWYHmuxsTdbh",
      "include_colab_link": true
    },
    "kernelspec": {
      "name": "python3",
      "display_name": "Python 3"
    },
    "language_info": {
      "name": "python"
    }
  },
  "cells": [
    {
      "cell_type": "markdown",
      "metadata": {
        "id": "view-in-github",
        "colab_type": "text"
      },
      "source": [
        "<a href=\"https://colab.research.google.com/github/IT-HONGREAT/studying/blob/main/class_phone_py.ipynb\" target=\"_parent\"><img src=\"https://colab.research.google.com/assets/colab-badge.svg\" alt=\"Open In Colab\"/></a>"
      ]
    },
    {
      "cell_type": "code",
      "metadata": {
        "id": "WOrJ-jAKuSDA",
        "colab": {
          "base_uri": "https://localhost:8080/"
        },
        "outputId": "44dfbed0-c6eb-4ada-df6b-11f8e186f8ca"
      },
      "source": [
        "class Phone:   #일반전화기를 표현한 클래스\n",
        "\n",
        "    def __init__(self,**kwargs):\n",
        "        self.number = kwargs['number']\n",
        "        self.user = kwargs['user']\n",
        "        self.company = kwargs['company']\n",
        "        self.model = kwargs['model']\n",
        "\n",
        "    def on(self):\n",
        "        print(f\"안녕하세요{self.user}! 번호는{self.number}이고, 저희는{self.company}입니다\")\n",
        "\n",
        "class Smartphone(Phone):   #스마트폰 클래스\n",
        "\n",
        "    def __init__(self,**kwargs):\n",
        "        super().__init__(**kwargs)\n",
        "        self.os = kwargs['os']\n",
        "        print(f\"we are {self.os}\")\n",
        "\n",
        "    def on(self):     #os와 lte내용 추가\n",
        "        print(\"전원을 켭니다!\")\n",
        "        print(f\"안녕하세요{self.user}! 번호는{self.number}이고, 저희는{self.company}입니다.\\nwelcome {self.os} world!!\")\n",
        "        print(\"lte 접속합니다\")\n",
        "\n",
        "\n",
        "    def export_data(self):     #위의 클래스들의 주요 정보들을 텍스트파일에 쓰는기능,즉 내보내는 기능\n",
        "        with open('phone_info.txt','w',encoding='utf-8') as f:\n",
        "\n",
        "            f.write(f'user={self.user}\\n')\n",
        "            f.write(f'number={self.number}\\n')\n",
        "            f.write(f'company={self.company}\\n')\n",
        "            f.write(f'model={self.model}\\n')\n",
        "            f.write(f'os={self.os}\\n')\n",
        "\n",
        "    def import_data(self,path):    #텍스트 파일을 가져와서 읽는 기능\n",
        "\n",
        "        data = {}\n",
        "        with open(path,'r',encoding='utf-8') as f:\n",
        "            for line in f.readlines():\n",
        "                key,value = tuple(line.split('='))\n",
        "                data[key] = value.replace('\\n','')\n",
        "\n",
        "\n",
        "        self.user = data['user']\n",
        "        self.number = data['number']\n",
        "        self.company = data['company']\n",
        "        self.model = data['model']\n",
        "        self.os = data['os']\n",
        "\n",
        "\n",
        "a = Smartphone(number='01094802331',user='인영',company='kt',os='Android',model='galaxy8+')\n",
        "\n",
        "a.export_data()\n",
        "a.import_data('phone_info.txt')\n",
        "a.on()"
      ],
      "execution_count": 18,
      "outputs": [
        {
          "output_type": "stream",
          "text": [
            "we are Android\n",
            "전원을 켭니다!\n",
            "안녕하세요인영! 번호는01094802331이고, 저희는kt입니다.\n",
            "welcome Android world!!\n",
            "lte 접속합니다\n"
          ],
          "name": "stdout"
        }
      ]
    }
  ]
}