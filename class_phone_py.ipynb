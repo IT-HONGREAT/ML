{
  "nbformat": 4,
  "nbformat_minor": 0,
  "metadata": {
    "colab": {
      "name": "class_phone.py",
      "provenance": [],
      "collapsed_sections": [],
      "authorship_tag": "ABX9TyMQ8QEqenXALOLiNN/Q4d+M",
      "include_colab_link": true
    },
    "kernelspec": {
      "name": "python3",
      "display_name": "Python 3"
    },
    "language_info": {
      "name": "python"
    }
  },
  "cells": [
    {
      "cell_type": "markdown",
      "metadata": {
        "id": "view-in-github",
        "colab_type": "text"
      },
      "source": [
        "<a href=\"https://colab.research.google.com/github/IT-HONGREAT/studying/blob/main/class_phone_py.ipynb\" target=\"_parent\"><img src=\"https://colab.research.google.com/assets/colab-badge.svg\" alt=\"Open In Colab\"/></a>"
      ]
    },
    {
      "cell_type": "code",
      "metadata": {
        "id": "WOrJ-jAKuSDA",
        "colab": {
          "base_uri": "https://localhost:8080/"
        },
        "outputId": "e2619b7a-c9f4-4341-ccf6-43adba5cea4c"
      },
      "source": [
        "class Phone:\n",
        "\n",
        "    def __init__(self,**kwargs):\n",
        "        self.number = kwargs['number']\n",
        "        self.user = kwargs['user']\n",
        "        self.company = kwargs['company']\n",
        "        self.model = kwargs['model']\n",
        "\n",
        "    def on(self):\n",
        "        print(f\"안녕하세요{self.user}! 번호는{self.number}이고, 저희는{self.company}입니다\")\n",
        "\n",
        "        # print(self.user,self.number,self.company)\n",
        "\n",
        "    # def call(self):\n",
        "class Smartphone(Phone):\n",
        "\n",
        "    def __init__(self,**kwargs):\n",
        "        super().__init__(**kwargs)\n",
        "        self.os = kwargs['os']\n",
        "        print(f\"we are {self.os}\")\n",
        "\n",
        "    def on(self):\n",
        "        print(f\"안녕하세요{self.user}! 번호는{self.number}이고, 저희는{self.company}입니다.당신의 os는 {self.os} 입니다.\")\n",
        "        print(\"lte 접속\")\n",
        "\n",
        "# first = Phone(number='01012345678',user='인영',company='kt',model='galaxy8+')\n",
        "# 안먹히는듯..first\n",
        "\n",
        "a = Smartphone(number='01012345678',user='인영',company='kt',model='galaxy8+',os='ios')\n",
        "a.on()\n"
      ],
      "execution_count": null,
      "outputs": [
        {
          "output_type": "stream",
          "text": [
            "we are ios\n",
            "안녕하세요인영! 번호는01012345678이고, 저희는kt입니다.당신의 os는 ios 입니다.\n",
            "lte 접속\n"
          ],
          "name": "stdout"
        }
      ]
    }
  ]
}