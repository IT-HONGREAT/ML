{
  "nbformat": 4,
  "nbformat_minor": 0,
  "metadata": {
    "colab": {
      "name": "randint,unique",
      "provenance": [],
      "authorship_tag": "ABX9TyOV0+DCSko/1Rhru/i8XYWK",
      "include_colab_link": true
    },
    "kernelspec": {
      "name": "python3",
      "display_name": "Python 3"
    },
    "language_info": {
      "name": "python"
    }
  },
  "cells": [
    {
      "cell_type": "markdown",
      "metadata": {
        "id": "view-in-github",
        "colab_type": "text"
      },
      "source": [
        "<a href=\"https://colab.research.google.com/github/IT-HONGREAT/studying/blob/main/randint%2Cunique.ipynb\" target=\"_parent\"><img src=\"https://colab.research.google.com/assets/colab-badge.svg\" alt=\"Open In Colab\"/></a>"
      ]
    },
    {
      "cell_type": "code",
      "metadata": {
        "colab": {
          "base_uri": "https://localhost:8080/"
        },
        "id": "nYOGsHKp3LL9",
        "outputId": "9ea48100-3028-44db-ce12-529b8d1e5a01"
      },
      "source": [
        "import numpy as np\n",
        "\n",
        "print(np.random.randint(2,size = 10))\n",
        "\n",
        "print(np.random.randint(45,size=(5,5,5)))\n",
        "# num = np.random.randint(45,size=(5,5,5))\n"
      ],
      "execution_count": 8,
      "outputs": [
        {
          "output_type": "stream",
          "text": [
            "[1 0 1 1 0 1 1 1 0 0]\n",
            "[[[16 18 31  4 40]\n",
            "  [11 12  3 39 14]\n",
            "  [33 32 15 26 22]\n",
            "  [27  7 40 39 37]\n",
            "  [28  6 33 12 26]]\n",
            "\n",
            " [[ 2  8 19 44  1]\n",
            "  [20 12 10  1 44]\n",
            "  [ 6  9  1  1 40]\n",
            "  [11 12  8 20 34]\n",
            "  [24 23 11  8 28]]\n",
            "\n",
            " [[12 33 20 34 31]\n",
            "  [21 10  0 34 19]\n",
            "  [30 13 24 32 25]\n",
            "  [39 39 44 17 18]\n",
            "  [41 27 23 22 34]]\n",
            "\n",
            " [[41  6 29 14 32]\n",
            "  [34 40  3 21 15]\n",
            "  [20 39 37 43 30]\n",
            "  [11 40 28 12 36]\n",
            "  [27  6 29 41 39]]\n",
            "\n",
            " [[12 15  5 37 42]\n",
            "  [16  8 29 25 12]\n",
            "  [40 33 38 40 19]\n",
            "  [20 23  7  9 14]\n",
            "  [29 41  6 39 15]]]\n"
          ],
          "name": "stdout"
        }
      ]
    },
    {
      "cell_type": "code",
      "metadata": {
        "colab": {
          "base_uri": "https://localhost:8080/"
        },
        "id": "MVIJqmMB4BmT",
        "outputId": "1c7184f2-baf1-488a-e7ab-cae81fc51de5"
      },
      "source": [
        "print(np.random.rand(3,2))"
      ],
      "execution_count": 14,
      "outputs": [
        {
          "output_type": "stream",
          "text": [
            "[[0.28118944 0.97771374]\n",
            " [0.12330473 0.57694519]\n",
            " [0.04199513 0.97185453]]\n"
          ],
          "name": "stdout"
        }
      ]
    },
    {
      "cell_type": "code",
      "metadata": {
        "colab": {
          "base_uri": "https://localhost:8080/"
        },
        "id": "BhnfgTu54tWc",
        "outputId": "c2c70b5d-b7be-4581-b677-11012889af48"
      },
      "source": [
        "print(np.random.randn(2,4))"
      ],
      "execution_count": 16,
      "outputs": [
        {
          "output_type": "stream",
          "text": [
            "[[ 0.38227093 -0.6605199   0.13790328  1.28365562]\n",
            " [-1.2077721  -2.19351542  0.97413872 -0.56122842]]\n"
          ],
          "name": "stdout"
        }
      ]
    },
    {
      "cell_type": "code",
      "metadata": {
        "colab": {
          "base_uri": "https://localhost:8080/"
        },
        "id": "qymMPwLW5QRE",
        "outputId": "12bf07ed-83db-4652-e730-3a9d263d6171"
      },
      "source": [
        "arr = np.arange(10)\n",
        "print(arr)\n",
        "np.random.shuffle(arr)\n",
        "print(arr)\n",
        "#셔플은 첫번째 축을 기준으로만 섞는다\n",
        "\n",
        "arr = np.arange(9).reshape((3,3))\n",
        "print(arr)\n",
        "np.random.shuffle(arr)\n",
        "print(arr)\n",
        "#전체가 뒤죽박죽으로 섞인 걸 원한다면, 처음에 셔플을 돌리고 reshape을 하자."
      ],
      "execution_count": 21,
      "outputs": [
        {
          "output_type": "stream",
          "text": [
            "[0 1 2 3 4 5 6 7 8 9]\n",
            "[3 5 7 2 8 9 1 6 0 4]\n",
            "[[0 1 2]\n",
            " [3 4 5]\n",
            " [6 7 8]]\n",
            "[[0 1 2]\n",
            " [3 4 5]\n",
            " [6 7 8]]\n"
          ],
          "name": "stdout"
        }
      ]
    },
    {
      "cell_type": "code",
      "metadata": {
        "colab": {
          "base_uri": "https://localhost:8080/"
        },
        "id": "4vwC0rdF6i4t",
        "outputId": "f7fc968e-a3fe-444c-f0f9-c4279c9b6e20"
      },
      "source": [
        "print(np.random.choice(5,3,p = [0.1,0,0.3,0.6,0]))\n",
        "\n",
        "zoo = ['lion','elephant','monkey']\n",
        "print(np.random.choice(zoo,5,p=[0.5,0.1,0.4]))"
      ],
      "execution_count": 33,
      "outputs": [
        {
          "output_type": "stream",
          "text": [
            "[2 3 2]\n",
            "['lion' 'monkey' 'lion' 'monkey' 'monkey']\n"
          ],
          "name": "stdout"
        }
      ]
    },
    {
      "cell_type": "code",
      "metadata": {
        "colab": {
          "base_uri": "https://localhost:8080/"
        },
        "id": "IRYFgTj-7haa",
        "outputId": "f6257b3f-5ab1-42ef-8d00-f39f5daee78e"
      },
      "source": [
        "arr = np.array([11,11,12,13,14,15,16,17,12,13,11,14,18,19,20])\n",
        "unique_values = np.unique(arr)\n",
        "print(unique_values)\n",
        "\n",
        "unique_values = np.unique(arr,return_index=True)  #중복된 값을 제거한 배열에서 각 값이 원래배열에서 처음 나타난 위치 \n",
        "print(unique_values)\n",
        "\n",
        "\n",
        "unique_values = np.unique(arr,return_inverse=True)  #각 값의 위치\n",
        "print(unique_values)\n",
        "\n",
        "\n",
        "unique_values = np.unique(arr,return_counts=True) #각 값이 나타나는 횟수\n",
        "print(unique_values)"
      ],
      "execution_count": 45,
      "outputs": [
        {
          "output_type": "stream",
          "text": [
            "[11 12 13 14 15 16 17 18 19 20]\n",
            "(array([11, 12, 13, 14, 15, 16, 17, 18, 19, 20]), array([ 0,  2,  3,  4,  5,  6,  7, 12, 13, 14]))\n",
            "(array([11, 12, 13, 14, 15, 16, 17, 18, 19, 20]), array([0, 0, 1, 2, 3, 4, 5, 6, 1, 2, 0, 3, 7, 8, 9]))\n",
            "(array([11, 12, 13, 14, 15, 16, 17, 18, 19, 20]), array([3, 2, 2, 2, 1, 1, 1, 1, 1, 1]))\n"
          ],
          "name": "stdout"
        }
      ]
    },
    {
      "cell_type": "code",
      "metadata": {
        "colab": {
          "base_uri": "https://localhost:8080/"
        },
        "id": "IANh1yC2-UwS",
        "outputId": "2b5918ae-88b9-43d3-e9af-df9d0ea78625"
      },
      "source": [
        "arr = np.arange(4).reshape((2,2))\n",
        "print(arr)"
      ],
      "execution_count": 48,
      "outputs": [
        {
          "output_type": "stream",
          "text": [
            "[[0 1]\n",
            " [2 3]]\n"
          ],
          "name": "stdout"
        }
      ]
    },
    {
      "cell_type": "code",
      "metadata": {
        "colab": {
          "base_uri": "https://localhost:8080/"
        },
        "id": "vMdRVqGk-a7j",
        "outputId": "7e543b06-04e8-4264-c397-a4915645123c"
      },
      "source": [
        "print(np.transpose(arr))  #행렬의 전치"
      ],
      "execution_count": 50,
      "outputs": [
        {
          "output_type": "stream",
          "text": [
            "[[0 2]\n",
            " [1 3]]\n"
          ],
          "name": "stdout"
        }
      ]
    },
    {
      "cell_type": "code",
      "metadata": {
        "colab": {
          "base_uri": "https://localhost:8080/"
        },
        "id": "YniPdZ0I-ipf",
        "outputId": "d473135b-534e-466b-bc06-d21c9dbd7717"
      },
      "source": [
        "arr = np.ones((1,2,3))\n",
        "print(arr)\n",
        "print(np.transpose(arr,(1,0,2)).shape)"
      ],
      "execution_count": 53,
      "outputs": [
        {
          "output_type": "stream",
          "text": [
            "[[[1. 1. 1.]\n",
            "  [1. 1. 1.]]]\n",
            "(2, 1, 3)\n"
          ],
          "name": "stdout"
        }
      ]
    },
    {
      "cell_type": "code",
      "metadata": {
        "colab": {
          "base_uri": "https://localhost:8080/"
        },
        "id": "bi3Q9N6SAiao",
        "outputId": "404d2e39-4d87-4b98-f547-194d2857081d"
      },
      "source": [
        "#transpose() 와 동일한 ndarray.T\n",
        "\n",
        "arr = np.array([[1.,2.],[3.,4.]])\n",
        "print(arr)\n",
        "\n",
        "print(arr.T)"
      ],
      "execution_count": 57,
      "outputs": [
        {
          "output_type": "stream",
          "text": [
            "[[1. 2.]\n",
            " [3. 4.]]\n",
            "[[1. 3.]\n",
            " [2. 4.]]\n"
          ],
          "name": "stdout"
        }
      ]
    },
    {
      "cell_type": "code",
      "metadata": {
        "colab": {
          "base_uri": "https://localhost:8080/"
        },
        "id": "sULl60g2A8cN",
        "outputId": "2348a7bb-3993-4a71-bf7a-c3dfefef437c"
      },
      "source": [
        "arr = np.array([1.,2.,3.,4.])\n",
        "print(arr)"
      ],
      "execution_count": 59,
      "outputs": [
        {
          "output_type": "stream",
          "text": [
            "[1. 2. 3. 4.]\n"
          ],
          "name": "stdout"
        }
      ]
    },
    {
      "cell_type": "code",
      "metadata": {
        "colab": {
          "base_uri": "https://localhost:8080/"
        },
        "id": "_sjQGustBDWY",
        "outputId": "7e19d938-d3f0-4218-8c47-592acfddb663"
      },
      "source": [
        "arr = np.array([[1.,2.,3.,4.]])\n",
        "print(arr.T)"
      ],
      "execution_count": 61,
      "outputs": [
        {
          "output_type": "stream",
          "text": [
            "[[1.]\n",
            " [2.]\n",
            " [3.]\n",
            " [4.]]\n"
          ],
          "name": "stdout"
        }
      ]
    }
  ]
}