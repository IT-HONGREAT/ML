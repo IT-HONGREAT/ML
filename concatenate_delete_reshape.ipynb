{
  "nbformat": 4,
  "nbformat_minor": 0,
  "metadata": {
    "colab": {
      "name": "concatenate/delete/reshape",
      "provenance": [],
      "authorship_tag": "ABX9TyNdinmNhBNcAANz9EoBIKes",
      "include_colab_link": true
    },
    "kernelspec": {
      "name": "python3",
      "display_name": "Python 3"
    },
    "language_info": {
      "name": "python"
    }
  },
  "cells": [
    {
      "cell_type": "markdown",
      "metadata": {
        "id": "view-in-github",
        "colab_type": "text"
      },
      "source": [
        "<a href=\"https://colab.research.google.com/github/IT-HONGREAT/studying/blob/main/concatenate_delete_reshape.ipynb\" target=\"_parent\"><img src=\"https://colab.research.google.com/assets/colab-badge.svg\" alt=\"Open In Colab\"/></a>"
      ]
    },
    {
      "cell_type": "code",
      "metadata": {
        "colab": {
          "base_uri": "https://localhost:8080/"
        },
        "id": "nfnZ3eM5CccX",
        "outputId": "22d8f6cb-d1ea-4d8d-cad3-1ecc55fee4ae"
      },
      "source": [
        "import numpy as np\n",
        "\n",
        "arr1 = np.array([[[19,17,10,8,3],\n",
        "                 [5,12,9,0,1]]\n",
        "                 ,\n",
        "                 [[11,6,16,15,14],\n",
        "                 [4,2,13,18,7]\n",
        "                 ]])\n",
        "arr2 = np.array([[[13,1,7,3],\n",
        "                 [15,5,2,14]]\n",
        "                 ,\n",
        "                 [[4,12,11,10],\n",
        "                 [8,6,9,0]]])\n",
        "\n",
        "a = np.concatenate((arr1,arr2),axis = 2)\n",
        "\n",
        "print(a)\n"
      ],
      "execution_count": 25,
      "outputs": [
        {
          "output_type": "stream",
          "text": [
            "[[[19 17 10  8  3 13  1  7  3]\n",
            "  [ 5 12  9  0  1 15  5  2 14]]\n",
            "\n",
            " [[11  6 16 15 14  4 12 11 10]\n",
            "  [ 4  2 13 18  7  8  6  9  0]]]\n"
          ],
          "name": "stdout"
        }
      ]
    },
    {
      "cell_type": "code",
      "metadata": {
        "colab": {
          "base_uri": "https://localhost:8080/"
        },
        "id": "rhJaFt8THQbW",
        "outputId": "d590a8b8-a72f-4d6f-e73f-4815f94e49a2"
      },
      "source": [
        "import numpy as np\n",
        "\n",
        "arr1 = np.zeros((3,5,4))\n",
        "arr2 = np.zeros((3,5,1))\n",
        "\n",
        "a = np.concatenate((arr1,arr2),axis = 2)\n",
        "\n",
        "print(a)\n"
      ],
      "execution_count": 32,
      "outputs": [
        {
          "output_type": "stream",
          "text": [
            "[[[0. 0. 0. 0. 0.]\n",
            "  [0. 0. 0. 0. 0.]\n",
            "  [0. 0. 0. 0. 0.]\n",
            "  [0. 0. 0. 0. 0.]\n",
            "  [0. 0. 0. 0. 0.]]\n",
            "\n",
            " [[0. 0. 0. 0. 0.]\n",
            "  [0. 0. 0. 0. 0.]\n",
            "  [0. 0. 0. 0. 0.]\n",
            "  [0. 0. 0. 0. 0.]\n",
            "  [0. 0. 0. 0. 0.]]\n",
            "\n",
            " [[0. 0. 0. 0. 0.]\n",
            "  [0. 0. 0. 0. 0.]\n",
            "  [0. 0. 0. 0. 0.]\n",
            "  [0. 0. 0. 0. 0.]\n",
            "  [0. 0. 0. 0. 0.]]]\n"
          ],
          "name": "stdout"
        }
      ]
    },
    {
      "cell_type": "code",
      "metadata": {
        "id": "FrkqBycVKSUz"
      },
      "source": [
        "import numpy as np\n",
        "from PIL import Image\n",
        "\n",
        "img = np.asarray(Image.open('lena.png'))\n",
        "\n",
        "img = img.copy()\n",
        "img2 = img.copy()\n",
        "\n",
        "img = np.concatenate((img,img2),1)\n",
        "\n",
        "img = Image.fromarray(img, 'RGB')\n",
        "img.save('out.png')\n",
        "\n"
      ],
      "execution_count": 35,
      "outputs": []
    },
    {
      "cell_type": "code",
      "metadata": {
        "colab": {
          "base_uri": "https://localhost:8080/"
        },
        "id": "bHLgNzqUQL50",
        "outputId": "0360095a-cff9-4e56-e168-c0f996093046"
      },
      "source": [
        "arr = np.array([[[1,4,20,23,28],\n",
        "                [13,8,24,21,5]]\n",
        "                ,\n",
        "               [[25,29,26,18,2],\n",
        "                [14,27,9,10,3]],\n",
        "\n",
        "               [[21,29,26,18,2],\n",
        "                [13,27,9,10,3]]])\n",
        "\n",
        "\n",
        "arr = np.delete(arr,(0,1),2)\n",
        "\n",
        "\n",
        "print(arr)"
      ],
      "execution_count": 59,
      "outputs": [
        {
          "output_type": "stream",
          "text": [
            "[[[20 23 28]\n",
            "  [24 21  5]]\n",
            "\n",
            " [[26 18  2]\n",
            "  [ 9 10  3]]\n",
            "\n",
            " [[26 18  2]\n",
            "  [ 9 10  3]]]\n"
          ],
          "name": "stdout"
        }
      ]
    },
    {
      "cell_type": "code",
      "metadata": {
        "colab": {
          "base_uri": "https://localhost:8080/"
        },
        "id": "YzjYViw3WV9h",
        "outputId": "fea56517-9d89-4e2e-a728-ea52a088833e"
      },
      "source": [
        "array_example = np.array([[[0,1,2,3,4],\n",
        "                          [5,6,7,8,9]],\n",
        "                          \n",
        "                          [[10,11,12,13,14],\n",
        "                          [10,11,12,13,14]]])\n",
        "\n",
        "array_example.ndim #차원 수를 표현"
      ],
      "execution_count": 62,
      "outputs": [
        {
          "output_type": "execute_result",
          "data": {
            "text/plain": [
              "3"
            ]
          },
          "metadata": {
            "tags": []
          },
          "execution_count": 62
        }
      ]
    },
    {
      "cell_type": "code",
      "metadata": {
        "colab": {
          "base_uri": "https://localhost:8080/"
        },
        "id": "7He4XfxJXC5U",
        "outputId": "39d41f95-90f8-4dab-926b-76f19feef352"
      },
      "source": [
        "array_example = np.array([[[0,1,2,3,4],\n",
        "                          [5,6,7,8,9]],\n",
        "                          \n",
        "                          [[10,11,12,13,14],\n",
        "                          [10,11,12,13,14]]])\n",
        "\n",
        "array_example.size   #총 원소수 배열 shape 곱하면 됨."
      ],
      "execution_count": 63,
      "outputs": [
        {
          "output_type": "execute_result",
          "data": {
            "text/plain": [
              "20"
            ]
          },
          "metadata": {
            "tags": []
          },
          "execution_count": 63
        }
      ]
    },
    {
      "cell_type": "code",
      "metadata": {
        "colab": {
          "base_uri": "https://localhost:8080/"
        },
        "id": "h2Ri2rkDXLs9",
        "outputId": "a3265642-cd77-456a-c380-06993b1a81f7"
      },
      "source": [
        "array_example = np.array([[[0,1,2,3,4],\n",
        "                          [5,6,7,8,9]],\n",
        "                          \n",
        "                          [[10,11,12,13,14],\n",
        "                          [10,11,12,13,14]]])\n",
        "\n",
        "array_example.shape #배열 모양알려줌"
      ],
      "execution_count": 64,
      "outputs": [
        {
          "output_type": "execute_result",
          "data": {
            "text/plain": [
              "(2, 2, 5)"
            ]
          },
          "metadata": {
            "tags": []
          },
          "execution_count": 64
        }
      ]
    },
    {
      "cell_type": "code",
      "metadata": {
        "colab": {
          "base_uri": "https://localhost:8080/"
        },
        "id": "8uWJxx9QXP_s",
        "outputId": "312249f8-19bb-459e-c2fa-5761defbda2e"
      },
      "source": [
        "arr1 = np.arange(18)\n",
        "\n",
        "print(arr1)"
      ],
      "execution_count": 69,
      "outputs": [
        {
          "output_type": "stream",
          "text": [
            "[ 0  1  2  3  4  5  6  7  8  9 10 11 12 13 14 15 16 17]\n"
          ],
          "name": "stdout"
        }
      ]
    },
    {
      "cell_type": "code",
      "metadata": {
        "colab": {
          "base_uri": "https://localhost:8080/"
        },
        "id": "kfPPbZMyXoux",
        "outputId": "b793f2fb-d3a6-4266-b30c-d3062456a703"
      },
      "source": [
        "arr2 = arr1.reshape(6,3)\n",
        "\n",
        "print(arr2)"
      ],
      "execution_count": 71,
      "outputs": [
        {
          "output_type": "stream",
          "text": [
            "[[ 0  1  2]\n",
            " [ 3  4  5]\n",
            " [ 6  7  8]\n",
            " [ 9 10 11]\n",
            " [12 13 14]\n",
            " [15 16 17]]\n"
          ],
          "name": "stdout"
        }
      ]
    },
    {
      "cell_type": "code",
      "metadata": {
        "colab": {
          "base_uri": "https://localhost:8080/"
        },
        "id": "vzXmjxQ-YUHQ",
        "outputId": "e89ef899-9932-4d3d-f7e3-556d078f5673"
      },
      "source": [
        "arr = np.array([[1,2,3],[4,5,6]])\n",
        "\n",
        "arr = np.reshape(arr,(3,-1))  #-1이 거꾸로가 아니라, 원래 배열길이와 남은 차원에서 유추한 자동변경을 의미.\n",
        "\n",
        "print(arr)"
      ],
      "execution_count": 73,
      "outputs": [
        {
          "output_type": "stream",
          "text": [
            "[[1 2]\n",
            " [3 4]\n",
            " [5 6]]\n"
          ],
          "name": "stdout"
        }
      ]
    },
    {
      "cell_type": "code",
      "metadata": {
        "colab": {
          "base_uri": "https://localhost:8080/"
        },
        "id": "P7EALSEAY9Fo",
        "outputId": "02ad4af8-a350-4571-993b-e7a630b00d36"
      },
      "source": [
        "arr = np.arange(4)\n",
        "\n",
        "arr = np.reshape(arr,(2,2))\n",
        "\n",
        "print(arr)"
      ],
      "execution_count": 83,
      "outputs": [
        {
          "output_type": "stream",
          "text": [
            "[[0 1]\n",
            " [2 3]]\n"
          ],
          "name": "stdout"
        }
      ]
    },
    {
      "cell_type": "code",
      "metadata": {
        "colab": {
          "base_uri": "https://localhost:8080/"
        },
        "id": "LoVBSu9WZTd2",
        "outputId": "658e0355-66f3-4571-dc3f-1aee0ae2543a"
      },
      "source": [
        "arr = np.arange(16)\n",
        "\n",
        "arr = np.reshape(arr,(4,4))\n",
        "\n",
        "print(arr)"
      ],
      "execution_count": 86,
      "outputs": [
        {
          "output_type": "stream",
          "text": [
            "[[ 0  1  2  3]\n",
            " [ 4  5  6  7]\n",
            " [ 8  9 10 11]\n",
            " [12 13 14 15]]\n"
          ],
          "name": "stdout"
        }
      ]
    },
    {
      "cell_type": "code",
      "metadata": {
        "colab": {
          "base_uri": "https://localhost:8080/"
        },
        "id": "07oPthICZdGK",
        "outputId": "df927ae9-da4e-4b79-ab44-553f8b1f9859"
      },
      "source": [
        "arr = np.arange(35)\n",
        "\n",
        "arr = np.reshape(arr,(5,7))\n",
        "\n",
        "print(arr)"
      ],
      "execution_count": 89,
      "outputs": [
        {
          "output_type": "stream",
          "text": [
            "[[ 0  1  2  3  4  5  6]\n",
            " [ 7  8  9 10 11 12 13]\n",
            " [14 15 16 17 18 19 20]\n",
            " [21 22 23 24 25 26 27]\n",
            " [28 29 30 31 32 33 34]]\n"
          ],
          "name": "stdout"
        }
      ]
    },
    {
      "cell_type": "code",
      "metadata": {
        "colab": {
          "base_uri": "https://localhost:8080/"
        },
        "id": "PEsZlVxpabU7",
        "outputId": "c918f0f3-183f-47da-ec8b-62c55dbff17a"
      },
      "source": [
        "#3차원  ;  어려울 것 없이 약수들 의 곱 정도로 생각하자.\n",
        "\n",
        "arr = np.arange(72)\n",
        "\n",
        "arr = np.reshape(arr,(3,2,12))\n",
        "\n",
        "print(arr)"
      ],
      "execution_count": 96,
      "outputs": [
        {
          "output_type": "stream",
          "text": [
            "[[[ 0  1  2  3  4  5  6  7  8  9 10 11]\n",
            "  [12 13 14 15 16 17 18 19 20 21 22 23]]\n",
            "\n",
            " [[24 25 26 27 28 29 30 31 32 33 34 35]\n",
            "  [36 37 38 39 40 41 42 43 44 45 46 47]]\n",
            "\n",
            " [[48 49 50 51 52 53 54 55 56 57 58 59]\n",
            "  [60 61 62 63 64 65 66 67 68 69 70 71]]]\n"
          ],
          "name": "stdout"
        }
      ]
    },
    {
      "cell_type": "code",
      "metadata": {
        "id": "xYY6LOKleLq2"
      },
      "source": [
        "import numpy as np\n",
        "from PIL import Image\n",
        "\n",
        "img = np.asarray(Image.open('lena.png'))\n",
        "\n",
        "# img = img.copy()\n",
        "# img2 = img.copy()\n",
        "\n",
        "img = img.reshape(256,1024,3)\n",
        "\n",
        "img = Image.fromarray(img, 'RGB')\n",
        "img.save('out.png')\n",
        "\n"
      ],
      "execution_count": 101,
      "outputs": []
    }
  ]
}