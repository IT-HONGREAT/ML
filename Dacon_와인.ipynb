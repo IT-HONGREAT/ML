{
  "nbformat": 4,
  "nbformat_minor": 0,
  "metadata": {
    "colab": {
      "name": "Dacon_와인.ipynb",
      "provenance": [],
      "collapsed_sections": [],
      "authorship_tag": "ABX9TyNc8+vXeqrt4W6pBHumPqm9",
      "include_colab_link": true
    },
    "kernelspec": {
      "name": "python3",
      "display_name": "Python 3"
    },
    "language_info": {
      "name": "python"
    },
    "accelerator": "GPU"
  },
  "cells": [
    {
      "cell_type": "markdown",
      "metadata": {
        "id": "view-in-github",
        "colab_type": "text"
      },
      "source": [
        "<a href=\"https://colab.research.google.com/github/IT-HONGREAT/colab_study/blob/main/Dacon_%EC%99%80%EC%9D%B8.ipynb\" target=\"_parent\"><img src=\"https://colab.research.google.com/assets/colab-badge.svg\" alt=\"Open In Colab\"/></a>"
      ]
    },
    {
      "cell_type": "code",
      "metadata": {
        "id": "l7cFkGZtc6WD"
      },
      "source": [
        "import numpy as np\n",
        "import pandas as pd\n",
        "import matplotlib.pyplot as plt\n",
        "import seaborn as sns\n",
        "import tensorflow as tf"
      ],
      "execution_count": 1,
      "outputs": []
    },
    {
      "cell_type": "code",
      "metadata": {
        "id": "Iv5NWVTXe6Kn"
      },
      "source": [
        "#데이터를 불러온다\n",
        "\n",
        "red = pd.read_csv('/content/winequality-red.csv',sep = ';')\n",
        "white = pd.read_csv('/content/winequality-white.csv',sep = ';')\n"
      ],
      "execution_count": 2,
      "outputs": []
    },
    {
      "cell_type": "code",
      "metadata": {
        "colab": {
          "base_uri": "https://localhost:8080/",
          "height": 478
        },
        "id": "RCFjC6p2fGRa",
        "outputId": "2eaf2df1-ce25-4189-a4d4-ea1ad0bab1e6"
      },
      "source": [
        "display(red)"
      ],
      "execution_count": 3,
      "outputs": [
        {
          "output_type": "display_data",
          "data": {
            "text/html": [
              "<div>\n",
              "<style scoped>\n",
              "    .dataframe tbody tr th:only-of-type {\n",
              "        vertical-align: middle;\n",
              "    }\n",
              "\n",
              "    .dataframe tbody tr th {\n",
              "        vertical-align: top;\n",
              "    }\n",
              "\n",
              "    .dataframe thead th {\n",
              "        text-align: right;\n",
              "    }\n",
              "</style>\n",
              "<table border=\"1\" class=\"dataframe\">\n",
              "  <thead>\n",
              "    <tr style=\"text-align: right;\">\n",
              "      <th></th>\n",
              "      <th>fixed acidity</th>\n",
              "      <th>volatile acidity</th>\n",
              "      <th>citric acid</th>\n",
              "      <th>residual sugar</th>\n",
              "      <th>chlorides</th>\n",
              "      <th>free sulfur dioxide</th>\n",
              "      <th>total sulfur dioxide</th>\n",
              "      <th>density</th>\n",
              "      <th>pH</th>\n",
              "      <th>sulphates</th>\n",
              "      <th>alcohol</th>\n",
              "      <th>quality</th>\n",
              "    </tr>\n",
              "  </thead>\n",
              "  <tbody>\n",
              "    <tr>\n",
              "      <th>0</th>\n",
              "      <td>7.4</td>\n",
              "      <td>0.700</td>\n",
              "      <td>0.00</td>\n",
              "      <td>1.9</td>\n",
              "      <td>0.076</td>\n",
              "      <td>11.0</td>\n",
              "      <td>34.0</td>\n",
              "      <td>0.99780</td>\n",
              "      <td>3.51</td>\n",
              "      <td>0.56</td>\n",
              "      <td>9.4</td>\n",
              "      <td>5</td>\n",
              "    </tr>\n",
              "    <tr>\n",
              "      <th>1</th>\n",
              "      <td>7.8</td>\n",
              "      <td>0.880</td>\n",
              "      <td>0.00</td>\n",
              "      <td>2.6</td>\n",
              "      <td>0.098</td>\n",
              "      <td>25.0</td>\n",
              "      <td>67.0</td>\n",
              "      <td>0.99680</td>\n",
              "      <td>3.20</td>\n",
              "      <td>0.68</td>\n",
              "      <td>9.8</td>\n",
              "      <td>5</td>\n",
              "    </tr>\n",
              "    <tr>\n",
              "      <th>2</th>\n",
              "      <td>7.8</td>\n",
              "      <td>0.760</td>\n",
              "      <td>0.04</td>\n",
              "      <td>2.3</td>\n",
              "      <td>0.092</td>\n",
              "      <td>15.0</td>\n",
              "      <td>54.0</td>\n",
              "      <td>0.99700</td>\n",
              "      <td>3.26</td>\n",
              "      <td>0.65</td>\n",
              "      <td>9.8</td>\n",
              "      <td>5</td>\n",
              "    </tr>\n",
              "    <tr>\n",
              "      <th>3</th>\n",
              "      <td>11.2</td>\n",
              "      <td>0.280</td>\n",
              "      <td>0.56</td>\n",
              "      <td>1.9</td>\n",
              "      <td>0.075</td>\n",
              "      <td>17.0</td>\n",
              "      <td>60.0</td>\n",
              "      <td>0.99800</td>\n",
              "      <td>3.16</td>\n",
              "      <td>0.58</td>\n",
              "      <td>9.8</td>\n",
              "      <td>6</td>\n",
              "    </tr>\n",
              "    <tr>\n",
              "      <th>4</th>\n",
              "      <td>7.4</td>\n",
              "      <td>0.700</td>\n",
              "      <td>0.00</td>\n",
              "      <td>1.9</td>\n",
              "      <td>0.076</td>\n",
              "      <td>11.0</td>\n",
              "      <td>34.0</td>\n",
              "      <td>0.99780</td>\n",
              "      <td>3.51</td>\n",
              "      <td>0.56</td>\n",
              "      <td>9.4</td>\n",
              "      <td>5</td>\n",
              "    </tr>\n",
              "    <tr>\n",
              "      <th>...</th>\n",
              "      <td>...</td>\n",
              "      <td>...</td>\n",
              "      <td>...</td>\n",
              "      <td>...</td>\n",
              "      <td>...</td>\n",
              "      <td>...</td>\n",
              "      <td>...</td>\n",
              "      <td>...</td>\n",
              "      <td>...</td>\n",
              "      <td>...</td>\n",
              "      <td>...</td>\n",
              "      <td>...</td>\n",
              "    </tr>\n",
              "    <tr>\n",
              "      <th>1594</th>\n",
              "      <td>6.2</td>\n",
              "      <td>0.600</td>\n",
              "      <td>0.08</td>\n",
              "      <td>2.0</td>\n",
              "      <td>0.090</td>\n",
              "      <td>32.0</td>\n",
              "      <td>44.0</td>\n",
              "      <td>0.99490</td>\n",
              "      <td>3.45</td>\n",
              "      <td>0.58</td>\n",
              "      <td>10.5</td>\n",
              "      <td>5</td>\n",
              "    </tr>\n",
              "    <tr>\n",
              "      <th>1595</th>\n",
              "      <td>5.9</td>\n",
              "      <td>0.550</td>\n",
              "      <td>0.10</td>\n",
              "      <td>2.2</td>\n",
              "      <td>0.062</td>\n",
              "      <td>39.0</td>\n",
              "      <td>51.0</td>\n",
              "      <td>0.99512</td>\n",
              "      <td>3.52</td>\n",
              "      <td>0.76</td>\n",
              "      <td>11.2</td>\n",
              "      <td>6</td>\n",
              "    </tr>\n",
              "    <tr>\n",
              "      <th>1596</th>\n",
              "      <td>6.3</td>\n",
              "      <td>0.510</td>\n",
              "      <td>0.13</td>\n",
              "      <td>2.3</td>\n",
              "      <td>0.076</td>\n",
              "      <td>29.0</td>\n",
              "      <td>40.0</td>\n",
              "      <td>0.99574</td>\n",
              "      <td>3.42</td>\n",
              "      <td>0.75</td>\n",
              "      <td>11.0</td>\n",
              "      <td>6</td>\n",
              "    </tr>\n",
              "    <tr>\n",
              "      <th>1597</th>\n",
              "      <td>5.9</td>\n",
              "      <td>0.645</td>\n",
              "      <td>0.12</td>\n",
              "      <td>2.0</td>\n",
              "      <td>0.075</td>\n",
              "      <td>32.0</td>\n",
              "      <td>44.0</td>\n",
              "      <td>0.99547</td>\n",
              "      <td>3.57</td>\n",
              "      <td>0.71</td>\n",
              "      <td>10.2</td>\n",
              "      <td>5</td>\n",
              "    </tr>\n",
              "    <tr>\n",
              "      <th>1598</th>\n",
              "      <td>6.0</td>\n",
              "      <td>0.310</td>\n",
              "      <td>0.47</td>\n",
              "      <td>3.6</td>\n",
              "      <td>0.067</td>\n",
              "      <td>18.0</td>\n",
              "      <td>42.0</td>\n",
              "      <td>0.99549</td>\n",
              "      <td>3.39</td>\n",
              "      <td>0.66</td>\n",
              "      <td>11.0</td>\n",
              "      <td>6</td>\n",
              "    </tr>\n",
              "  </tbody>\n",
              "</table>\n",
              "<p>1599 rows × 12 columns</p>\n",
              "</div>"
            ],
            "text/plain": [
              "      fixed acidity  volatile acidity  citric acid  ...  sulphates  alcohol  quality\n",
              "0               7.4             0.700         0.00  ...       0.56      9.4        5\n",
              "1               7.8             0.880         0.00  ...       0.68      9.8        5\n",
              "2               7.8             0.760         0.04  ...       0.65      9.8        5\n",
              "3              11.2             0.280         0.56  ...       0.58      9.8        6\n",
              "4               7.4             0.700         0.00  ...       0.56      9.4        5\n",
              "...             ...               ...          ...  ...        ...      ...      ...\n",
              "1594            6.2             0.600         0.08  ...       0.58     10.5        5\n",
              "1595            5.9             0.550         0.10  ...       0.76     11.2        6\n",
              "1596            6.3             0.510         0.13  ...       0.75     11.0        6\n",
              "1597            5.9             0.645         0.12  ...       0.71     10.2        5\n",
              "1598            6.0             0.310         0.47  ...       0.66     11.0        6\n",
              "\n",
              "[1599 rows x 12 columns]"
            ]
          },
          "metadata": {
            "tags": []
          }
        }
      ]
    },
    {
      "cell_type": "code",
      "metadata": {
        "colab": {
          "base_uri": "https://localhost:8080/",
          "height": 478
        },
        "id": "PohBg3B5fgxX",
        "outputId": "c07d6bc5-7ebc-468c-ede1-4921eba71a28"
      },
      "source": [
        "display(white)"
      ],
      "execution_count": 4,
      "outputs": [
        {
          "output_type": "display_data",
          "data": {
            "text/html": [
              "<div>\n",
              "<style scoped>\n",
              "    .dataframe tbody tr th:only-of-type {\n",
              "        vertical-align: middle;\n",
              "    }\n",
              "\n",
              "    .dataframe tbody tr th {\n",
              "        vertical-align: top;\n",
              "    }\n",
              "\n",
              "    .dataframe thead th {\n",
              "        text-align: right;\n",
              "    }\n",
              "</style>\n",
              "<table border=\"1\" class=\"dataframe\">\n",
              "  <thead>\n",
              "    <tr style=\"text-align: right;\">\n",
              "      <th></th>\n",
              "      <th>fixed acidity</th>\n",
              "      <th>volatile acidity</th>\n",
              "      <th>citric acid</th>\n",
              "      <th>residual sugar</th>\n",
              "      <th>chlorides</th>\n",
              "      <th>free sulfur dioxide</th>\n",
              "      <th>total sulfur dioxide</th>\n",
              "      <th>density</th>\n",
              "      <th>pH</th>\n",
              "      <th>sulphates</th>\n",
              "      <th>alcohol</th>\n",
              "      <th>quality</th>\n",
              "    </tr>\n",
              "  </thead>\n",
              "  <tbody>\n",
              "    <tr>\n",
              "      <th>0</th>\n",
              "      <td>7.0</td>\n",
              "      <td>0.27</td>\n",
              "      <td>0.36</td>\n",
              "      <td>20.7</td>\n",
              "      <td>0.045</td>\n",
              "      <td>45.0</td>\n",
              "      <td>170.0</td>\n",
              "      <td>1.00100</td>\n",
              "      <td>3.00</td>\n",
              "      <td>0.45</td>\n",
              "      <td>8.8</td>\n",
              "      <td>6</td>\n",
              "    </tr>\n",
              "    <tr>\n",
              "      <th>1</th>\n",
              "      <td>6.3</td>\n",
              "      <td>0.30</td>\n",
              "      <td>0.34</td>\n",
              "      <td>1.6</td>\n",
              "      <td>0.049</td>\n",
              "      <td>14.0</td>\n",
              "      <td>132.0</td>\n",
              "      <td>0.99400</td>\n",
              "      <td>3.30</td>\n",
              "      <td>0.49</td>\n",
              "      <td>9.5</td>\n",
              "      <td>6</td>\n",
              "    </tr>\n",
              "    <tr>\n",
              "      <th>2</th>\n",
              "      <td>8.1</td>\n",
              "      <td>0.28</td>\n",
              "      <td>0.40</td>\n",
              "      <td>6.9</td>\n",
              "      <td>0.050</td>\n",
              "      <td>30.0</td>\n",
              "      <td>97.0</td>\n",
              "      <td>0.99510</td>\n",
              "      <td>3.26</td>\n",
              "      <td>0.44</td>\n",
              "      <td>10.1</td>\n",
              "      <td>6</td>\n",
              "    </tr>\n",
              "    <tr>\n",
              "      <th>3</th>\n",
              "      <td>7.2</td>\n",
              "      <td>0.23</td>\n",
              "      <td>0.32</td>\n",
              "      <td>8.5</td>\n",
              "      <td>0.058</td>\n",
              "      <td>47.0</td>\n",
              "      <td>186.0</td>\n",
              "      <td>0.99560</td>\n",
              "      <td>3.19</td>\n",
              "      <td>0.40</td>\n",
              "      <td>9.9</td>\n",
              "      <td>6</td>\n",
              "    </tr>\n",
              "    <tr>\n",
              "      <th>4</th>\n",
              "      <td>7.2</td>\n",
              "      <td>0.23</td>\n",
              "      <td>0.32</td>\n",
              "      <td>8.5</td>\n",
              "      <td>0.058</td>\n",
              "      <td>47.0</td>\n",
              "      <td>186.0</td>\n",
              "      <td>0.99560</td>\n",
              "      <td>3.19</td>\n",
              "      <td>0.40</td>\n",
              "      <td>9.9</td>\n",
              "      <td>6</td>\n",
              "    </tr>\n",
              "    <tr>\n",
              "      <th>...</th>\n",
              "      <td>...</td>\n",
              "      <td>...</td>\n",
              "      <td>...</td>\n",
              "      <td>...</td>\n",
              "      <td>...</td>\n",
              "      <td>...</td>\n",
              "      <td>...</td>\n",
              "      <td>...</td>\n",
              "      <td>...</td>\n",
              "      <td>...</td>\n",
              "      <td>...</td>\n",
              "      <td>...</td>\n",
              "    </tr>\n",
              "    <tr>\n",
              "      <th>4893</th>\n",
              "      <td>6.2</td>\n",
              "      <td>0.21</td>\n",
              "      <td>0.29</td>\n",
              "      <td>1.6</td>\n",
              "      <td>0.039</td>\n",
              "      <td>24.0</td>\n",
              "      <td>92.0</td>\n",
              "      <td>0.99114</td>\n",
              "      <td>3.27</td>\n",
              "      <td>0.50</td>\n",
              "      <td>11.2</td>\n",
              "      <td>6</td>\n",
              "    </tr>\n",
              "    <tr>\n",
              "      <th>4894</th>\n",
              "      <td>6.6</td>\n",
              "      <td>0.32</td>\n",
              "      <td>0.36</td>\n",
              "      <td>8.0</td>\n",
              "      <td>0.047</td>\n",
              "      <td>57.0</td>\n",
              "      <td>168.0</td>\n",
              "      <td>0.99490</td>\n",
              "      <td>3.15</td>\n",
              "      <td>0.46</td>\n",
              "      <td>9.6</td>\n",
              "      <td>5</td>\n",
              "    </tr>\n",
              "    <tr>\n",
              "      <th>4895</th>\n",
              "      <td>6.5</td>\n",
              "      <td>0.24</td>\n",
              "      <td>0.19</td>\n",
              "      <td>1.2</td>\n",
              "      <td>0.041</td>\n",
              "      <td>30.0</td>\n",
              "      <td>111.0</td>\n",
              "      <td>0.99254</td>\n",
              "      <td>2.99</td>\n",
              "      <td>0.46</td>\n",
              "      <td>9.4</td>\n",
              "      <td>6</td>\n",
              "    </tr>\n",
              "    <tr>\n",
              "      <th>4896</th>\n",
              "      <td>5.5</td>\n",
              "      <td>0.29</td>\n",
              "      <td>0.30</td>\n",
              "      <td>1.1</td>\n",
              "      <td>0.022</td>\n",
              "      <td>20.0</td>\n",
              "      <td>110.0</td>\n",
              "      <td>0.98869</td>\n",
              "      <td>3.34</td>\n",
              "      <td>0.38</td>\n",
              "      <td>12.8</td>\n",
              "      <td>7</td>\n",
              "    </tr>\n",
              "    <tr>\n",
              "      <th>4897</th>\n",
              "      <td>6.0</td>\n",
              "      <td>0.21</td>\n",
              "      <td>0.38</td>\n",
              "      <td>0.8</td>\n",
              "      <td>0.020</td>\n",
              "      <td>22.0</td>\n",
              "      <td>98.0</td>\n",
              "      <td>0.98941</td>\n",
              "      <td>3.26</td>\n",
              "      <td>0.32</td>\n",
              "      <td>11.8</td>\n",
              "      <td>6</td>\n",
              "    </tr>\n",
              "  </tbody>\n",
              "</table>\n",
              "<p>4898 rows × 12 columns</p>\n",
              "</div>"
            ],
            "text/plain": [
              "      fixed acidity  volatile acidity  citric acid  ...  sulphates  alcohol  quality\n",
              "0               7.0              0.27         0.36  ...       0.45      8.8        6\n",
              "1               6.3              0.30         0.34  ...       0.49      9.5        6\n",
              "2               8.1              0.28         0.40  ...       0.44     10.1        6\n",
              "3               7.2              0.23         0.32  ...       0.40      9.9        6\n",
              "4               7.2              0.23         0.32  ...       0.40      9.9        6\n",
              "...             ...               ...          ...  ...        ...      ...      ...\n",
              "4893            6.2              0.21         0.29  ...       0.50     11.2        6\n",
              "4894            6.6              0.32         0.36  ...       0.46      9.6        5\n",
              "4895            6.5              0.24         0.19  ...       0.46      9.4        6\n",
              "4896            5.5              0.29         0.30  ...       0.38     12.8        7\n",
              "4897            6.0              0.21         0.38  ...       0.32     11.8        6\n",
              "\n",
              "[4898 rows x 12 columns]"
            ]
          },
          "metadata": {
            "tags": []
          }
        }
      ]
    },
    {
      "cell_type": "code",
      "metadata": {
        "id": "ICPSvTHdfx8M"
      },
      "source": [
        "#red와 white의 변수가 같으니 하나로 합치는 것이 좋을 것 같다.\n",
        "#하지만 하나로 합치려면 red와 white의 구분이 어려울수도 있기 때문에\n",
        "#뒤에 type을 추가해 주자"
      ],
      "execution_count": 5,
      "outputs": []
    },
    {
      "cell_type": "code",
      "metadata": {
        "id": "PB-yyIP6f_jB"
      },
      "source": [
        "red['type']   = 0\n",
        "white['type'] = 1"
      ],
      "execution_count": 6,
      "outputs": []
    },
    {
      "cell_type": "code",
      "metadata": {
        "colab": {
          "base_uri": "https://localhost:8080/"
        },
        "id": "An9YIxeQgGnq",
        "outputId": "5a89f847-62e2-4eda-fce1-7ff7f68550a1"
      },
      "source": [
        "print(red.head(2))"
      ],
      "execution_count": 7,
      "outputs": [
        {
          "output_type": "stream",
          "text": [
            "   fixed acidity  volatile acidity  citric acid  ...  alcohol  quality  type\n",
            "0            7.4              0.70          0.0  ...      9.4        5     0\n",
            "1            7.8              0.88          0.0  ...      9.8        5     0\n",
            "\n",
            "[2 rows x 13 columns]\n"
          ],
          "name": "stdout"
        }
      ]
    },
    {
      "cell_type": "code",
      "metadata": {
        "colab": {
          "base_uri": "https://localhost:8080/"
        },
        "id": "D8p8iKcRgLFm",
        "outputId": "79e24fa3-d1b9-4c6c-a158-c2eef1391f43"
      },
      "source": [
        "print(white.head(2))"
      ],
      "execution_count": 8,
      "outputs": [
        {
          "output_type": "stream",
          "text": [
            "   fixed acidity  volatile acidity  citric acid  ...  alcohol  quality  type\n",
            "0            7.0              0.27         0.36  ...      8.8        6     1\n",
            "1            6.3              0.30         0.34  ...      9.5        6     1\n",
            "\n",
            "[2 rows x 13 columns]\n"
          ],
          "name": "stdout"
        }
      ]
    },
    {
      "cell_type": "code",
      "metadata": {
        "colab": {
          "base_uri": "https://localhost:8080/",
          "height": 355
        },
        "id": "HMcym4P9gRGJ",
        "outputId": "b97547df-199d-4aa2-be31-3ba8bcceef0b"
      },
      "source": [
        "#하나로 합치기\n",
        "wine = pd.concat([red, white])\n",
        "display(wine.describe())"
      ],
      "execution_count": 9,
      "outputs": [
        {
          "output_type": "display_data",
          "data": {
            "text/html": [
              "<div>\n",
              "<style scoped>\n",
              "    .dataframe tbody tr th:only-of-type {\n",
              "        vertical-align: middle;\n",
              "    }\n",
              "\n",
              "    .dataframe tbody tr th {\n",
              "        vertical-align: top;\n",
              "    }\n",
              "\n",
              "    .dataframe thead th {\n",
              "        text-align: right;\n",
              "    }\n",
              "</style>\n",
              "<table border=\"1\" class=\"dataframe\">\n",
              "  <thead>\n",
              "    <tr style=\"text-align: right;\">\n",
              "      <th></th>\n",
              "      <th>fixed acidity</th>\n",
              "      <th>volatile acidity</th>\n",
              "      <th>citric acid</th>\n",
              "      <th>residual sugar</th>\n",
              "      <th>chlorides</th>\n",
              "      <th>free sulfur dioxide</th>\n",
              "      <th>total sulfur dioxide</th>\n",
              "      <th>density</th>\n",
              "      <th>pH</th>\n",
              "      <th>sulphates</th>\n",
              "      <th>alcohol</th>\n",
              "      <th>quality</th>\n",
              "      <th>type</th>\n",
              "    </tr>\n",
              "  </thead>\n",
              "  <tbody>\n",
              "    <tr>\n",
              "      <th>count</th>\n",
              "      <td>6497.000000</td>\n",
              "      <td>6497.000000</td>\n",
              "      <td>6497.000000</td>\n",
              "      <td>6497.000000</td>\n",
              "      <td>6497.000000</td>\n",
              "      <td>6497.000000</td>\n",
              "      <td>6497.000000</td>\n",
              "      <td>6497.000000</td>\n",
              "      <td>6497.000000</td>\n",
              "      <td>6497.000000</td>\n",
              "      <td>6497.000000</td>\n",
              "      <td>6497.000000</td>\n",
              "      <td>6497.000000</td>\n",
              "    </tr>\n",
              "    <tr>\n",
              "      <th>mean</th>\n",
              "      <td>7.215307</td>\n",
              "      <td>0.339666</td>\n",
              "      <td>0.318633</td>\n",
              "      <td>5.443235</td>\n",
              "      <td>0.056034</td>\n",
              "      <td>30.525319</td>\n",
              "      <td>115.744574</td>\n",
              "      <td>0.994697</td>\n",
              "      <td>3.218501</td>\n",
              "      <td>0.531268</td>\n",
              "      <td>10.491801</td>\n",
              "      <td>5.818378</td>\n",
              "      <td>0.753886</td>\n",
              "    </tr>\n",
              "    <tr>\n",
              "      <th>std</th>\n",
              "      <td>1.296434</td>\n",
              "      <td>0.164636</td>\n",
              "      <td>0.145318</td>\n",
              "      <td>4.757804</td>\n",
              "      <td>0.035034</td>\n",
              "      <td>17.749400</td>\n",
              "      <td>56.521855</td>\n",
              "      <td>0.002999</td>\n",
              "      <td>0.160787</td>\n",
              "      <td>0.148806</td>\n",
              "      <td>1.192712</td>\n",
              "      <td>0.873255</td>\n",
              "      <td>0.430779</td>\n",
              "    </tr>\n",
              "    <tr>\n",
              "      <th>min</th>\n",
              "      <td>3.800000</td>\n",
              "      <td>0.080000</td>\n",
              "      <td>0.000000</td>\n",
              "      <td>0.600000</td>\n",
              "      <td>0.009000</td>\n",
              "      <td>1.000000</td>\n",
              "      <td>6.000000</td>\n",
              "      <td>0.987110</td>\n",
              "      <td>2.720000</td>\n",
              "      <td>0.220000</td>\n",
              "      <td>8.000000</td>\n",
              "      <td>3.000000</td>\n",
              "      <td>0.000000</td>\n",
              "    </tr>\n",
              "    <tr>\n",
              "      <th>25%</th>\n",
              "      <td>6.400000</td>\n",
              "      <td>0.230000</td>\n",
              "      <td>0.250000</td>\n",
              "      <td>1.800000</td>\n",
              "      <td>0.038000</td>\n",
              "      <td>17.000000</td>\n",
              "      <td>77.000000</td>\n",
              "      <td>0.992340</td>\n",
              "      <td>3.110000</td>\n",
              "      <td>0.430000</td>\n",
              "      <td>9.500000</td>\n",
              "      <td>5.000000</td>\n",
              "      <td>1.000000</td>\n",
              "    </tr>\n",
              "    <tr>\n",
              "      <th>50%</th>\n",
              "      <td>7.000000</td>\n",
              "      <td>0.290000</td>\n",
              "      <td>0.310000</td>\n",
              "      <td>3.000000</td>\n",
              "      <td>0.047000</td>\n",
              "      <td>29.000000</td>\n",
              "      <td>118.000000</td>\n",
              "      <td>0.994890</td>\n",
              "      <td>3.210000</td>\n",
              "      <td>0.510000</td>\n",
              "      <td>10.300000</td>\n",
              "      <td>6.000000</td>\n",
              "      <td>1.000000</td>\n",
              "    </tr>\n",
              "    <tr>\n",
              "      <th>75%</th>\n",
              "      <td>7.700000</td>\n",
              "      <td>0.400000</td>\n",
              "      <td>0.390000</td>\n",
              "      <td>8.100000</td>\n",
              "      <td>0.065000</td>\n",
              "      <td>41.000000</td>\n",
              "      <td>156.000000</td>\n",
              "      <td>0.996990</td>\n",
              "      <td>3.320000</td>\n",
              "      <td>0.600000</td>\n",
              "      <td>11.300000</td>\n",
              "      <td>6.000000</td>\n",
              "      <td>1.000000</td>\n",
              "    </tr>\n",
              "    <tr>\n",
              "      <th>max</th>\n",
              "      <td>15.900000</td>\n",
              "      <td>1.580000</td>\n",
              "      <td>1.660000</td>\n",
              "      <td>65.800000</td>\n",
              "      <td>0.611000</td>\n",
              "      <td>289.000000</td>\n",
              "      <td>440.000000</td>\n",
              "      <td>1.038980</td>\n",
              "      <td>4.010000</td>\n",
              "      <td>2.000000</td>\n",
              "      <td>14.900000</td>\n",
              "      <td>9.000000</td>\n",
              "      <td>1.000000</td>\n",
              "    </tr>\n",
              "  </tbody>\n",
              "</table>\n",
              "</div>"
            ],
            "text/plain": [
              "       fixed acidity  volatile acidity  ...      quality         type\n",
              "count    6497.000000       6497.000000  ...  6497.000000  6497.000000\n",
              "mean        7.215307          0.339666  ...     5.818378     0.753886\n",
              "std         1.296434          0.164636  ...     0.873255     0.430779\n",
              "min         3.800000          0.080000  ...     3.000000     0.000000\n",
              "25%         6.400000          0.230000  ...     5.000000     1.000000\n",
              "50%         7.000000          0.290000  ...     6.000000     1.000000\n",
              "75%         7.700000          0.400000  ...     6.000000     1.000000\n",
              "max        15.900000          1.580000  ...     9.000000     1.000000\n",
              "\n",
              "[8 rows x 13 columns]"
            ]
          },
          "metadata": {
            "tags": []
          }
        }
      ]
    },
    {
      "cell_type": "code",
      "metadata": {
        "colab": {
          "base_uri": "https://localhost:8080/",
          "height": 325
        },
        "id": "SbOuK8tKgkQX",
        "outputId": "1bcf8b31-2493-4863-a84c-4f59c62a9154"
      },
      "source": [
        "#평균값을 보니 0.5가 아니라 0.75이다.\n",
        "# 한쪽으로 쏠려있는지 확인해본다.\n",
        "\n",
        "sns.histplot(wine['type'], color = 'green')\n",
        "plt.title('{}'.format(wine['type'].value_counts()))\n",
        "\n",
        "plt.grid()\n",
        "plt.show()\n",
        "#type, 즉 red와 white의 비율을 볼 수 있다."
      ],
      "execution_count": 10,
      "outputs": [
        {
          "output_type": "display_data",
          "data": {
            "image/png": "[encoded data removed]",
            "text/plain": [
              "<Figure size 432x288 with 1 Axes>"
            ]
          },
          "metadata": {
            "tags": [],
            "needs_background": "light"
          }
        }
      ]
    },
    {
      "cell_type": "code",
      "metadata": {
        "colab": {
          "base_uri": "https://localhost:8080/",
          "height": 1000
        },
        "id": "c045U5_0h5UD",
        "outputId": "b20e634b-dd78-4299-d95b-d364014c282e"
      },
      "source": [
        "#데이터를 섞어준다. 마지막 종속변수가 한쪽으로 쏠릴수도있기 때문, 기타 등등\n",
        "wine[:30]"
      ],
      "execution_count": 11,
      "outputs": [
        {
          "output_type": "execute_result",
          "data": {
            "text/html": [
              "<div>\n",
              "<style scoped>\n",
              "    .dataframe tbody tr th:only-of-type {\n",
              "        vertical-align: middle;\n",
              "    }\n",
              "\n",
              "    .dataframe tbody tr th {\n",
              "        vertical-align: top;\n",
              "    }\n",
              "\n",
              "    .dataframe thead th {\n",
              "        text-align: right;\n",
              "    }\n",
              "</style>\n",
              "<table border=\"1\" class=\"dataframe\">\n",
              "  <thead>\n",
              "    <tr style=\"text-align: right;\">\n",
              "      <th></th>\n",
              "      <th>fixed acidity</th>\n",
              "      <th>volatile acidity</th>\n",
              "      <th>citric acid</th>\n",
              "      <th>residual sugar</th>\n",
              "      <th>chlorides</th>\n",
              "      <th>free sulfur dioxide</th>\n",
              "      <th>total sulfur dioxide</th>\n",
              "      <th>density</th>\n",
              "      <th>pH</th>\n",
              "      <th>sulphates</th>\n",
              "      <th>alcohol</th>\n",
              "      <th>quality</th>\n",
              "      <th>type</th>\n",
              "    </tr>\n",
              "  </thead>\n",
              "  <tbody>\n",
              "    <tr>\n",
              "      <th>0</th>\n",
              "      <td>7.4</td>\n",
              "      <td>0.700</td>\n",
              "      <td>0.00</td>\n",
              "      <td>1.9</td>\n",
              "      <td>0.076</td>\n",
              "      <td>11.0</td>\n",
              "      <td>34.0</td>\n",
              "      <td>0.9978</td>\n",
              "      <td>3.51</td>\n",
              "      <td>0.56</td>\n",
              "      <td>9.4</td>\n",
              "      <td>5</td>\n",
              "      <td>0</td>\n",
              "    </tr>\n",
              "    <tr>\n",
              "      <th>1</th>\n",
              "      <td>7.8</td>\n",
              "      <td>0.880</td>\n",
              "      <td>0.00</td>\n",
              "      <td>2.6</td>\n",
              "      <td>0.098</td>\n",
              "      <td>25.0</td>\n",
              "      <td>67.0</td>\n",
              "      <td>0.9968</td>\n",
              "      <td>3.20</td>\n",
              "      <td>0.68</td>\n",
              "      <td>9.8</td>\n",
              "      <td>5</td>\n",
              "      <td>0</td>\n",
              "    </tr>\n",
              "    <tr>\n",
              "      <th>2</th>\n",
              "      <td>7.8</td>\n",
              "      <td>0.760</td>\n",
              "      <td>0.04</td>\n",
              "      <td>2.3</td>\n",
              "      <td>0.092</td>\n",
              "      <td>15.0</td>\n",
              "      <td>54.0</td>\n",
              "      <td>0.9970</td>\n",
              "      <td>3.26</td>\n",
              "      <td>0.65</td>\n",
              "      <td>9.8</td>\n",
              "      <td>5</td>\n",
              "      <td>0</td>\n",
              "    </tr>\n",
              "    <tr>\n",
              "      <th>3</th>\n",
              "      <td>11.2</td>\n",
              "      <td>0.280</td>\n",
              "      <td>0.56</td>\n",
              "      <td>1.9</td>\n",
              "      <td>0.075</td>\n",
              "      <td>17.0</td>\n",
              "      <td>60.0</td>\n",
              "      <td>0.9980</td>\n",
              "      <td>3.16</td>\n",
              "      <td>0.58</td>\n",
              "      <td>9.8</td>\n",
              "      <td>6</td>\n",
              "      <td>0</td>\n",
              "    </tr>\n",
              "    <tr>\n",
              "      <th>4</th>\n",
              "      <td>7.4</td>\n",
              "      <td>0.700</td>\n",
              "      <td>0.00</td>\n",
              "      <td>1.9</td>\n",
              "      <td>0.076</td>\n",
              "      <td>11.0</td>\n",
              "      <td>34.0</td>\n",
              "      <td>0.9978</td>\n",
              "      <td>3.51</td>\n",
              "      <td>0.56</td>\n",
              "      <td>9.4</td>\n",
              "      <td>5</td>\n",
              "      <td>0</td>\n",
              "    </tr>\n",
              "    <tr>\n",
              "      <th>5</th>\n",
              "      <td>7.4</td>\n",
              "      <td>0.660</td>\n",
              "      <td>0.00</td>\n",
              "      <td>1.8</td>\n",
              "      <td>0.075</td>\n",
              "      <td>13.0</td>\n",
              "      <td>40.0</td>\n",
              "      <td>0.9978</td>\n",
              "      <td>3.51</td>\n",
              "      <td>0.56</td>\n",
              "      <td>9.4</td>\n",
              "      <td>5</td>\n",
              "      <td>0</td>\n",
              "    </tr>\n",
              "    <tr>\n",
              "      <th>6</th>\n",
              "      <td>7.9</td>\n",
              "      <td>0.600</td>\n",
              "      <td>0.06</td>\n",
              "      <td>1.6</td>\n",
              "      <td>0.069</td>\n",
              "      <td>15.0</td>\n",
              "      <td>59.0</td>\n",
              "      <td>0.9964</td>\n",
              "      <td>3.30</td>\n",
              "      <td>0.46</td>\n",
              "      <td>9.4</td>\n",
              "      <td>5</td>\n",
              "      <td>0</td>\n",
              "    </tr>\n",
              "    <tr>\n",
              "      <th>7</th>\n",
              "      <td>7.3</td>\n",
              "      <td>0.650</td>\n",
              "      <td>0.00</td>\n",
              "      <td>1.2</td>\n",
              "      <td>0.065</td>\n",
              "      <td>15.0</td>\n",
              "      <td>21.0</td>\n",
              "      <td>0.9946</td>\n",
              "      <td>3.39</td>\n",
              "      <td>0.47</td>\n",
              "      <td>10.0</td>\n",
              "      <td>7</td>\n",
              "      <td>0</td>\n",
              "    </tr>\n",
              "    <tr>\n",
              "      <th>8</th>\n",
              "      <td>7.8</td>\n",
              "      <td>0.580</td>\n",
              "      <td>0.02</td>\n",
              "      <td>2.0</td>\n",
              "      <td>0.073</td>\n",
              "      <td>9.0</td>\n",
              "      <td>18.0</td>\n",
              "      <td>0.9968</td>\n",
              "      <td>3.36</td>\n",
              "      <td>0.57</td>\n",
              "      <td>9.5</td>\n",
              "      <td>7</td>\n",
              "      <td>0</td>\n",
              "    </tr>\n",
              "    <tr>\n",
              "      <th>9</th>\n",
              "      <td>7.5</td>\n",
              "      <td>0.500</td>\n",
              "      <td>0.36</td>\n",
              "      <td>6.1</td>\n",
              "      <td>0.071</td>\n",
              "      <td>17.0</td>\n",
              "      <td>102.0</td>\n",
              "      <td>0.9978</td>\n",
              "      <td>3.35</td>\n",
              "      <td>0.80</td>\n",
              "      <td>10.5</td>\n",
              "      <td>5</td>\n",
              "      <td>0</td>\n",
              "    </tr>\n",
              "    <tr>\n",
              "      <th>10</th>\n",
              "      <td>6.7</td>\n",
              "      <td>0.580</td>\n",
              "      <td>0.08</td>\n",
              "      <td>1.8</td>\n",
              "      <td>0.097</td>\n",
              "      <td>15.0</td>\n",
              "      <td>65.0</td>\n",
              "      <td>0.9959</td>\n",
              "      <td>3.28</td>\n",
              "      <td>0.54</td>\n",
              "      <td>9.2</td>\n",
              "      <td>5</td>\n",
              "      <td>0</td>\n",
              "    </tr>\n",
              "    <tr>\n",
              "      <th>11</th>\n",
              "      <td>7.5</td>\n",
              "      <td>0.500</td>\n",
              "      <td>0.36</td>\n",
              "      <td>6.1</td>\n",
              "      <td>0.071</td>\n",
              "      <td>17.0</td>\n",
              "      <td>102.0</td>\n",
              "      <td>0.9978</td>\n",
              "      <td>3.35</td>\n",
              "      <td>0.80</td>\n",
              "      <td>10.5</td>\n",
              "      <td>5</td>\n",
              "      <td>0</td>\n",
              "    </tr>\n",
              "    <tr>\n",
              "      <th>12</th>\n",
              "      <td>5.6</td>\n",
              "      <td>0.615</td>\n",
              "      <td>0.00</td>\n",
              "      <td>1.6</td>\n",
              "      <td>0.089</td>\n",
              "      <td>16.0</td>\n",
              "      <td>59.0</td>\n",
              "      <td>0.9943</td>\n",
              "      <td>3.58</td>\n",
              "      <td>0.52</td>\n",
              "      <td>9.9</td>\n",
              "      <td>5</td>\n",
              "      <td>0</td>\n",
              "    </tr>\n",
              "    <tr>\n",
              "      <th>13</th>\n",
              "      <td>7.8</td>\n",
              "      <td>0.610</td>\n",
              "      <td>0.29</td>\n",
              "      <td>1.6</td>\n",
              "      <td>0.114</td>\n",
              "      <td>9.0</td>\n",
              "      <td>29.0</td>\n",
              "      <td>0.9974</td>\n",
              "      <td>3.26</td>\n",
              "      <td>1.56</td>\n",
              "      <td>9.1</td>\n",
              "      <td>5</td>\n",
              "      <td>0</td>\n",
              "    </tr>\n",
              "    <tr>\n",
              "      <th>14</th>\n",
              "      <td>8.9</td>\n",
              "      <td>0.620</td>\n",
              "      <td>0.18</td>\n",
              "      <td>3.8</td>\n",
              "      <td>0.176</td>\n",
              "      <td>52.0</td>\n",
              "      <td>145.0</td>\n",
              "      <td>0.9986</td>\n",
              "      <td>3.16</td>\n",
              "      <td>0.88</td>\n",
              "      <td>9.2</td>\n",
              "      <td>5</td>\n",
              "      <td>0</td>\n",
              "    </tr>\n",
              "    <tr>\n",
              "      <th>15</th>\n",
              "      <td>8.9</td>\n",
              "      <td>0.620</td>\n",
              "      <td>0.19</td>\n",
              "      <td>3.9</td>\n",
              "      <td>0.170</td>\n",
              "      <td>51.0</td>\n",
              "      <td>148.0</td>\n",
              "      <td>0.9986</td>\n",
              "      <td>3.17</td>\n",
              "      <td>0.93</td>\n",
              "      <td>9.2</td>\n",
              "      <td>5</td>\n",
              "      <td>0</td>\n",
              "    </tr>\n",
              "    <tr>\n",
              "      <th>16</th>\n",
              "      <td>8.5</td>\n",
              "      <td>0.280</td>\n",
              "      <td>0.56</td>\n",
              "      <td>1.8</td>\n",
              "      <td>0.092</td>\n",
              "      <td>35.0</td>\n",
              "      <td>103.0</td>\n",
              "      <td>0.9969</td>\n",
              "      <td>3.30</td>\n",
              "      <td>0.75</td>\n",
              "      <td>10.5</td>\n",
              "      <td>7</td>\n",
              "      <td>0</td>\n",
              "    </tr>\n",
              "    <tr>\n",
              "      <th>17</th>\n",
              "      <td>8.1</td>\n",
              "      <td>0.560</td>\n",
              "      <td>0.28</td>\n",
              "      <td>1.7</td>\n",
              "      <td>0.368</td>\n",
              "      <td>16.0</td>\n",
              "      <td>56.0</td>\n",
              "      <td>0.9968</td>\n",
              "      <td>3.11</td>\n",
              "      <td>1.28</td>\n",
              "      <td>9.3</td>\n",
              "      <td>5</td>\n",
              "      <td>0</td>\n",
              "    </tr>\n",
              "    <tr>\n",
              "      <th>18</th>\n",
              "      <td>7.4</td>\n",
              "      <td>0.590</td>\n",
              "      <td>0.08</td>\n",
              "      <td>4.4</td>\n",
              "      <td>0.086</td>\n",
              "      <td>6.0</td>\n",
              "      <td>29.0</td>\n",
              "      <td>0.9974</td>\n",
              "      <td>3.38</td>\n",
              "      <td>0.50</td>\n",
              "      <td>9.0</td>\n",
              "      <td>4</td>\n",
              "      <td>0</td>\n",
              "    </tr>\n",
              "    <tr>\n",
              "      <th>19</th>\n",
              "      <td>7.9</td>\n",
              "      <td>0.320</td>\n",
              "      <td>0.51</td>\n",
              "      <td>1.8</td>\n",
              "      <td>0.341</td>\n",
              "      <td>17.0</td>\n",
              "      <td>56.0</td>\n",
              "      <td>0.9969</td>\n",
              "      <td>3.04</td>\n",
              "      <td>1.08</td>\n",
              "      <td>9.2</td>\n",
              "      <td>6</td>\n",
              "      <td>0</td>\n",
              "    </tr>\n",
              "    <tr>\n",
              "      <th>20</th>\n",
              "      <td>8.9</td>\n",
              "      <td>0.220</td>\n",
              "      <td>0.48</td>\n",
              "      <td>1.8</td>\n",
              "      <td>0.077</td>\n",
              "      <td>29.0</td>\n",
              "      <td>60.0</td>\n",
              "      <td>0.9968</td>\n",
              "      <td>3.39</td>\n",
              "      <td>0.53</td>\n",
              "      <td>9.4</td>\n",
              "      <td>6</td>\n",
              "      <td>0</td>\n",
              "    </tr>\n",
              "    <tr>\n",
              "      <th>21</th>\n",
              "      <td>7.6</td>\n",
              "      <td>0.390</td>\n",
              "      <td>0.31</td>\n",
              "      <td>2.3</td>\n",
              "      <td>0.082</td>\n",
              "      <td>23.0</td>\n",
              "      <td>71.0</td>\n",
              "      <td>0.9982</td>\n",
              "      <td>3.52</td>\n",
              "      <td>0.65</td>\n",
              "      <td>9.7</td>\n",
              "      <td>5</td>\n",
              "      <td>0</td>\n",
              "    </tr>\n",
              "    <tr>\n",
              "      <th>22</th>\n",
              "      <td>7.9</td>\n",
              "      <td>0.430</td>\n",
              "      <td>0.21</td>\n",
              "      <td>1.6</td>\n",
              "      <td>0.106</td>\n",
              "      <td>10.0</td>\n",
              "      <td>37.0</td>\n",
              "      <td>0.9966</td>\n",
              "      <td>3.17</td>\n",
              "      <td>0.91</td>\n",
              "      <td>9.5</td>\n",
              "      <td>5</td>\n",
              "      <td>0</td>\n",
              "    </tr>\n",
              "    <tr>\n",
              "      <th>23</th>\n",
              "      <td>8.5</td>\n",
              "      <td>0.490</td>\n",
              "      <td>0.11</td>\n",
              "      <td>2.3</td>\n",
              "      <td>0.084</td>\n",
              "      <td>9.0</td>\n",
              "      <td>67.0</td>\n",
              "      <td>0.9968</td>\n",
              "      <td>3.17</td>\n",
              "      <td>0.53</td>\n",
              "      <td>9.4</td>\n",
              "      <td>5</td>\n",
              "      <td>0</td>\n",
              "    </tr>\n",
              "    <tr>\n",
              "      <th>24</th>\n",
              "      <td>6.9</td>\n",
              "      <td>0.400</td>\n",
              "      <td>0.14</td>\n",
              "      <td>2.4</td>\n",
              "      <td>0.085</td>\n",
              "      <td>21.0</td>\n",
              "      <td>40.0</td>\n",
              "      <td>0.9968</td>\n",
              "      <td>3.43</td>\n",
              "      <td>0.63</td>\n",
              "      <td>9.7</td>\n",
              "      <td>6</td>\n",
              "      <td>0</td>\n",
              "    </tr>\n",
              "    <tr>\n",
              "      <th>25</th>\n",
              "      <td>6.3</td>\n",
              "      <td>0.390</td>\n",
              "      <td>0.16</td>\n",
              "      <td>1.4</td>\n",
              "      <td>0.080</td>\n",
              "      <td>11.0</td>\n",
              "      <td>23.0</td>\n",
              "      <td>0.9955</td>\n",
              "      <td>3.34</td>\n",
              "      <td>0.56</td>\n",
              "      <td>9.3</td>\n",
              "      <td>5</td>\n",
              "      <td>0</td>\n",
              "    </tr>\n",
              "    <tr>\n",
              "      <th>26</th>\n",
              "      <td>7.6</td>\n",
              "      <td>0.410</td>\n",
              "      <td>0.24</td>\n",
              "      <td>1.8</td>\n",
              "      <td>0.080</td>\n",
              "      <td>4.0</td>\n",
              "      <td>11.0</td>\n",
              "      <td>0.9962</td>\n",
              "      <td>3.28</td>\n",
              "      <td>0.59</td>\n",
              "      <td>9.5</td>\n",
              "      <td>5</td>\n",
              "      <td>0</td>\n",
              "    </tr>\n",
              "    <tr>\n",
              "      <th>27</th>\n",
              "      <td>7.9</td>\n",
              "      <td>0.430</td>\n",
              "      <td>0.21</td>\n",
              "      <td>1.6</td>\n",
              "      <td>0.106</td>\n",
              "      <td>10.0</td>\n",
              "      <td>37.0</td>\n",
              "      <td>0.9966</td>\n",
              "      <td>3.17</td>\n",
              "      <td>0.91</td>\n",
              "      <td>9.5</td>\n",
              "      <td>5</td>\n",
              "      <td>0</td>\n",
              "    </tr>\n",
              "    <tr>\n",
              "      <th>28</th>\n",
              "      <td>7.1</td>\n",
              "      <td>0.710</td>\n",
              "      <td>0.00</td>\n",
              "      <td>1.9</td>\n",
              "      <td>0.080</td>\n",
              "      <td>14.0</td>\n",
              "      <td>35.0</td>\n",
              "      <td>0.9972</td>\n",
              "      <td>3.47</td>\n",
              "      <td>0.55</td>\n",
              "      <td>9.4</td>\n",
              "      <td>5</td>\n",
              "      <td>0</td>\n",
              "    </tr>\n",
              "    <tr>\n",
              "      <th>29</th>\n",
              "      <td>7.8</td>\n",
              "      <td>0.645</td>\n",
              "      <td>0.00</td>\n",
              "      <td>2.0</td>\n",
              "      <td>0.082</td>\n",
              "      <td>8.0</td>\n",
              "      <td>16.0</td>\n",
              "      <td>0.9964</td>\n",
              "      <td>3.38</td>\n",
              "      <td>0.59</td>\n",
              "      <td>9.8</td>\n",
              "      <td>6</td>\n",
              "      <td>0</td>\n",
              "    </tr>\n",
              "  </tbody>\n",
              "</table>\n",
              "</div>"
            ],
            "text/plain": [
              "    fixed acidity  volatile acidity  citric acid  ...  alcohol  quality  type\n",
              "0             7.4             0.700         0.00  ...      9.4        5     0\n",
              "1             7.8             0.880         0.00  ...      9.8        5     0\n",
              "2             7.8             0.760         0.04  ...      9.8        5     0\n",
              "3            11.2             0.280         0.56  ...      9.8        6     0\n",
              "4             7.4             0.700         0.00  ...      9.4        5     0\n",
              "5             7.4             0.660         0.00  ...      9.4        5     0\n",
              "6             7.9             0.600         0.06  ...      9.4        5     0\n",
              "7             7.3             0.650         0.00  ...     10.0        7     0\n",
              "8             7.8             0.580         0.02  ...      9.5        7     0\n",
              "9             7.5             0.500         0.36  ...     10.5        5     0\n",
              "10            6.7             0.580         0.08  ...      9.2        5     0\n",
              "11            7.5             0.500         0.36  ...     10.5        5     0\n",
              "12            5.6             0.615         0.00  ...      9.9        5     0\n",
              "13            7.8             0.610         0.29  ...      9.1        5     0\n",
              "14            8.9             0.620         0.18  ...      9.2        5     0\n",
              "15            8.9             0.620         0.19  ...      9.2        5     0\n",
              "16            8.5             0.280         0.56  ...     10.5        7     0\n",
              "17            8.1             0.560         0.28  ...      9.3        5     0\n",
              "18            7.4             0.590         0.08  ...      9.0        4     0\n",
              "19            7.9             0.320         0.51  ...      9.2        6     0\n",
              "20            8.9             0.220         0.48  ...      9.4        6     0\n",
              "21            7.6             0.390         0.31  ...      9.7        5     0\n",
              "22            7.9             0.430         0.21  ...      9.5        5     0\n",
              "23            8.5             0.490         0.11  ...      9.4        5     0\n",
              "24            6.9             0.400         0.14  ...      9.7        6     0\n",
              "25            6.3             0.390         0.16  ...      9.3        5     0\n",
              "26            7.6             0.410         0.24  ...      9.5        5     0\n",
              "27            7.9             0.430         0.21  ...      9.5        5     0\n",
              "28            7.1             0.710         0.00  ...      9.4        5     0\n",
              "29            7.8             0.645         0.00  ...      9.8        6     0\n",
              "\n",
              "[30 rows x 13 columns]"
            ]
          },
          "metadata": {
            "tags": []
          },
          "execution_count": 11
        }
      ]
    },
    {
      "cell_type": "code",
      "metadata": {
        "colab": {
          "base_uri": "https://localhost:8080/"
        },
        "id": "rn8d3R-Hh_4K",
        "outputId": "46ca45c9-2e47-4d77-a482-44176e5788d8"
      },
      "source": [
        "#섞어준다.\n",
        "wine_shuffle = wine.sample(frac=1)\n",
        "print(wine_shuffle.head())"
      ],
      "execution_count": 12,
      "outputs": [
        {
          "output_type": "stream",
          "text": [
            "      fixed acidity  volatile acidity  citric acid  ...  alcohol  quality  type\n",
            "1592            6.8             0.210         0.74  ...     10.7        6     1\n",
            "1564            9.1             0.280         0.49  ...     10.1        5     1\n",
            "4511            6.1             0.270         0.32  ...     12.5        6     1\n",
            "1353            7.6             0.645         0.03  ...     10.3        5     0\n",
            "222             6.2             0.250         0.25  ...     11.1        7     1\n",
            "\n",
            "[5 rows x 13 columns]\n"
          ],
          "name": "stdout"
        }
      ]
    },
    {
      "cell_type": "code",
      "metadata": {
        "colab": {
          "base_uri": "https://localhost:8080/"
        },
        "id": "Z3aRGF2wiVvj",
        "outputId": "45481eda-ca35-4657-9335-639966b21961"
      },
      "source": [
        "#넘파이화\n",
        "wine_np = wine_shuffle.to_numpy()\n",
        "print(type(wine_np))"
      ],
      "execution_count": 13,
      "outputs": [
        {
          "output_type": "stream",
          "text": [
            "<class 'numpy.ndarray'>\n"
          ],
          "name": "stdout"
        }
      ]
    },
    {
      "cell_type": "code",
      "metadata": {
        "colab": {
          "base_uri": "https://localhost:8080/"
        },
        "id": "5nBCv6HBikK_",
        "outputId": "bf099b70-e311-4932-c90e-4b1da6ac71e0"
      },
      "source": [
        "print(\"Total dataset index : \" , len(wine_np))\n",
        "train_idx = int(len(wine_np) * 0.8)\n",
        "print(\"Train dataset index : \", train_idx)"
      ],
      "execution_count": 14,
      "outputs": [
        {
          "output_type": "stream",
          "text": [
            "Total dataset index :  6497\n",
            "Train dataset index :  5197\n"
          ],
          "name": "stdout"
        }
      ]
    },
    {
      "cell_type": "code",
      "metadata": {
        "id": "hSTHhv32i9zr"
      },
      "source": [
        "train_X, train_Y =  wine_np[ : train_idx,  : -1], wine_np[ : train_idx,  -1]\n",
        "test_X, test_Y   =  wine_np[ train_idx : , : -1], wine_np[ train_idx : , -1]"
      ],
      "execution_count": 15,
      "outputs": []
    },
    {
      "cell_type": "code",
      "metadata": {
        "colab": {
          "base_uri": "https://localhost:8080/"
        },
        "id": "rT3d18lJji8s",
        "outputId": "7d4ec24b-7796-4331-e241-3d2d242bc905"
      },
      "source": [
        "print(train_X.shape)\n",
        "print(train_Y.shape)\n",
        "print(test_X.shape)\n",
        "print(test_Y.shape)\n",
        "#학습과 테스트가 잘 쪼개진 것을 볼 수 있다."
      ],
      "execution_count": 16,
      "outputs": [
        {
          "output_type": "stream",
          "text": [
            "(5197, 12)\n",
            "(5197,)\n",
            "(1300, 12)\n",
            "(1300,)\n"
          ],
          "name": "stdout"
        }
      ]
    },
    {
      "cell_type": "code",
      "metadata": {
        "colab": {
          "base_uri": "https://localhost:8080/"
        },
        "id": "cxkagE7_jrnU",
        "outputId": "277c5393-ad2d-437b-a674-28c27b9b2bc2"
      },
      "source": [
        "train_X[0]"
      ],
      "execution_count": 17,
      "outputs": [
        {
          "output_type": "execute_result",
          "data": {
            "text/plain": [
              "array([6.800e+00, 2.100e-01, 7.400e-01, 1.200e+00, 4.700e-02, 2.500e+01,\n",
              "       1.110e+02, 9.916e-01, 3.130e+00, 4.100e-01, 1.070e+01, 6.000e+00])"
            ]
          },
          "metadata": {
            "tags": []
          },
          "execution_count": 17
        }
      ]
    },
    {
      "cell_type": "code",
      "metadata": {
        "colab": {
          "base_uri": "https://localhost:8080/"
        },
        "id": "ezsIJDBLj3xp",
        "outputId": "d34f49d1-4991-49c8-8312-7a68540ceadc"
      },
      "source": [
        "print(\"\\nBefore - to_categorical : \\n\")\n",
        "\n",
        "print(train_Y[0])\n",
        "print(train_Y[1])\n",
        "print(train_Y[2])\n",
        "\n",
        "#red와 white를 카테고리로 구분하자.\n",
        "\n",
        "train_Y_to_categorical = tf.keras.utils.to_categorical(train_Y, num_classes=2)\n",
        "test_Y_to_categorical  = tf.keras.utils.to_categorical(test_Y, num_classes=2)\n",
        "\n",
        "\n",
        "test_Y_to_categorical_5  = tf.keras.utils.to_categorical(test_Y, num_classes = 5)\n",
        "\n",
        "print(\"\\nAfter - to_categorical : \\n\")\n",
        "print(train_Y_to_categorical[0])\n",
        "print(train_Y_to_categorical[1])\n",
        "print(train_Y_to_categorical[2])\n",
        "\n",
        "print(\"\\nAfter - to_categorical_5 : \\n\")\n",
        "print(test_Y_to_categorical_5[:3])"
      ],
      "execution_count": 18,
      "outputs": [
        {
          "output_type": "stream",
          "text": [
            "\n",
            "Before - to_categorical : \n",
            "\n",
            "1.0\n",
            "1.0\n",
            "1.0\n",
            "\n",
            "After - to_categorical : \n",
            "\n",
            "[0. 1.]\n",
            "[0. 1.]\n",
            "[0. 1.]\n",
            "\n",
            "After - to_categorical_5 : \n",
            "\n",
            "[[0. 1. 0. 0. 0.]\n",
            " [0. 1. 0. 0. 0.]\n",
            " [0. 1. 0. 0. 0.]]\n"
          ],
          "name": "stdout"
        }
      ]
    },
    {
      "cell_type": "code",
      "metadata": {
        "colab": {
          "base_uri": "https://localhost:8080/"
        },
        "id": "n2tihb9mkgBw",
        "outputId": "70217159-813c-4d8d-c00a-454fe8692156"
      },
      "source": [
        "# 마지막 와인의 종류를 원핫벡터화 해줬다. \n",
        "print(train_Y_to_categorical.shape)\n",
        "print(test_Y_to_categorical.shape)"
      ],
      "execution_count": 19,
      "outputs": [
        {
          "output_type": "stream",
          "text": [
            "(5197, 2)\n",
            "(1300, 2)\n"
          ],
          "name": "stdout"
        }
      ]
    },
    {
      "cell_type": "code",
      "metadata": {
        "id": "GlipcSiQmVrY"
      },
      "source": [
        "model_swish_sigmoid = tf.keras.Sequential([\n",
        "                                           tf.keras.layers.Dense(units=48, activation='swish', input_shape= (12,)),\n",
        "                                           tf.keras.layers.Dense(units=24, activation='swish'),\n",
        "                                           tf.keras.layers.Dense(units=12, activation='swish'),\n",
        "                                           tf.keras.layers.Dense(units= 2, activation='sigmoid')\n",
        "])"
      ],
      "execution_count": 20,
      "outputs": []
    },
    {
      "cell_type": "code",
      "metadata": {
        "id": "imDhz-KlzHK9"
      },
      "source": [
        "model_swish_sigmoid_no_onehot = tf.keras.Sequential([\n",
        "                                           tf.keras.layers.Dense(units=48, activation='swish', input_shape= (12,)),\n",
        "                                           tf.keras.layers.Dense(units=24, activation='swish'),\n",
        "                                           tf.keras.layers.Dense(units=12, activation='swish'),\n",
        "                                           tf.keras.layers.Dense(units= 1, activation='sigmoid')\n",
        "])"
      ],
      "execution_count": 21,
      "outputs": []
    },
    {
      "cell_type": "code",
      "metadata": {
        "id": "ivaXoiOHq4AT"
      },
      "source": [
        "model_swish_sigmoid.compile(optimizer=tf.keras.optimizers.Adam(learning_rate=0.001),\n",
        "                            loss = 'binary_crossentropy',\n",
        "                            metrics = ['accuracy'])"
      ],
      "execution_count": 22,
      "outputs": []
    },
    {
      "cell_type": "code",
      "metadata": {
        "id": "8EXfum2-zML6"
      },
      "source": [
        "model_swish_sigmoid_no_onehot.compile(optimizer=tf.keras.optimizers.Adam(learning_rate=0.001),\n",
        "                            loss = 'binary_crossentropy',\n",
        "                            metrics = ['accuracy'])"
      ],
      "execution_count": 23,
      "outputs": []
    },
    {
      "cell_type": "code",
      "metadata": {
        "colab": {
          "base_uri": "https://localhost:8080/"
        },
        "id": "3XV9zYFurSl-",
        "outputId": "bec6e6b4-c889-4a81-ac72-250ce3179fac"
      },
      "source": [
        "model_swish_sigmoid.summary()"
      ],
      "execution_count": 24,
      "outputs": [
        {
          "output_type": "stream",
          "text": [
            "Model: \"sequential\"\n",
            "_________________________________________________________________\n",
            "Layer (type)                 Output Shape              Param #   \n",
            "=================================================================\n",
            "dense (Dense)                (None, 48)                624       \n",
            "_________________________________________________________________\n",
            "dense_1 (Dense)              (None, 24)                1176      \n",
            "_________________________________________________________________\n",
            "dense_2 (Dense)              (None, 12)                300       \n",
            "_________________________________________________________________\n",
            "dense_3 (Dense)              (None, 2)                 26        \n",
            "=================================================================\n",
            "Total params: 2,126\n",
            "Trainable params: 2,126\n",
            "Non-trainable params: 0\n",
            "_________________________________________________________________\n"
          ],
          "name": "stdout"
        }
      ]
    },
    {
      "cell_type": "code",
      "metadata": {
        "colab": {
          "base_uri": "https://localhost:8080/"
        },
        "id": "pN-tHHwArafW",
        "outputId": "87b3eeb3-0f55-4499-eb1a-5474bb737614"
      },
      "source": [
        "history = model_swish_sigmoid.fit(train_X, train_Y_to_categorical, epochs = 25, batch_size = 24,\n",
        "                                  validation_split = 0.2, \n",
        "                                  callbacks = [tf.keras.callbacks.EarlyStopping(patience = 3,\n",
        "                                                                                monitor='val_loss')])"
      ],
      "execution_count": 25,
      "outputs": [
        {
          "output_type": "stream",
          "text": [
            "Epoch 1/25\n",
            "174/174 [==============================] - 2s 3ms/step - loss: 0.2858 - accuracy: 0.9175 - val_loss: 0.1805 - val_accuracy: 0.9356\n",
            "Epoch 2/25\n",
            "174/174 [==============================] - 0s 3ms/step - loss: 0.1891 - accuracy: 0.9367 - val_loss: 0.1494 - val_accuracy: 0.9481\n",
            "Epoch 3/25\n",
            "174/174 [==============================] - 0s 3ms/step - loss: 0.1647 - accuracy: 0.9452 - val_loss: 0.1631 - val_accuracy: 0.9442\n",
            "Epoch 4/25\n",
            "174/174 [==============================] - 0s 3ms/step - loss: 0.1507 - accuracy: 0.9476 - val_loss: 0.1235 - val_accuracy: 0.9587\n",
            "Epoch 5/25\n",
            "174/174 [==============================] - 0s 3ms/step - loss: 0.1264 - accuracy: 0.9560 - val_loss: 0.1130 - val_accuracy: 0.9558\n",
            "Epoch 6/25\n",
            "174/174 [==============================] - 0s 3ms/step - loss: 0.1380 - accuracy: 0.9553 - val_loss: 0.1110 - val_accuracy: 0.9558\n",
            "Epoch 7/25\n",
            "174/174 [==============================] - 0s 3ms/step - loss: 0.1142 - accuracy: 0.9625 - val_loss: 0.1423 - val_accuracy: 0.9500\n",
            "Epoch 8/25\n",
            "174/174 [==============================] - 0s 3ms/step - loss: 0.1187 - accuracy: 0.9615 - val_loss: 0.1304 - val_accuracy: 0.9538\n",
            "Epoch 9/25\n",
            "174/174 [==============================] - 0s 3ms/step - loss: 0.1012 - accuracy: 0.9694 - val_loss: 0.0835 - val_accuracy: 0.9712\n",
            "Epoch 10/25\n",
            "174/174 [==============================] - 0s 3ms/step - loss: 0.0968 - accuracy: 0.9704 - val_loss: 0.0814 - val_accuracy: 0.9712\n",
            "Epoch 11/25\n",
            "174/174 [==============================] - 0s 3ms/step - loss: 0.0939 - accuracy: 0.9719 - val_loss: 0.0804 - val_accuracy: 0.9769\n",
            "Epoch 12/25\n",
            "174/174 [==============================] - 1s 3ms/step - loss: 0.0965 - accuracy: 0.9692 - val_loss: 0.1019 - val_accuracy: 0.9615\n",
            "Epoch 13/25\n",
            "174/174 [==============================] - 1s 3ms/step - loss: 0.1020 - accuracy: 0.9663 - val_loss: 0.0782 - val_accuracy: 0.9750\n",
            "Epoch 14/25\n",
            "174/174 [==============================] - 1s 3ms/step - loss: 0.0844 - accuracy: 0.9764 - val_loss: 0.0692 - val_accuracy: 0.9798\n",
            "Epoch 15/25\n",
            "174/174 [==============================] - 1s 3ms/step - loss: 0.0794 - accuracy: 0.9779 - val_loss: 0.1755 - val_accuracy: 0.9433\n",
            "Epoch 16/25\n",
            "174/174 [==============================] - 1s 3ms/step - loss: 0.0897 - accuracy: 0.9728 - val_loss: 0.0688 - val_accuracy: 0.9788\n",
            "Epoch 17/25\n",
            "174/174 [==============================] - 1s 3ms/step - loss: 0.0788 - accuracy: 0.9764 - val_loss: 0.0650 - val_accuracy: 0.9817\n",
            "Epoch 18/25\n",
            "174/174 [==============================] - 1s 3ms/step - loss: 0.0882 - accuracy: 0.9743 - val_loss: 0.0611 - val_accuracy: 0.9779\n",
            "Epoch 19/25\n",
            "174/174 [==============================] - 0s 3ms/step - loss: 0.0736 - accuracy: 0.9791 - val_loss: 0.0620 - val_accuracy: 0.9827\n",
            "Epoch 20/25\n",
            "174/174 [==============================] - 0s 3ms/step - loss: 0.0790 - accuracy: 0.9767 - val_loss: 0.0598 - val_accuracy: 0.9798\n",
            "Epoch 21/25\n",
            "174/174 [==============================] - 0s 3ms/step - loss: 0.0795 - accuracy: 0.9771 - val_loss: 0.0575 - val_accuracy: 0.9817\n",
            "Epoch 22/25\n",
            "174/174 [==============================] - 0s 3ms/step - loss: 0.0846 - accuracy: 0.9771 - val_loss: 0.0563 - val_accuracy: 0.9808\n",
            "Epoch 23/25\n",
            "174/174 [==============================] - 0s 3ms/step - loss: 0.0683 - accuracy: 0.9805 - val_loss: 0.0548 - val_accuracy: 0.9837\n",
            "Epoch 24/25\n",
            "174/174 [==============================] - 1s 3ms/step - loss: 0.0708 - accuracy: 0.9791 - val_loss: 0.0551 - val_accuracy: 0.9837\n",
            "Epoch 25/25\n",
            "174/174 [==============================] - 1s 3ms/step - loss: 0.0723 - accuracy: 0.9796 - val_loss: 0.0574 - val_accuracy: 0.9808\n"
          ],
          "name": "stdout"
        }
      ]
    },
    {
      "cell_type": "code",
      "metadata": {
        "colab": {
          "base_uri": "https://localhost:8080/"
        },
        "id": "GUT4Gh6NzpLE",
        "outputId": "d6cf295e-6353-4a8d-a67f-4ad9200ade2f"
      },
      "source": [
        "model_swish_sigmoid_no_onehot.summary()"
      ],
      "execution_count": 26,
      "outputs": [
        {
          "output_type": "stream",
          "text": [
            "Model: \"sequential_1\"\n",
            "_________________________________________________________________\n",
            "Layer (type)                 Output Shape              Param #   \n",
            "=================================================================\n",
            "dense_4 (Dense)              (None, 48)                624       \n",
            "_________________________________________________________________\n",
            "dense_5 (Dense)              (None, 24)                1176      \n",
            "_________________________________________________________________\n",
            "dense_6 (Dense)              (None, 12)                300       \n",
            "_________________________________________________________________\n",
            "dense_7 (Dense)              (None, 1)                 13        \n",
            "=================================================================\n",
            "Total params: 2,113\n",
            "Trainable params: 2,113\n",
            "Non-trainable params: 0\n",
            "_________________________________________________________________\n"
          ],
          "name": "stdout"
        }
      ]
    },
    {
      "cell_type": "code",
      "metadata": {
        "colab": {
          "base_uri": "https://localhost:8080/"
        },
        "id": "gn2ek8w5z06a",
        "outputId": "db5132c5-69ea-4c47-e773-77ffe4a48b63"
      },
      "source": [
        "history = model_swish_sigmoid_no_onehot.fit(train_X, train_Y, epochs = 25, batch_size = 24,\n",
        "                                  validation_split = 0.2, \n",
        "                                  callbacks = [tf.keras.callbacks.EarlyStopping(patience = 3,\n",
        "                                                                                monitor='val_loss')])"
      ],
      "execution_count": 27,
      "outputs": [
        {
          "output_type": "stream",
          "text": [
            "Epoch 1/25\n",
            "174/174 [==============================] - 1s 4ms/step - loss: 0.5891 - accuracy: 0.8759 - val_loss: 0.2088 - val_accuracy: 0.9144\n",
            "Epoch 2/25\n",
            "174/174 [==============================] - 1s 3ms/step - loss: 0.2143 - accuracy: 0.9266 - val_loss: 0.1678 - val_accuracy: 0.9375\n",
            "Epoch 3/25\n",
            "174/174 [==============================] - 1s 3ms/step - loss: 0.1872 - accuracy: 0.9379 - val_loss: 0.1349 - val_accuracy: 0.9510\n",
            "Epoch 4/25\n",
            "174/174 [==============================] - 0s 3ms/step - loss: 0.1592 - accuracy: 0.9468 - val_loss: 0.1311 - val_accuracy: 0.9500\n",
            "Epoch 5/25\n",
            "174/174 [==============================] - 1s 3ms/step - loss: 0.1523 - accuracy: 0.9471 - val_loss: 0.1135 - val_accuracy: 0.9558\n",
            "Epoch 6/25\n",
            "174/174 [==============================] - 1s 3ms/step - loss: 0.1278 - accuracy: 0.9548 - val_loss: 0.1076 - val_accuracy: 0.9644\n",
            "Epoch 7/25\n",
            "174/174 [==============================] - 1s 3ms/step - loss: 0.1167 - accuracy: 0.9610 - val_loss: 0.1521 - val_accuracy: 0.9452\n",
            "Epoch 8/25\n",
            "174/174 [==============================] - 1s 3ms/step - loss: 0.1173 - accuracy: 0.9622 - val_loss: 0.2361 - val_accuracy: 0.9346\n",
            "Epoch 9/25\n",
            "174/174 [==============================] - 1s 3ms/step - loss: 0.1269 - accuracy: 0.9589 - val_loss: 0.1213 - val_accuracy: 0.9577\n"
          ],
          "name": "stdout"
        }
      ]
    },
    {
      "cell_type": "code",
      "metadata": {
        "id": "1FUl_0esr9aK"
      },
      "source": [
        "#한쪽으로 치우쳐진 변수에 대해서 acc를 챙겨가게 된다. "
      ],
      "execution_count": 28,
      "outputs": []
    },
    {
      "cell_type": "code",
      "metadata": {
        "id": "CHnq10fksots"
      },
      "source": [
        "val_accuracy = history.history['val_accuracy']\n",
        "accuracy = history.history['accuracy']"
      ],
      "execution_count": 29,
      "outputs": []
    },
    {
      "cell_type": "code",
      "metadata": {
        "id": "RykR3ZYftB9w"
      },
      "source": [
        "val_loss = history.history['val_loss']\n",
        "loss     = history.history['loss']"
      ],
      "execution_count": 30,
      "outputs": []
    },
    {
      "cell_type": "code",
      "metadata": {
        "colab": {
          "base_uri": "https://localhost:8080/"
        },
        "id": "rGtfRiUlsy97",
        "outputId": "9272351b-900d-456a-c8bc-756bc6d963a6"
      },
      "source": [
        "print(val_accuracy)\n",
        "print(accuracy)"
      ],
      "execution_count": 31,
      "outputs": [
        {
          "output_type": "stream",
          "text": [
            "[0.9144230484962463, 0.9375, 0.9509615302085876, 0.949999988079071, 0.9557692408561707, 0.9644230604171753, 0.9451923370361328, 0.9346153736114502, 0.9576923251152039]\n",
            "[0.875872015953064, 0.9266297817230225, 0.937936007976532, 0.9468366503715515, 0.947077214717865, 0.9547750949859619, 0.961029589176178, 0.9622323513031006, 0.9588645696640015]\n"
          ],
          "name": "stdout"
        }
      ]
    },
    {
      "cell_type": "code",
      "metadata": {
        "colab": {
          "base_uri": "https://localhost:8080/",
          "height": 283
        },
        "id": "BrfBcrMNtQgB",
        "outputId": "6dafb50a-7c8b-406a-d6a6-66eef2ec4609"
      },
      "source": [
        "plt.figure(figsize=(12,4))\n",
        "plt.subplot(1, 2, 1)\n",
        "plt.plot(history.history['loss'], 'b-', label = 'Train Loss')\n",
        "plt.plot(history.history['val_loss'], 'r--', label = 'Val Loss')\n",
        "#붉은색은 검증된 손실값?\n",
        "plt.xlabel('Epochs')\n",
        "plt.title(\"Train Loss : {:.3f}\\nVal Loss : {:.3f}\".\\\n",
        "          format(loss[-1], val_loss[-1]), fontsize = 15)\n",
        "\n",
        "\n",
        "plt.grid()\n",
        "plt.legend()\n",
        "\n",
        "plt.subplot(1, 2, 2)\n",
        "plt.plot(history.history['accuracy'], 'b-', label = 'Train Accuracy')\n",
        "plt.plot(history.history['val_accuracy'], 'r--', label = 'Val Accuracy')\n",
        "plt.xlabel('Epochs')\n",
        "plt.title(\"Train Acc : {:.3f}\\nVal Acc : {:.3f}\".\\\n",
        "          format(accuracy[-1], val_accuracy[-1]), fontsize = 15)\n",
        "\n",
        "plt.grid()\n",
        "plt.legend()\n",
        "\n",
        "plt.show()\n"
      ],
      "execution_count": 32,
      "outputs": [
        {
          "output_type": "display_data",
          "data": {
            "image/png": "[encoded data removed]",
            "text/plain": [
              "<Figure size 864x288 with 2 Axes>"
            ]
          },
          "metadata": {
            "tags": [],
            "needs_background": "light"
          }
        }
      ]
    },
    {
      "cell_type": "code",
      "metadata": {
        "colab": {
          "base_uri": "https://localhost:8080/"
        },
        "id": "-wNOHq0ztWfO",
        "outputId": "c6d9a233-65be-48e1-f9e4-d5cd40c0a1ec"
      },
      "source": [
        "model_swish_sigmoid.evaluate(test_X, test_Y_to_categorical)"
      ],
      "execution_count": 33,
      "outputs": [
        {
          "output_type": "stream",
          "text": [
            "41/41 [==============================] - 0s 2ms/step - loss: 0.0781 - accuracy: 0.9785\n"
          ],
          "name": "stdout"
        },
        {
          "output_type": "execute_result",
          "data": {
            "text/plain": [
              "[0.07813827693462372, 0.9784615635871887]"
            ]
          },
          "metadata": {
            "tags": []
          },
          "execution_count": 33
        }
      ]
    },
    {
      "cell_type": "code",
      "metadata": {
        "colab": {
          "base_uri": "https://localhost:8080/"
        },
        "id": "acEkpSmqu4_F",
        "outputId": "56a7b4c1-141a-44e9-9173-d7e220cfd940"
      },
      "source": [
        "pred_Y = model_swish_sigmoid.predict(test_X)\n",
        "print(np.round(pred_Y[:20], 2))\n",
        "\n",
        "#[첫번째 유닛의 값,두번째 유닛의 값]\n",
        "#이진분류는 0과1인데, 이걸로 어떻게 학습을 시킬까??\n",
        "#경사하강법으로 하는 학습도 있지만, 손실함수를 구하려고하니..\n",
        "#실제값이 1이고 예측값이 0, 실제값이 0이고 예측값이 1 일때..불가\n",
        "#확률분포자체를 학습시킨다?!"
      ],
      "execution_count": 34,
      "outputs": [
        {
          "output_type": "stream",
          "text": [
            "[[0.   1.  ]\n",
            " [0.   1.  ]\n",
            " [0.   1.  ]\n",
            " [1.   0.  ]\n",
            " [0.   1.  ]\n",
            " [0.   1.  ]\n",
            " [1.   0.  ]\n",
            " [0.   1.  ]\n",
            " [0.   1.  ]\n",
            " [0.   1.  ]\n",
            " [0.   1.  ]\n",
            " [0.   1.  ]\n",
            " [0.   1.  ]\n",
            " [0.95 0.04]\n",
            " [0.   1.  ]\n",
            " [0.01 0.99]\n",
            " [0.   1.  ]\n",
            " [0.   1.  ]\n",
            " [0.   1.  ]\n",
            " [0.98 0.02]]\n"
          ],
          "name": "stdout"
        }
      ]
    },
    {
      "cell_type": "code",
      "metadata": {
        "colab": {
          "base_uri": "https://localhost:8080/"
        },
        "id": "tL1UKTpQ0oZC",
        "outputId": "7b634038-33db-446b-e77a-92bfe75032fd"
      },
      "source": [
        "pred_Y = model_swish_sigmoid_no_onehot.predict(test_X)\n",
        "print(np.round(pred_Y[:20], 2))"
      ],
      "execution_count": 35,
      "outputs": [
        {
          "output_type": "stream",
          "text": [
            "[[0.99]\n",
            " [0.93]\n",
            " [1.  ]\n",
            " [0.  ]\n",
            " [0.95]\n",
            " [0.91]\n",
            " [0.  ]\n",
            " [1.  ]\n",
            " [0.98]\n",
            " [0.99]\n",
            " [0.96]\n",
            " [0.98]\n",
            " [0.96]\n",
            " [0.09]\n",
            " [1.  ]\n",
            " [0.92]\n",
            " [1.  ]\n",
            " [0.98]\n",
            " [1.  ]\n",
            " [0.03]]\n"
          ],
          "name": "stdout"
        }
      ]
    },
    {
      "cell_type": "code",
      "metadata": {
        "colab": {
          "base_uri": "https://localhost:8080/"
        },
        "id": "2-yUP_0GvAjw",
        "outputId": "4af21432-baec-4732-8d81-88a8f7a8233c"
      },
      "source": [
        "pred_Y = np.round(pred_Y)\n",
        "print(pred_Y[:20])"
      ],
      "execution_count": 36,
      "outputs": [
        {
          "output_type": "stream",
          "text": [
            "[[1.]\n",
            " [1.]\n",
            " [1.]\n",
            " [0.]\n",
            " [1.]\n",
            " [1.]\n",
            " [0.]\n",
            " [1.]\n",
            " [1.]\n",
            " [1.]\n",
            " [1.]\n",
            " [1.]\n",
            " [1.]\n",
            " [0.]\n",
            " [1.]\n",
            " [1.]\n",
            " [1.]\n",
            " [1.]\n",
            " [1.]\n",
            " [0.]]\n"
          ],
          "name": "stdout"
        }
      ]
    },
    {
      "cell_type": "code",
      "metadata": {
        "id": "6INxQJ9fwBO9",
        "colab": {
          "base_uri": "https://localhost:8080/"
        },
        "outputId": "7f1a7fd5-9a48-4933-a864-64dbbdc15c8e"
      },
      "source": [
        "print(test_Y_to_categorical[:20])"
      ],
      "execution_count": 37,
      "outputs": [
        {
          "output_type": "stream",
          "text": [
            "[[0. 1.]\n",
            " [0. 1.]\n",
            " [0. 1.]\n",
            " [1. 0.]\n",
            " [0. 1.]\n",
            " [0. 1.]\n",
            " [1. 0.]\n",
            " [0. 1.]\n",
            " [0. 1.]\n",
            " [0. 1.]\n",
            " [0. 1.]\n",
            " [0. 1.]\n",
            " [0. 1.]\n",
            " [1. 0.]\n",
            " [0. 1.]\n",
            " [1. 0.]\n",
            " [0. 1.]\n",
            " [0. 1.]\n",
            " [0. 1.]\n",
            " [1. 0.]]\n"
          ],
          "name": "stdout"
        }
      ]
    },
    {
      "cell_type": "code",
      "metadata": {
        "id": "z-IDjhi_0rbK"
      },
      "source": [
        "model_swish_sigmoid.save('model_swish_sigmoid.h5')"
      ],
      "execution_count": 38,
      "outputs": []
    },
    {
      "cell_type": "code",
      "metadata": {
        "colab": {
          "base_uri": "https://localhost:8080/"
        },
        "id": "bg77MZHb0zcp",
        "outputId": "d0792be9-1e71-4d9e-ac89-56695e95a279"
      },
      "source": [
        "print(wine['quality'].describe())"
      ],
      "execution_count": 39,
      "outputs": [
        {
          "output_type": "stream",
          "text": [
            "count    6497.000000\n",
            "mean        5.818378\n",
            "std         0.873255\n",
            "min         3.000000\n",
            "25%         5.000000\n",
            "50%         6.000000\n",
            "75%         6.000000\n",
            "max         9.000000\n",
            "Name: quality, dtype: float64\n"
          ],
          "name": "stdout"
        }
      ]
    },
    {
      "cell_type": "code",
      "metadata": {
        "colab": {
          "base_uri": "https://localhost:8080/"
        },
        "id": "fLNz74RJ00ee",
        "outputId": "f3ec5925-1660-4c5d-96d6-b490889eea74"
      },
      "source": [
        "print(wine['quality'].value_counts())\n"
      ],
      "execution_count": 40,
      "outputs": [
        {
          "output_type": "stream",
          "text": [
            "6    2836\n",
            "5    2138\n",
            "7    1079\n",
            "4     216\n",
            "8     193\n",
            "3      30\n",
            "9       5\n",
            "Name: quality, dtype: int64\n"
          ],
          "name": "stdout"
        }
      ]
    },
    {
      "cell_type": "code",
      "metadata": {
        "id": "DQPkn-QS01u7"
      },
      "source": [
        "import seaborn as sns\n",
        "import matplotlib.pyplot as plt\n"
      ],
      "execution_count": 41,
      "outputs": []
    },
    {
      "cell_type": "code",
      "metadata": {
        "colab": {
          "base_uri": "https://localhost:8080/",
          "height": 298
        },
        "id": "-cIWzo0205jR",
        "outputId": "636c418b-7a43-4ca1-94b3-080c9af910b7"
      },
      "source": [
        "sns.histplot(wine['quality'], color = 'red', binwidth=0.5)"
      ],
      "execution_count": 42,
      "outputs": [
        {
          "output_type": "execute_result",
          "data": {
            "text/plain": [
              "<matplotlib.axes._subplots.AxesSubplot at 0x7fdcaf3e6150>"
            ]
          },
          "metadata": {
            "tags": []
          },
          "execution_count": 42
        },
        {
          "output_type": "display_data",
          "data": {
            "image/png": "[encoded data removed]",
            "text/plain": [
              "<Figure size 432x288 with 1 Axes>"
            ]
          },
          "metadata": {
            "tags": [],
            "needs_background": "light"
          }
        }
      ]
    },
    {
      "cell_type": "code",
      "metadata": {
        "id": "-VGPobSi06X0"
      },
      "source": [
        "#비슷한 수치의 quality를 묶어서 범주화 한다.\n",
        "#new_quality bad(3~5),normal(6),good(7~9)"
      ],
      "execution_count": 43,
      "outputs": []
    },
    {
      "cell_type": "code",
      "metadata": {
        "id": "ORYd5zm31FFL"
      },
      "source": [
        "wine.loc[wine['quality'] <= 5,'new_quality'] = 0\n",
        "wine.loc[wine['quality'] == 6,'new_quality'] = 1\n",
        "wine.loc[wine['quality'] >= 7,'new_quality'] = 2"
      ],
      "execution_count": 44,
      "outputs": []
    },
    {
      "cell_type": "code",
      "metadata": {
        "colab": {
          "base_uri": "https://localhost:8080/"
        },
        "id": "0YvBqjxS1iIj",
        "outputId": "9596b852-a726-45e5-f17a-72cf1fa375bf"
      },
      "source": [
        "print(wine['new_quality'].value_counts())"
      ],
      "execution_count": 45,
      "outputs": [
        {
          "output_type": "stream",
          "text": [
            "1.0    2836\n",
            "0.0    2384\n",
            "2.0    1277\n",
            "Name: new_quality, dtype: int64\n"
          ],
          "name": "stdout"
        }
      ]
    },
    {
      "cell_type": "code",
      "metadata": {
        "colab": {
          "base_uri": "https://localhost:8080/",
          "height": 280
        },
        "id": "0vN8RxGE1nmv",
        "outputId": "0089ff7d-7679-456d-b7b2-c5f97b806938"
      },
      "source": [
        "sns.histplot(wine['new_quality'], binwidth=0.3)\n",
        "plt.xticks(ticks=[0,2,1])\n",
        "plt.show()\n"
      ],
      "execution_count": 46,
      "outputs": [
        {
          "output_type": "display_data",
          "data": {
            "image/png": "[encoded data removed]",
            "text/plain": [
              "<Figure size 432x288 with 1 Axes>"
            ]
          },
          "metadata": {
            "tags": [],
            "needs_background": "light"
          }
        }
      ]
    },
    {
      "cell_type": "code",
      "metadata": {
        "colab": {
          "base_uri": "https://localhost:8080/",
          "height": 478
        },
        "id": "DYqA5Fc61wVV",
        "outputId": "0ee9cb53-9667-4d07-fefa-db3c3a73666b"
      },
      "source": [
        "wine"
      ],
      "execution_count": 47,
      "outputs": [
        {
          "output_type": "execute_result",
          "data": {
            "text/html": [
              "<div>\n",
              "<style scoped>\n",
              "    .dataframe tbody tr th:only-of-type {\n",
              "        vertical-align: middle;\n",
              "    }\n",
              "\n",
              "    .dataframe tbody tr th {\n",
              "        vertical-align: top;\n",
              "    }\n",
              "\n",
              "    .dataframe thead th {\n",
              "        text-align: right;\n",
              "    }\n",
              "</style>\n",
              "<table border=\"1\" class=\"dataframe\">\n",
              "  <thead>\n",
              "    <tr style=\"text-align: right;\">\n",
              "      <th></th>\n",
              "      <th>fixed acidity</th>\n",
              "      <th>volatile acidity</th>\n",
              "      <th>citric acid</th>\n",
              "      <th>residual sugar</th>\n",
              "      <th>chlorides</th>\n",
              "      <th>free sulfur dioxide</th>\n",
              "      <th>total sulfur dioxide</th>\n",
              "      <th>density</th>\n",
              "      <th>pH</th>\n",
              "      <th>sulphates</th>\n",
              "      <th>alcohol</th>\n",
              "      <th>quality</th>\n",
              "      <th>type</th>\n",
              "      <th>new_quality</th>\n",
              "    </tr>\n",
              "  </thead>\n",
              "  <tbody>\n",
              "    <tr>\n",
              "      <th>0</th>\n",
              "      <td>7.4</td>\n",
              "      <td>0.70</td>\n",
              "      <td>0.00</td>\n",
              "      <td>1.9</td>\n",
              "      <td>0.076</td>\n",
              "      <td>11.0</td>\n",
              "      <td>34.0</td>\n",
              "      <td>0.99780</td>\n",
              "      <td>3.51</td>\n",
              "      <td>0.56</td>\n",
              "      <td>9.4</td>\n",
              "      <td>5</td>\n",
              "      <td>0</td>\n",
              "      <td>0.0</td>\n",
              "    </tr>\n",
              "    <tr>\n",
              "      <th>1</th>\n",
              "      <td>7.8</td>\n",
              "      <td>0.88</td>\n",
              "      <td>0.00</td>\n",
              "      <td>2.6</td>\n",
              "      <td>0.098</td>\n",
              "      <td>25.0</td>\n",
              "      <td>67.0</td>\n",
              "      <td>0.99680</td>\n",
              "      <td>3.20</td>\n",
              "      <td>0.68</td>\n",
              "      <td>9.8</td>\n",
              "      <td>5</td>\n",
              "      <td>0</td>\n",
              "      <td>0.0</td>\n",
              "    </tr>\n",
              "    <tr>\n",
              "      <th>2</th>\n",
              "      <td>7.8</td>\n",
              "      <td>0.76</td>\n",
              "      <td>0.04</td>\n",
              "      <td>2.3</td>\n",
              "      <td>0.092</td>\n",
              "      <td>15.0</td>\n",
              "      <td>54.0</td>\n",
              "      <td>0.99700</td>\n",
              "      <td>3.26</td>\n",
              "      <td>0.65</td>\n",
              "      <td>9.8</td>\n",
              "      <td>5</td>\n",
              "      <td>0</td>\n",
              "      <td>0.0</td>\n",
              "    </tr>\n",
              "    <tr>\n",
              "      <th>3</th>\n",
              "      <td>11.2</td>\n",
              "      <td>0.28</td>\n",
              "      <td>0.56</td>\n",
              "      <td>1.9</td>\n",
              "      <td>0.075</td>\n",
              "      <td>17.0</td>\n",
              "      <td>60.0</td>\n",
              "      <td>0.99800</td>\n",
              "      <td>3.16</td>\n",
              "      <td>0.58</td>\n",
              "      <td>9.8</td>\n",
              "      <td>6</td>\n",
              "      <td>0</td>\n",
              "      <td>1.0</td>\n",
              "    </tr>\n",
              "    <tr>\n",
              "      <th>4</th>\n",
              "      <td>7.4</td>\n",
              "      <td>0.70</td>\n",
              "      <td>0.00</td>\n",
              "      <td>1.9</td>\n",
              "      <td>0.076</td>\n",
              "      <td>11.0</td>\n",
              "      <td>34.0</td>\n",
              "      <td>0.99780</td>\n",
              "      <td>3.51</td>\n",
              "      <td>0.56</td>\n",
              "      <td>9.4</td>\n",
              "      <td>5</td>\n",
              "      <td>0</td>\n",
              "      <td>0.0</td>\n",
              "    </tr>\n",
              "    <tr>\n",
              "      <th>...</th>\n",
              "      <td>...</td>\n",
              "      <td>...</td>\n",
              "      <td>...</td>\n",
              "      <td>...</td>\n",
              "      <td>...</td>\n",
              "      <td>...</td>\n",
              "      <td>...</td>\n",
              "      <td>...</td>\n",
              "      <td>...</td>\n",
              "      <td>...</td>\n",
              "      <td>...</td>\n",
              "      <td>...</td>\n",
              "      <td>...</td>\n",
              "      <td>...</td>\n",
              "    </tr>\n",
              "    <tr>\n",
              "      <th>4893</th>\n",
              "      <td>6.2</td>\n",
              "      <td>0.21</td>\n",
              "      <td>0.29</td>\n",
              "      <td>1.6</td>\n",
              "      <td>0.039</td>\n",
              "      <td>24.0</td>\n",
              "      <td>92.0</td>\n",
              "      <td>0.99114</td>\n",
              "      <td>3.27</td>\n",
              "      <td>0.50</td>\n",
              "      <td>11.2</td>\n",
              "      <td>6</td>\n",
              "      <td>1</td>\n",
              "      <td>1.0</td>\n",
              "    </tr>\n",
              "    <tr>\n",
              "      <th>4894</th>\n",
              "      <td>6.6</td>\n",
              "      <td>0.32</td>\n",
              "      <td>0.36</td>\n",
              "      <td>8.0</td>\n",
              "      <td>0.047</td>\n",
              "      <td>57.0</td>\n",
              "      <td>168.0</td>\n",
              "      <td>0.99490</td>\n",
              "      <td>3.15</td>\n",
              "      <td>0.46</td>\n",
              "      <td>9.6</td>\n",
              "      <td>5</td>\n",
              "      <td>1</td>\n",
              "      <td>0.0</td>\n",
              "    </tr>\n",
              "    <tr>\n",
              "      <th>4895</th>\n",
              "      <td>6.5</td>\n",
              "      <td>0.24</td>\n",
              "      <td>0.19</td>\n",
              "      <td>1.2</td>\n",
              "      <td>0.041</td>\n",
              "      <td>30.0</td>\n",
              "      <td>111.0</td>\n",
              "      <td>0.99254</td>\n",
              "      <td>2.99</td>\n",
              "      <td>0.46</td>\n",
              "      <td>9.4</td>\n",
              "      <td>6</td>\n",
              "      <td>1</td>\n",
              "      <td>1.0</td>\n",
              "    </tr>\n",
              "    <tr>\n",
              "      <th>4896</th>\n",
              "      <td>5.5</td>\n",
              "      <td>0.29</td>\n",
              "      <td>0.30</td>\n",
              "      <td>1.1</td>\n",
              "      <td>0.022</td>\n",
              "      <td>20.0</td>\n",
              "      <td>110.0</td>\n",
              "      <td>0.98869</td>\n",
              "      <td>3.34</td>\n",
              "      <td>0.38</td>\n",
              "      <td>12.8</td>\n",
              "      <td>7</td>\n",
              "      <td>1</td>\n",
              "      <td>2.0</td>\n",
              "    </tr>\n",
              "    <tr>\n",
              "      <th>4897</th>\n",
              "      <td>6.0</td>\n",
              "      <td>0.21</td>\n",
              "      <td>0.38</td>\n",
              "      <td>0.8</td>\n",
              "      <td>0.020</td>\n",
              "      <td>22.0</td>\n",
              "      <td>98.0</td>\n",
              "      <td>0.98941</td>\n",
              "      <td>3.26</td>\n",
              "      <td>0.32</td>\n",
              "      <td>11.8</td>\n",
              "      <td>6</td>\n",
              "      <td>1</td>\n",
              "      <td>1.0</td>\n",
              "    </tr>\n",
              "  </tbody>\n",
              "</table>\n",
              "<p>6497 rows × 14 columns</p>\n",
              "</div>"
            ],
            "text/plain": [
              "      fixed acidity  volatile acidity  citric acid  ...  quality  type  new_quality\n",
              "0               7.4              0.70         0.00  ...        5     0          0.0\n",
              "1               7.8              0.88         0.00  ...        5     0          0.0\n",
              "2               7.8              0.76         0.04  ...        5     0          0.0\n",
              "3              11.2              0.28         0.56  ...        6     0          1.0\n",
              "4               7.4              0.70         0.00  ...        5     0          0.0\n",
              "...             ...               ...          ...  ...      ...   ...          ...\n",
              "4893            6.2              0.21         0.29  ...        6     1          1.0\n",
              "4894            6.6              0.32         0.36  ...        5     1          0.0\n",
              "4895            6.5              0.24         0.19  ...        6     1          1.0\n",
              "4896            5.5              0.29         0.30  ...        7     1          2.0\n",
              "4897            6.0              0.21         0.38  ...        6     1          1.0\n",
              "\n",
              "[6497 rows x 14 columns]"
            ]
          },
          "metadata": {
            "tags": []
          },
          "execution_count": 47
        }
      ]
    },
    {
      "cell_type": "code",
      "metadata": {
        "colab": {
          "base_uri": "https://localhost:8080/",
          "height": 478
        },
        "id": "w-4R-eev2Fqn",
        "outputId": "5375cbdc-e62d-4d17-eda6-770608ba4545"
      },
      "source": [
        "#quality 변수지우기!!\n",
        "\n",
        "del wine['quality']\n",
        "display(wine)"
      ],
      "execution_count": 48,
      "outputs": [
        {
          "output_type": "display_data",
          "data": {
            "text/html": [
              "<div>\n",
              "<style scoped>\n",
              "    .dataframe tbody tr th:only-of-type {\n",
              "        vertical-align: middle;\n",
              "    }\n",
              "\n",
              "    .dataframe tbody tr th {\n",
              "        vertical-align: top;\n",
              "    }\n",
              "\n",
              "    .dataframe thead th {\n",
              "        text-align: right;\n",
              "    }\n",
              "</style>\n",
              "<table border=\"1\" class=\"dataframe\">\n",
              "  <thead>\n",
              "    <tr style=\"text-align: right;\">\n",
              "      <th></th>\n",
              "      <th>fixed acidity</th>\n",
              "      <th>volatile acidity</th>\n",
              "      <th>citric acid</th>\n",
              "      <th>residual sugar</th>\n",
              "      <th>chlorides</th>\n",
              "      <th>free sulfur dioxide</th>\n",
              "      <th>total sulfur dioxide</th>\n",
              "      <th>density</th>\n",
              "      <th>pH</th>\n",
              "      <th>sulphates</th>\n",
              "      <th>alcohol</th>\n",
              "      <th>type</th>\n",
              "      <th>new_quality</th>\n",
              "    </tr>\n",
              "  </thead>\n",
              "  <tbody>\n",
              "    <tr>\n",
              "      <th>0</th>\n",
              "      <td>7.4</td>\n",
              "      <td>0.70</td>\n",
              "      <td>0.00</td>\n",
              "      <td>1.9</td>\n",
              "      <td>0.076</td>\n",
              "      <td>11.0</td>\n",
              "      <td>34.0</td>\n",
              "      <td>0.99780</td>\n",
              "      <td>3.51</td>\n",
              "      <td>0.56</td>\n",
              "      <td>9.4</td>\n",
              "      <td>0</td>\n",
              "      <td>0.0</td>\n",
              "    </tr>\n",
              "    <tr>\n",
              "      <th>1</th>\n",
              "      <td>7.8</td>\n",
              "      <td>0.88</td>\n",
              "      <td>0.00</td>\n",
              "      <td>2.6</td>\n",
              "      <td>0.098</td>\n",
              "      <td>25.0</td>\n",
              "      <td>67.0</td>\n",
              "      <td>0.99680</td>\n",
              "      <td>3.20</td>\n",
              "      <td>0.68</td>\n",
              "      <td>9.8</td>\n",
              "      <td>0</td>\n",
              "      <td>0.0</td>\n",
              "    </tr>\n",
              "    <tr>\n",
              "      <th>2</th>\n",
              "      <td>7.8</td>\n",
              "      <td>0.76</td>\n",
              "      <td>0.04</td>\n",
              "      <td>2.3</td>\n",
              "      <td>0.092</td>\n",
              "      <td>15.0</td>\n",
              "      <td>54.0</td>\n",
              "      <td>0.99700</td>\n",
              "      <td>3.26</td>\n",
              "      <td>0.65</td>\n",
              "      <td>9.8</td>\n",
              "      <td>0</td>\n",
              "      <td>0.0</td>\n",
              "    </tr>\n",
              "    <tr>\n",
              "      <th>3</th>\n",
              "      <td>11.2</td>\n",
              "      <td>0.28</td>\n",
              "      <td>0.56</td>\n",
              "      <td>1.9</td>\n",
              "      <td>0.075</td>\n",
              "      <td>17.0</td>\n",
              "      <td>60.0</td>\n",
              "      <td>0.99800</td>\n",
              "      <td>3.16</td>\n",
              "      <td>0.58</td>\n",
              "      <td>9.8</td>\n",
              "      <td>0</td>\n",
              "      <td>1.0</td>\n",
              "    </tr>\n",
              "    <tr>\n",
              "      <th>4</th>\n",
              "      <td>7.4</td>\n",
              "      <td>0.70</td>\n",
              "      <td>0.00</td>\n",
              "      <td>1.9</td>\n",
              "      <td>0.076</td>\n",
              "      <td>11.0</td>\n",
              "      <td>34.0</td>\n",
              "      <td>0.99780</td>\n",
              "      <td>3.51</td>\n",
              "      <td>0.56</td>\n",
              "      <td>9.4</td>\n",
              "      <td>0</td>\n",
              "      <td>0.0</td>\n",
              "    </tr>\n",
              "    <tr>\n",
              "      <th>...</th>\n",
              "      <td>...</td>\n",
              "      <td>...</td>\n",
              "      <td>...</td>\n",
              "      <td>...</td>\n",
              "      <td>...</td>\n",
              "      <td>...</td>\n",
              "      <td>...</td>\n",
              "      <td>...</td>\n",
              "      <td>...</td>\n",
              "      <td>...</td>\n",
              "      <td>...</td>\n",
              "      <td>...</td>\n",
              "      <td>...</td>\n",
              "    </tr>\n",
              "    <tr>\n",
              "      <th>4893</th>\n",
              "      <td>6.2</td>\n",
              "      <td>0.21</td>\n",
              "      <td>0.29</td>\n",
              "      <td>1.6</td>\n",
              "      <td>0.039</td>\n",
              "      <td>24.0</td>\n",
              "      <td>92.0</td>\n",
              "      <td>0.99114</td>\n",
              "      <td>3.27</td>\n",
              "      <td>0.50</td>\n",
              "      <td>11.2</td>\n",
              "      <td>1</td>\n",
              "      <td>1.0</td>\n",
              "    </tr>\n",
              "    <tr>\n",
              "      <th>4894</th>\n",
              "      <td>6.6</td>\n",
              "      <td>0.32</td>\n",
              "      <td>0.36</td>\n",
              "      <td>8.0</td>\n",
              "      <td>0.047</td>\n",
              "      <td>57.0</td>\n",
              "      <td>168.0</td>\n",
              "      <td>0.99490</td>\n",
              "      <td>3.15</td>\n",
              "      <td>0.46</td>\n",
              "      <td>9.6</td>\n",
              "      <td>1</td>\n",
              "      <td>0.0</td>\n",
              "    </tr>\n",
              "    <tr>\n",
              "      <th>4895</th>\n",
              "      <td>6.5</td>\n",
              "      <td>0.24</td>\n",
              "      <td>0.19</td>\n",
              "      <td>1.2</td>\n",
              "      <td>0.041</td>\n",
              "      <td>30.0</td>\n",
              "      <td>111.0</td>\n",
              "      <td>0.99254</td>\n",
              "      <td>2.99</td>\n",
              "      <td>0.46</td>\n",
              "      <td>9.4</td>\n",
              "      <td>1</td>\n",
              "      <td>1.0</td>\n",
              "    </tr>\n",
              "    <tr>\n",
              "      <th>4896</th>\n",
              "      <td>5.5</td>\n",
              "      <td>0.29</td>\n",
              "      <td>0.30</td>\n",
              "      <td>1.1</td>\n",
              "      <td>0.022</td>\n",
              "      <td>20.0</td>\n",
              "      <td>110.0</td>\n",
              "      <td>0.98869</td>\n",
              "      <td>3.34</td>\n",
              "      <td>0.38</td>\n",
              "      <td>12.8</td>\n",
              "      <td>1</td>\n",
              "      <td>2.0</td>\n",
              "    </tr>\n",
              "    <tr>\n",
              "      <th>4897</th>\n",
              "      <td>6.0</td>\n",
              "      <td>0.21</td>\n",
              "      <td>0.38</td>\n",
              "      <td>0.8</td>\n",
              "      <td>0.020</td>\n",
              "      <td>22.0</td>\n",
              "      <td>98.0</td>\n",
              "      <td>0.98941</td>\n",
              "      <td>3.26</td>\n",
              "      <td>0.32</td>\n",
              "      <td>11.8</td>\n",
              "      <td>1</td>\n",
              "      <td>1.0</td>\n",
              "    </tr>\n",
              "  </tbody>\n",
              "</table>\n",
              "<p>6497 rows × 13 columns</p>\n",
              "</div>"
            ],
            "text/plain": [
              "      fixed acidity  volatile acidity  citric acid  ...  alcohol  type  new_quality\n",
              "0               7.4              0.70         0.00  ...      9.4     0          0.0\n",
              "1               7.8              0.88         0.00  ...      9.8     0          0.0\n",
              "2               7.8              0.76         0.04  ...      9.8     0          0.0\n",
              "3              11.2              0.28         0.56  ...      9.8     0          1.0\n",
              "4               7.4              0.70         0.00  ...      9.4     0          0.0\n",
              "...             ...               ...          ...  ...      ...   ...          ...\n",
              "4893            6.2              0.21         0.29  ...     11.2     1          1.0\n",
              "4894            6.6              0.32         0.36  ...      9.6     1          0.0\n",
              "4895            6.5              0.24         0.19  ...      9.4     1          1.0\n",
              "4896            5.5              0.29         0.30  ...     12.8     1          2.0\n",
              "4897            6.0              0.21         0.38  ...     11.8     1          1.0\n",
              "\n",
              "[6497 rows x 13 columns]"
            ]
          },
          "metadata": {
            "tags": []
          }
        }
      ]
    },
    {
      "cell_type": "code",
      "metadata": {
        "id": "_4XxmjQz2PGu"
      },
      "source": [
        "#minmax 정규화"
      ],
      "execution_count": 49,
      "outputs": []
    },
    {
      "cell_type": "code",
      "metadata": {
        "colab": {
          "base_uri": "https://localhost:8080/",
          "height": 478
        },
        "id": "FowoMlVk3AaZ",
        "outputId": "1500eebc-2fff-4b98-90bc-991ef40e4e20"
      },
      "source": [
        "wine_norm = (wine - wine.min()) / (wine.max() - wine.min())\n",
        "display(wine_norm)"
      ],
      "execution_count": 50,
      "outputs": [
        {
          "output_type": "display_data",
          "data": {
            "text/html": [
              "<div>\n",
              "<style scoped>\n",
              "    .dataframe tbody tr th:only-of-type {\n",
              "        vertical-align: middle;\n",
              "    }\n",
              "\n",
              "    .dataframe tbody tr th {\n",
              "        vertical-align: top;\n",
              "    }\n",
              "\n",
              "    .dataframe thead th {\n",
              "        text-align: right;\n",
              "    }\n",
              "</style>\n",
              "<table border=\"1\" class=\"dataframe\">\n",
              "  <thead>\n",
              "    <tr style=\"text-align: right;\">\n",
              "      <th></th>\n",
              "      <th>fixed acidity</th>\n",
              "      <th>volatile acidity</th>\n",
              "      <th>citric acid</th>\n",
              "      <th>residual sugar</th>\n",
              "      <th>chlorides</th>\n",
              "      <th>free sulfur dioxide</th>\n",
              "      <th>total sulfur dioxide</th>\n",
              "      <th>density</th>\n",
              "      <th>pH</th>\n",
              "      <th>sulphates</th>\n",
              "      <th>alcohol</th>\n",
              "      <th>type</th>\n",
              "      <th>new_quality</th>\n",
              "    </tr>\n",
              "  </thead>\n",
              "  <tbody>\n",
              "    <tr>\n",
              "      <th>0</th>\n",
              "      <td>0.297521</td>\n",
              "      <td>0.413333</td>\n",
              "      <td>0.000000</td>\n",
              "      <td>0.019939</td>\n",
              "      <td>0.111296</td>\n",
              "      <td>0.034722</td>\n",
              "      <td>0.064516</td>\n",
              "      <td>0.206092</td>\n",
              "      <td>0.612403</td>\n",
              "      <td>0.191011</td>\n",
              "      <td>0.202899</td>\n",
              "      <td>0.0</td>\n",
              "      <td>0.0</td>\n",
              "    </tr>\n",
              "    <tr>\n",
              "      <th>1</th>\n",
              "      <td>0.330579</td>\n",
              "      <td>0.533333</td>\n",
              "      <td>0.000000</td>\n",
              "      <td>0.030675</td>\n",
              "      <td>0.147841</td>\n",
              "      <td>0.083333</td>\n",
              "      <td>0.140553</td>\n",
              "      <td>0.186813</td>\n",
              "      <td>0.372093</td>\n",
              "      <td>0.258427</td>\n",
              "      <td>0.260870</td>\n",
              "      <td>0.0</td>\n",
              "      <td>0.0</td>\n",
              "    </tr>\n",
              "    <tr>\n",
              "      <th>2</th>\n",
              "      <td>0.330579</td>\n",
              "      <td>0.453333</td>\n",
              "      <td>0.024096</td>\n",
              "      <td>0.026074</td>\n",
              "      <td>0.137874</td>\n",
              "      <td>0.048611</td>\n",
              "      <td>0.110599</td>\n",
              "      <td>0.190669</td>\n",
              "      <td>0.418605</td>\n",
              "      <td>0.241573</td>\n",
              "      <td>0.260870</td>\n",
              "      <td>0.0</td>\n",
              "      <td>0.0</td>\n",
              "    </tr>\n",
              "    <tr>\n",
              "      <th>3</th>\n",
              "      <td>0.611570</td>\n",
              "      <td>0.133333</td>\n",
              "      <td>0.337349</td>\n",
              "      <td>0.019939</td>\n",
              "      <td>0.109635</td>\n",
              "      <td>0.055556</td>\n",
              "      <td>0.124424</td>\n",
              "      <td>0.209948</td>\n",
              "      <td>0.341085</td>\n",
              "      <td>0.202247</td>\n",
              "      <td>0.260870</td>\n",
              "      <td>0.0</td>\n",
              "      <td>0.5</td>\n",
              "    </tr>\n",
              "    <tr>\n",
              "      <th>4</th>\n",
              "      <td>0.297521</td>\n",
              "      <td>0.413333</td>\n",
              "      <td>0.000000</td>\n",
              "      <td>0.019939</td>\n",
              "      <td>0.111296</td>\n",
              "      <td>0.034722</td>\n",
              "      <td>0.064516</td>\n",
              "      <td>0.206092</td>\n",
              "      <td>0.612403</td>\n",
              "      <td>0.191011</td>\n",
              "      <td>0.202899</td>\n",
              "      <td>0.0</td>\n",
              "      <td>0.0</td>\n",
              "    </tr>\n",
              "    <tr>\n",
              "      <th>...</th>\n",
              "      <td>...</td>\n",
              "      <td>...</td>\n",
              "      <td>...</td>\n",
              "      <td>...</td>\n",
              "      <td>...</td>\n",
              "      <td>...</td>\n",
              "      <td>...</td>\n",
              "      <td>...</td>\n",
              "      <td>...</td>\n",
              "      <td>...</td>\n",
              "      <td>...</td>\n",
              "      <td>...</td>\n",
              "      <td>...</td>\n",
              "    </tr>\n",
              "    <tr>\n",
              "      <th>4893</th>\n",
              "      <td>0.198347</td>\n",
              "      <td>0.086667</td>\n",
              "      <td>0.174699</td>\n",
              "      <td>0.015337</td>\n",
              "      <td>0.049834</td>\n",
              "      <td>0.079861</td>\n",
              "      <td>0.198157</td>\n",
              "      <td>0.077694</td>\n",
              "      <td>0.426357</td>\n",
              "      <td>0.157303</td>\n",
              "      <td>0.463768</td>\n",
              "      <td>1.0</td>\n",
              "      <td>0.5</td>\n",
              "    </tr>\n",
              "    <tr>\n",
              "      <th>4894</th>\n",
              "      <td>0.231405</td>\n",
              "      <td>0.160000</td>\n",
              "      <td>0.216867</td>\n",
              "      <td>0.113497</td>\n",
              "      <td>0.063123</td>\n",
              "      <td>0.194444</td>\n",
              "      <td>0.373272</td>\n",
              "      <td>0.150183</td>\n",
              "      <td>0.333333</td>\n",
              "      <td>0.134831</td>\n",
              "      <td>0.231884</td>\n",
              "      <td>1.0</td>\n",
              "      <td>0.0</td>\n",
              "    </tr>\n",
              "    <tr>\n",
              "      <th>4895</th>\n",
              "      <td>0.223140</td>\n",
              "      <td>0.106667</td>\n",
              "      <td>0.114458</td>\n",
              "      <td>0.009202</td>\n",
              "      <td>0.053156</td>\n",
              "      <td>0.100694</td>\n",
              "      <td>0.241935</td>\n",
              "      <td>0.104685</td>\n",
              "      <td>0.209302</td>\n",
              "      <td>0.134831</td>\n",
              "      <td>0.202899</td>\n",
              "      <td>1.0</td>\n",
              "      <td>0.5</td>\n",
              "    </tr>\n",
              "    <tr>\n",
              "      <th>4896</th>\n",
              "      <td>0.140496</td>\n",
              "      <td>0.140000</td>\n",
              "      <td>0.180723</td>\n",
              "      <td>0.007669</td>\n",
              "      <td>0.021595</td>\n",
              "      <td>0.065972</td>\n",
              "      <td>0.239631</td>\n",
              "      <td>0.030461</td>\n",
              "      <td>0.480620</td>\n",
              "      <td>0.089888</td>\n",
              "      <td>0.695652</td>\n",
              "      <td>1.0</td>\n",
              "      <td>1.0</td>\n",
              "    </tr>\n",
              "    <tr>\n",
              "      <th>4897</th>\n",
              "      <td>0.181818</td>\n",
              "      <td>0.086667</td>\n",
              "      <td>0.228916</td>\n",
              "      <td>0.003067</td>\n",
              "      <td>0.018272</td>\n",
              "      <td>0.072917</td>\n",
              "      <td>0.211982</td>\n",
              "      <td>0.044342</td>\n",
              "      <td>0.418605</td>\n",
              "      <td>0.056180</td>\n",
              "      <td>0.550725</td>\n",
              "      <td>1.0</td>\n",
              "      <td>0.5</td>\n",
              "    </tr>\n",
              "  </tbody>\n",
              "</table>\n",
              "<p>6497 rows × 13 columns</p>\n",
              "</div>"
            ],
            "text/plain": [
              "      fixed acidity  volatile acidity  citric acid  ...   alcohol  type  new_quality\n",
              "0          0.297521          0.413333     0.000000  ...  0.202899   0.0          0.0\n",
              "1          0.330579          0.533333     0.000000  ...  0.260870   0.0          0.0\n",
              "2          0.330579          0.453333     0.024096  ...  0.260870   0.0          0.0\n",
              "3          0.611570          0.133333     0.337349  ...  0.260870   0.0          0.5\n",
              "4          0.297521          0.413333     0.000000  ...  0.202899   0.0          0.0\n",
              "...             ...               ...          ...  ...       ...   ...          ...\n",
              "4893       0.198347          0.086667     0.174699  ...  0.463768   1.0          0.5\n",
              "4894       0.231405          0.160000     0.216867  ...  0.231884   1.0          0.0\n",
              "4895       0.223140          0.106667     0.114458  ...  0.202899   1.0          0.5\n",
              "4896       0.140496          0.140000     0.180723  ...  0.695652   1.0          1.0\n",
              "4897       0.181818          0.086667     0.228916  ...  0.550725   1.0          0.5\n",
              "\n",
              "[6497 rows x 13 columns]"
            ]
          },
          "metadata": {
            "tags": []
          }
        }
      ]
    },
    {
      "cell_type": "code",
      "metadata": {
        "colab": {
          "base_uri": "https://localhost:8080/",
          "height": 223
        },
        "id": "YQWTQfMz3CRl",
        "outputId": "546201e3-9119-4e3b-ad7d-49d3604bc1c6"
      },
      "source": [
        "display(wine_norm['new_quality'][:10])"
      ],
      "execution_count": 51,
      "outputs": [
        {
          "output_type": "display_data",
          "data": {
            "text/plain": [
              "0    0.0\n",
              "1    0.0\n",
              "2    0.0\n",
              "3    0.5\n",
              "4    0.0\n",
              "5    0.0\n",
              "6    0.0\n",
              "7    1.0\n",
              "8    1.0\n",
              "9    0.0\n",
              "Name: new_quality, dtype: float64"
            ]
          },
          "metadata": {
            "tags": []
          }
        }
      ]
    },
    {
      "cell_type": "code",
      "metadata": {
        "colab": {
          "base_uri": "https://localhost:8080/",
          "height": 223
        },
        "id": "bWoXE5CA3KNB",
        "outputId": "676caec4-bfd2-4a06-dffc-18cbd794bd56"
      },
      "source": [
        "display(wine['new_quality'][:10])"
      ],
      "execution_count": 52,
      "outputs": [
        {
          "output_type": "display_data",
          "data": {
            "text/plain": [
              "0    0.0\n",
              "1    0.0\n",
              "2    0.0\n",
              "3    1.0\n",
              "4    0.0\n",
              "5    0.0\n",
              "6    0.0\n",
              "7    2.0\n",
              "8    2.0\n",
              "9    0.0\n",
              "Name: new_quality, dtype: float64"
            ]
          },
          "metadata": {
            "tags": []
          }
        }
      ]
    },
    {
      "cell_type": "code",
      "metadata": {
        "id": "Qq6aXwkR3PFt"
      },
      "source": [
        "#데이터 섞기"
      ],
      "execution_count": 53,
      "outputs": []
    },
    {
      "cell_type": "code",
      "metadata": {
        "id": "uEgIcUIP3TiU"
      },
      "source": [
        "wine_shufle = wine_norm.sample(frac = 1)\n",
        "wine_np = wine_shuffle.to_numpy()"
      ],
      "execution_count": 54,
      "outputs": []
    },
    {
      "cell_type": "code",
      "metadata": {
        "colab": {
          "base_uri": "https://localhost:8080/"
        },
        "id": "RR8eY66H3b7B",
        "outputId": "f144760a-784e-477b-caab-b24975cac8d4"
      },
      "source": [
        "train_ratio = 0.8\n",
        "\n",
        "train_idx = int(len(wine_np)* train_ratio)\n",
        "print(\"train_idx : \", train_idx)"
      ],
      "execution_count": 55,
      "outputs": [
        {
          "output_type": "stream",
          "text": [
            "train_idx :  5197\n"
          ],
          "name": "stdout"
        }
      ]
    },
    {
      "cell_type": "code",
      "metadata": {
        "id": "z0eEFruR3pLE"
      },
      "source": [
        "train_X, train_Y = wine_np[  : train_idx  ,   : -1  ], wine_np[ :train_idx,  -1 : ]\n",
        "test_X, test_Y   = wine_np[  train_idx :   ,  : -1  ], wine_np[train_idx : , -1 : ]"
      ],
      "execution_count": 56,
      "outputs": []
    },
    {
      "cell_type": "code",
      "metadata": {
        "colab": {
          "base_uri": "https://localhost:8080/"
        },
        "id": "CJPdRyUM4F_a",
        "outputId": "46e43355-4963-4349-ee14-47345bca53ae"
      },
      "source": [
        "print(train_X.shape)\n",
        "print(train_Y.shape)\n",
        "print(test_X.shape)\n",
        "print(test_Y.shape)"
      ],
      "execution_count": 57,
      "outputs": [
        {
          "output_type": "stream",
          "text": [
            "(5197, 12)\n",
            "(5197, 1)\n",
            "(1300, 12)\n",
            "(1300, 1)\n"
          ],
          "name": "stdout"
        }
      ]
    },
    {
      "cell_type": "code",
      "metadata": {
        "colab": {
          "base_uri": "https://localhost:8080/"
        },
        "id": "FG47Iuyb4OgJ",
        "outputId": "ae8acf94-6979-4fa6-de33-0574f8527b43"
      },
      "source": [
        "train_Y_to_categorical = tf.keras.utils.to_categorical(train_Y, num_classes = 3)\n",
        "test_Y_to_categorical  = tf.keras.utils.to_categorical(test_Y, num_classes  = 3)\n",
        "\n",
        "print(train_X.shape)\n",
        "print(train_Y_to_categorical.shape)\n",
        "print(test_X.shape)\n",
        "print(test_Y_to_categorical.shape)"
      ],
      "execution_count": 58,
      "outputs": [
        {
          "output_type": "stream",
          "text": [
            "(5197, 12)\n",
            "(5197, 3)\n",
            "(1300, 12)\n",
            "(1300, 3)\n"
          ],
          "name": "stdout"
        }
      ]
    },
    {
      "cell_type": "code",
      "metadata": {
        "id": "-mMuNzlT425Z"
      },
      "source": [
        "model_swish_softmax = tf.keras.Sequential([\n",
        "                                           tf.keras.layers.Dense(units=48, activation='swish', input_shape = (12,)),\n",
        "                                           tf.keras.layers.Dense(units=24, activation='swish'),\n",
        "                                           tf.keras.layers.Dense(units=12, activation='swish'),\n",
        "                                           tf.keras.layers.Dense(units=3, activation='softmax'),\n",
        "])"
      ],
      "execution_count": 59,
      "outputs": []
    },
    {
      "cell_type": "code",
      "metadata": {
        "id": "6p8vS6wC5VGy"
      },
      "source": [
        "model_swish_softmax.compile(optimizer=tf.keras.optimizers.Adam(),\n",
        "                            loss = 'categorical_crossentropy',\n",
        "                            metrics = ['accuracy'])"
      ],
      "execution_count": 60,
      "outputs": []
    },
    {
      "cell_type": "code",
      "metadata": {
        "colab": {
          "base_uri": "https://localhost:8080/"
        },
        "id": "bIhZnRuC59XM",
        "outputId": "066247bd-681a-406a-d9cf-48238c27b983"
      },
      "source": [
        "history = model_swish_softmax.fit(train_X, train_Y_to_categorical,\n",
        "                                  epochs = 200, \n",
        "                                  batch_size = 32,\n",
        "                                  validation_split = 0.2,\n",
        "                                  callbacks = [tf.keras.callbacks.EarlyStopping(patience= 3 )])"
      ],
      "execution_count": 62,
      "outputs": [
        {
          "output_type": "stream",
          "text": [
            "Epoch 1/200\n",
            "130/130 [==============================] - 1s 4ms/step - loss: 0.3095 - accuracy: 0.9071 - val_loss: 0.1871 - val_accuracy: 0.9394\n",
            "Epoch 2/200\n",
            "130/130 [==============================] - 0s 3ms/step - loss: 0.2050 - accuracy: 0.9314 - val_loss: 0.1608 - val_accuracy: 0.9462\n",
            "Epoch 3/200\n",
            "130/130 [==============================] - 0s 3ms/step - loss: 0.1821 - accuracy: 0.9353 - val_loss: 0.1564 - val_accuracy: 0.9442\n",
            "Epoch 4/200\n",
            "130/130 [==============================] - 0s 3ms/step - loss: 0.1811 - accuracy: 0.9408 - val_loss: 0.1451 - val_accuracy: 0.9481\n",
            "Epoch 5/200\n",
            "130/130 [==============================] - 0s 3ms/step - loss: 0.1677 - accuracy: 0.9423 - val_loss: 0.1324 - val_accuracy: 0.9500\n",
            "Epoch 6/200\n",
            "130/130 [==============================] - 0s 3ms/step - loss: 0.1463 - accuracy: 0.9473 - val_loss: 0.1400 - val_accuracy: 0.9481\n",
            "Epoch 7/200\n",
            "130/130 [==============================] - 0s 3ms/step - loss: 0.1359 - accuracy: 0.9516 - val_loss: 0.1126 - val_accuracy: 0.9558\n",
            "Epoch 8/200\n",
            "130/130 [==============================] - 0s 3ms/step - loss: 0.1307 - accuracy: 0.9548 - val_loss: 0.1109 - val_accuracy: 0.9567\n",
            "Epoch 9/200\n",
            "130/130 [==============================] - 0s 3ms/step - loss: 0.1266 - accuracy: 0.9550 - val_loss: 0.1041 - val_accuracy: 0.9567\n",
            "Epoch 10/200\n",
            "130/130 [==============================] - 0s 3ms/step - loss: 0.1133 - accuracy: 0.9649 - val_loss: 0.0994 - val_accuracy: 0.9654\n",
            "Epoch 11/200\n",
            "130/130 [==============================] - 0s 3ms/step - loss: 0.1200 - accuracy: 0.9605 - val_loss: 0.1129 - val_accuracy: 0.9663\n",
            "Epoch 12/200\n",
            "130/130 [==============================] - 0s 3ms/step - loss: 0.1153 - accuracy: 0.9593 - val_loss: 0.0905 - val_accuracy: 0.9644\n",
            "Epoch 13/200\n",
            "130/130 [==============================] - 0s 3ms/step - loss: 0.1065 - accuracy: 0.9654 - val_loss: 0.1060 - val_accuracy: 0.9644\n",
            "Epoch 14/200\n",
            "130/130 [==============================] - 0s 3ms/step - loss: 0.0966 - accuracy: 0.9692 - val_loss: 0.0803 - val_accuracy: 0.9702\n",
            "Epoch 15/200\n",
            "130/130 [==============================] - 0s 3ms/step - loss: 0.0962 - accuracy: 0.9680 - val_loss: 0.0798 - val_accuracy: 0.9702\n",
            "Epoch 16/200\n",
            "130/130 [==============================] - 0s 3ms/step - loss: 0.0945 - accuracy: 0.9714 - val_loss: 0.0842 - val_accuracy: 0.9654\n",
            "Epoch 17/200\n",
            "130/130 [==============================] - 0s 3ms/step - loss: 0.0843 - accuracy: 0.9733 - val_loss: 0.1059 - val_accuracy: 0.9596\n",
            "Epoch 18/200\n",
            "130/130 [==============================] - 0s 3ms/step - loss: 0.0912 - accuracy: 0.9709 - val_loss: 0.0687 - val_accuracy: 0.9760\n",
            "Epoch 19/200\n",
            "130/130 [==============================] - 0s 3ms/step - loss: 0.0891 - accuracy: 0.9740 - val_loss: 0.0989 - val_accuracy: 0.9615\n",
            "Epoch 20/200\n",
            "130/130 [==============================] - 0s 3ms/step - loss: 0.0824 - accuracy: 0.9726 - val_loss: 0.0686 - val_accuracy: 0.9769\n",
            "Epoch 21/200\n",
            "130/130 [==============================] - 0s 3ms/step - loss: 0.0831 - accuracy: 0.9747 - val_loss: 0.0638 - val_accuracy: 0.9788\n",
            "Epoch 22/200\n",
            "130/130 [==============================] - 0s 3ms/step - loss: 0.0888 - accuracy: 0.9721 - val_loss: 0.0688 - val_accuracy: 0.9760\n",
            "Epoch 23/200\n",
            "130/130 [==============================] - 0s 3ms/step - loss: 0.0813 - accuracy: 0.9747 - val_loss: 0.0608 - val_accuracy: 0.9798\n",
            "Epoch 24/200\n",
            "130/130 [==============================] - 0s 3ms/step - loss: 0.0772 - accuracy: 0.9767 - val_loss: 0.0687 - val_accuracy: 0.9740\n",
            "Epoch 25/200\n",
            "130/130 [==============================] - 0s 3ms/step - loss: 0.0715 - accuracy: 0.9791 - val_loss: 0.0848 - val_accuracy: 0.9750\n",
            "Epoch 26/200\n",
            "130/130 [==============================] - 0s 3ms/step - loss: 0.0754 - accuracy: 0.9783 - val_loss: 0.0584 - val_accuracy: 0.9798\n",
            "Epoch 27/200\n",
            "130/130 [==============================] - 0s 3ms/step - loss: 0.0749 - accuracy: 0.9747 - val_loss: 0.0628 - val_accuracy: 0.9769\n",
            "Epoch 28/200\n",
            "130/130 [==============================] - 0s 3ms/step - loss: 0.0810 - accuracy: 0.9752 - val_loss: 0.0765 - val_accuracy: 0.9788\n",
            "Epoch 29/200\n",
            "130/130 [==============================] - 0s 3ms/step - loss: 0.0737 - accuracy: 0.9769 - val_loss: 0.0576 - val_accuracy: 0.9798\n",
            "Epoch 30/200\n",
            "130/130 [==============================] - 0s 3ms/step - loss: 0.0708 - accuracy: 0.9798 - val_loss: 0.0543 - val_accuracy: 0.9827\n",
            "Epoch 31/200\n",
            "130/130 [==============================] - 0s 3ms/step - loss: 0.0735 - accuracy: 0.9796 - val_loss: 0.0634 - val_accuracy: 0.9798\n",
            "Epoch 32/200\n",
            "130/130 [==============================] - 0s 3ms/step - loss: 0.0669 - accuracy: 0.9805 - val_loss: 0.0598 - val_accuracy: 0.9788\n",
            "Epoch 33/200\n",
            "130/130 [==============================] - 0s 3ms/step - loss: 0.0722 - accuracy: 0.9774 - val_loss: 0.0520 - val_accuracy: 0.9817\n",
            "Epoch 34/200\n",
            "130/130 [==============================] - 0s 3ms/step - loss: 0.0689 - accuracy: 0.9793 - val_loss: 0.0563 - val_accuracy: 0.9808\n",
            "Epoch 35/200\n",
            "130/130 [==============================] - 0s 3ms/step - loss: 0.0649 - accuracy: 0.9808 - val_loss: 0.0518 - val_accuracy: 0.9856\n",
            "Epoch 36/200\n",
            "130/130 [==============================] - 0s 3ms/step - loss: 0.0677 - accuracy: 0.9803 - val_loss: 0.0537 - val_accuracy: 0.9846\n",
            "Epoch 37/200\n",
            "130/130 [==============================] - 0s 3ms/step - loss: 0.0696 - accuracy: 0.9788 - val_loss: 0.0626 - val_accuracy: 0.9769\n",
            "Epoch 38/200\n",
            "130/130 [==============================] - 0s 3ms/step - loss: 0.0663 - accuracy: 0.9820 - val_loss: 0.0497 - val_accuracy: 0.9837\n",
            "Epoch 39/200\n",
            "130/130 [==============================] - 0s 3ms/step - loss: 0.0619 - accuracy: 0.9820 - val_loss: 0.0495 - val_accuracy: 0.9856\n",
            "Epoch 40/200\n",
            "130/130 [==============================] - 0s 3ms/step - loss: 0.0730 - accuracy: 0.9786 - val_loss: 0.0478 - val_accuracy: 0.9846\n",
            "Epoch 41/200\n",
            "130/130 [==============================] - 0s 3ms/step - loss: 0.0677 - accuracy: 0.9786 - val_loss: 0.0605 - val_accuracy: 0.9808\n",
            "Epoch 42/200\n",
            "130/130 [==============================] - 0s 3ms/step - loss: 0.0619 - accuracy: 0.9817 - val_loss: 0.0931 - val_accuracy: 0.9673\n",
            "Epoch 43/200\n",
            "130/130 [==============================] - 0s 3ms/step - loss: 0.0741 - accuracy: 0.9752 - val_loss: 0.0578 - val_accuracy: 0.9779\n"
          ],
          "name": "stdout"
        }
      ]
    },
    {
      "cell_type": "code",
      "metadata": {
        "colab": {
          "base_uri": "https://localhost:8080/",
          "height": 315
        },
        "id": "XTozxwXw6Ewp",
        "outputId": "79e63a99-4a7c-4308-fe53-d331f4555852"
      },
      "source": [
        "val_accuracy = history.history['val_accuracy']\n",
        "accuracy = history.history['accuracy']\n",
        "\n",
        "val_loss = history.history['val_loss']\n",
        "loss     = history.history['loss']\n",
        "\n",
        "plt.figure(figsize=(12,4))\n",
        "plt.subplot(1, 2, 1)\n",
        "plt.plot(history.history['loss'], 'b-', label = 'Train Loss')\n",
        "plt.plot(history.history['val_loss'], 'r--', label = 'Val Loss')\n",
        "plt.xlabel('Epochs')\n",
        "plt.title(\"Train Loss : {:.3f}\\nVal Loss : {:.3f}\".\\\n",
        "          format(loss[-1], val_loss[-1]), fontsize = 15)\n",
        "\n",
        "plt.grid()\n",
        "plt.legend()\n",
        "\n",
        "plt.subplot(1, 2, 2)\n",
        "plt.plot(history.history['accuracy'], 'b-', label = 'Train Accuracy')\n",
        "plt.plot(history.history['val_accuracy'], 'r--', label = 'Val Accuracy')\n",
        "plt.xlabel('Epochs')\n",
        "plt.title(\"Train Acc : {:.3f}\\nVal Acc : {:.3f}\".\\\n",
        "          format(accuracy[-1], val_accuracy[-1]), fontsize = 15)\n",
        "\n",
        "plt.grid()\n",
        "plt.legend()\n",
        "\n",
        "plt.show()\n"
      ],
      "execution_count": 63,
      "outputs": [
        {
          "output_type": "display_data",
          "data": {
            "image/png": "[encoded data removed]",
            "text/plain": [
              "<Figure size 864x288 with 2 Axes>"
            ]
          },
          "metadata": {
            "tags": [],
            "needs_background": "light"
          }
        }
      ]
    },
    {
      "cell_type": "code",
      "metadata": {
        "colab": {
          "base_uri": "https://localhost:8080/"
        },
        "id": "jwBPm67a6doG",
        "outputId": "25783bc0-1f94-4512-c843-0af58c6ab065"
      },
      "source": [
        "model_swish_softmax.evaluate(test_X, test_Y_to_categorical)"
      ],
      "execution_count": 64,
      "outputs": [
        {
          "output_type": "stream",
          "text": [
            "41/41 [==============================] - 0s 2ms/step - loss: 0.0725 - accuracy: 0.9754\n"
          ],
          "name": "stdout"
        },
        {
          "output_type": "execute_result",
          "data": {
            "text/plain": [
              "[0.07250640541315079, 0.9753845930099487]"
            ]
          },
          "metadata": {
            "tags": []
          },
          "execution_count": 64
        }
      ]
    },
    {
      "cell_type": "code",
      "metadata": {
        "colab": {
          "base_uri": "https://localhost:8080/"
        },
        "id": "ZmYiaYLz8ETX",
        "outputId": "978d8616-513f-46bf-8116-4969ce705b0c"
      },
      "source": [
        "pred_Y = model_swish_softmax.predict(test_X)\n",
        "print(\"pred_Y : \\n\", pred_Y)\n",
        "\n",
        "pred_Y_round_2 = np.round(pred_Y, 2)\n",
        "print(\"pred_Y_round_2 :\\n\", pred_Y_round_2)"
      ],
      "execution_count": 65,
      "outputs": [
        {
          "output_type": "stream",
          "text": [
            "pred_Y : \n",
            " [[8.5245102e-04 9.9914718e-01 3.1673235e-07]\n",
            " [1.6131757e-03 9.9838686e-01 3.8043034e-08]\n",
            " [2.7691352e-04 9.9972302e-01 1.9695587e-09]\n",
            " ...\n",
            " [2.3597085e-04 9.9976403e-01 9.5598074e-10]\n",
            " [9.9984884e-01 1.5114914e-04 1.3942930e-15]\n",
            " [9.9994838e-01 5.1646006e-05 1.4925183e-15]]\n",
            "pred_Y_round_2 :\n",
            " [[0. 1. 0.]\n",
            " [0. 1. 0.]\n",
            " [0. 1. 0.]\n",
            " ...\n",
            " [0. 1. 0.]\n",
            " [1. 0. 0.]\n",
            " [1. 0. 0.]]\n"
          ],
          "name": "stdout"
        }
      ]
    },
    {
      "cell_type": "code",
      "metadata": {
        "colab": {
          "base_uri": "https://localhost:8080/"
        },
        "id": "2Ti28ayA8FPt",
        "outputId": "b074b8d0-c924-42e2-9e7d-edcc3071d29c"
      },
      "source": [
        "print(test_Y_to_categorical[:5])"
      ],
      "execution_count": 66,
      "outputs": [
        {
          "output_type": "stream",
          "text": [
            "[[0. 1. 0.]\n",
            " [0. 1. 0.]\n",
            " [0. 1. 0.]\n",
            " [1. 0. 0.]\n",
            " [0. 1. 0.]]\n"
          ],
          "name": "stdout"
        }
      ]
    },
    {
      "cell_type": "code",
      "metadata": {
        "colab": {
          "base_uri": "https://localhost:8080/"
        },
        "id": "80lCmpOv8GDq",
        "outputId": "4184ce22-5310-4ed5-eabc-d6bcc19c52b7"
      },
      "source": [
        "pred_Y_argmax = np.argmax(pred_Y_round_2, axis = 1)\n",
        "test_Y_argmax = np.argmax(test_Y_to_categorical, axis = 1)\n",
        "\n",
        "print(pred_Y_argmax[:10])\n",
        "print(test_Y_argmax[:10])"
      ],
      "execution_count": 67,
      "outputs": [
        {
          "output_type": "stream",
          "text": [
            "[1 1 1 0 1 1 0 1 1 1]\n",
            "[1 1 1 0 1 1 0 1 1 1]\n"
          ],
          "name": "stdout"
        }
      ]
    },
    {
      "cell_type": "code",
      "metadata": {
        "colab": {
          "base_uri": "https://localhost:8080/"
        },
        "id": "HFBQlqqm8G_c",
        "outputId": "cdc3d703-b756-41a1-cf86-3d84806bf391"
      },
      "source": [
        "result = np.equal(pred_Y_argmax,test_Y_argmax)\n",
        "acc = np.mean(result)\n",
        "print(\"ACC : {:.3f}\".format(acc * 100))"
      ],
      "execution_count": 68,
      "outputs": [
        {
          "output_type": "stream",
          "text": [
            "ACC : 97.538\n"
          ],
          "name": "stdout"
        }
      ]
    },
    {
      "cell_type": "code",
      "metadata": {
        "id": "D501wgOfA4fT"
      },
      "source": [
        ""
      ],
      "execution_count": null,
      "outputs": []
    }
  ]
}