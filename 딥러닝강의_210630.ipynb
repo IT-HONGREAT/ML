{
  "nbformat": 4,
  "nbformat_minor": 0,
  "metadata": {
    "colab": {
      "name": "딥러닝강의_210630",
      "provenance": [],
      "authorship_tag": "ABX9TyMAu2QgSrmvoBfVDptWROIL",
      "include_colab_link": true
    },
    "kernelspec": {
      "name": "python3",
      "display_name": "Python 3"
    },
    "language_info": {
      "name": "python"
    }
  },
  "cells": [
    {
      "cell_type": "markdown",
      "metadata": {
        "id": "view-in-github",
        "colab_type": "text"
      },
      "source": [
        "<a href=\"https://colab.research.google.com/github/IT-HONGREAT/colab_study/blob/main/%EB%94%A5%EB%9F%AC%EB%8B%9D%EA%B0%95%EC%9D%98_210630.ipynb\" target=\"_parent\"><img src=\"https://colab.research.google.com/assets/colab-badge.svg\" alt=\"Open In Colab\"/></a>"
      ]
    },
    {
      "cell_type": "code",
      "metadata": {
        "colab": {
          "base_uri": "https://localhost:8080/"
        },
        "id": "mzFFgoUuP2QE",
        "outputId": "b3620482-0007-4036-ae4a-fe08b4b20ea1"
      },
      "source": [
        "real = [21,10,14]\n",
        "pre = [15,12,18]\n",
        "\n",
        "answer = 0\n",
        "\n",
        "for i in range(len(real)):\n",
        "  answer += ((real[i]-pre[i])**2)\n",
        "\n",
        "print(answer/len(real))"
      ],
      "execution_count": 2,
      "outputs": [
        {
          "output_type": "stream",
          "text": [
            "18.666666666666668\n"
          ],
          "name": "stdout"
        }
      ]
    },
    {
      "cell_type": "code",
      "metadata": {
        "colab": {
          "base_uri": "https://localhost:8080/"
        },
        "id": "1ViWpTY3Sgj0",
        "outputId": "dc96eeea-201e-4ae0-b612-3767e234ab33"
      },
      "source": [
        "y_1 = 21\n",
        "y_2 = 10\n",
        "y_3 = 14\n",
        "\n",
        "y_hat_1 = 15\n",
        "y_hat_2 = 12\n",
        "y_hat_3 = 18\n",
        "\n",
        "a = (y_1 - y_hat_1)**2\n",
        "b = (y_2 - y_hat_2)**2\n",
        "c = (y_3 - y_hat_3)**2\n",
        "\n",
        "print(a,b,c)"
      ],
      "execution_count": 3,
      "outputs": [
        {
          "output_type": "stream",
          "text": [
            "36 4 16\n"
          ],
          "name": "stdout"
        }
      ]
    },
    {
      "cell_type": "code",
      "metadata": {
        "colab": {
          "base_uri": "https://localhost:8080/"
        },
        "id": "wQ3oKjUaTAsE",
        "outputId": "dc645e55-74fd-48f6-fd3e-6cd92bbd0287"
      },
      "source": [
        "import numpy as np\n",
        "n = 3\n",
        "mse = (a+b+c)/n\n",
        "\n",
        "print(f\"mse : {np.round(mse,4)}\")"
      ],
      "execution_count": 6,
      "outputs": [
        {
          "output_type": "stream",
          "text": [
            "mse : 18.6667\n"
          ],
          "name": "stdout"
        }
      ]
    },
    {
      "cell_type": "code",
      "metadata": {
        "colab": {
          "base_uri": "https://localhost:8080/"
        },
        "id": "Hq7KThgXV9V5",
        "outputId": "596aaf60-74d2-4871-f4cc-396f82303926"
      },
      "source": [
        "#case1\n",
        "\n",
        "one_rows = ['M',0.455,0.365,0.095]   #m의 경우 [1,0,0]\n",
        "one_row = [0.455,0.365,0.095]\n",
        "proto = [0,0,0]+one_row\n",
        "\n",
        "if 'M' in one_rows:\n",
        "  proto[0] = 1\n",
        "\n",
        "print(proto)\n",
        "\n"
      ],
      "execution_count": 16,
      "outputs": [
        {
          "output_type": "stream",
          "text": [
            "[1, 0, 0, 0.455, 0.365, 0.095]\n"
          ],
          "name": "stdout"
        }
      ]
    },
    {
      "cell_type": "code",
      "metadata": {
        "id": "1HMNFwHAWqNn"
      },
      "source": [
        "def sep(rows):\n",
        "\n",
        "  if \"M\" in rows:\n",
        "    rows[0] = 1\n",
        "  elif 'F' in rows:\n",
        "    rows[1] = 1\n",
        "  elif 'I' in rows:\n",
        "    rows[2] = 1\n",
        "  \n",
        "  return rows\n",
        "\n"
      ],
      "execution_count": 17,
      "outputs": []
    },
    {
      "cell_type": "code",
      "metadata": {
        "colab": {
          "base_uri": "https://localhost:8080/"
        },
        "id": "5pJkuQl8YLHR",
        "outputId": "9e541343-75eb-4106-f544-2518e05e07de"
      },
      "source": [
        "rows = ['M',0.455,0.365,0.095]\n",
        "\n",
        "data = np.zeros(6)\n",
        "\n",
        "print(data)\n",
        " "
      ],
      "execution_count": 19,
      "outputs": [
        {
          "output_type": "stream",
          "text": [
            "[0. 0. 0. 0. 0. 0.]\n"
          ],
          "name": "stdout"
        }
      ]
    },
    {
      "cell_type": "code",
      "metadata": {
        "colab": {
          "base_uri": "https://localhost:8080/"
        },
        "id": "KASwzPnEYg3b",
        "outputId": "6f5f3577-2140-41e7-e3c8-93b2aaed3708"
      },
      "source": [
        "if rows[0] =='M':\n",
        "  data[0] = 1\n",
        "elif rows[0] == 'F':\n",
        "  data[1] = 1\n",
        "elif rows[1] == 'I':\n",
        "  data[2] = 1\n",
        "\n",
        "print(data)"
      ],
      "execution_count": 21,
      "outputs": [
        {
          "output_type": "stream",
          "text": [
            "[1. 0. 0. 0. 0. 0.]\n"
          ],
          "name": "stdout"
        }
      ]
    },
    {
      "cell_type": "code",
      "metadata": {
        "colab": {
          "base_uri": "https://localhost:8080/"
        },
        "id": "gyCFRL2aY6_u",
        "outputId": "3031baf5-29e2-40a4-a4e1-5e7380818c9e"
      },
      "source": [
        "print(rows)\n",
        "\n",
        "print(\"======\")\n",
        "\n",
        "print(data)"
      ],
      "execution_count": 23,
      "outputs": [
        {
          "output_type": "stream",
          "text": [
            "['M', 0.455, 0.365, 0.095]\n",
            "======\n",
            "[1. 0. 0. 0. 0. 0.]\n"
          ],
          "name": "stdout"
        }
      ]
    },
    {
      "cell_type": "code",
      "metadata": {
        "colab": {
          "base_uri": "https://localhost:8080/"
        },
        "id": "W_GQj9jYZFtq",
        "outputId": "d8fe9faf-f66c-4890-9966-34612a227ab5"
      },
      "source": [
        "data[3:] = rows[1:]\n",
        "print(data)"
      ],
      "execution_count": 25,
      "outputs": [
        {
          "output_type": "stream",
          "text": [
            "[1.    0.    0.    0.455 0.365 0.095]\n"
          ],
          "name": "stdout"
        }
      ]
    },
    {
      "cell_type": "code",
      "metadata": {
        "id": "Fo9sKQXYc2Mh"
      },
      "source": [
        "import csv"
      ],
      "execution_count": 26,
      "outputs": []
    },
    {
      "cell_type": "code",
      "metadata": {
        "id": "NsR7fDfWc7UV"
      },
      "source": [
        "with open('/content/abalone_mini.csv') as csvfile:\n",
        "  csvreader = csv.reader(csvfile) \n",
        "\n",
        "  rows = []\n",
        "\n",
        "  for row in csvreader:\n",
        "    rows.append(row)"
      ],
      "execution_count": 47,
      "outputs": []
    },
    {
      "cell_type": "code",
      "metadata": {
        "colab": {
          "base_uri": "https://localhost:8080/"
        },
        "id": "XRU0KqEKdjvr",
        "outputId": "ba9cd174-7e0c-4f9e-f267-3d93c1251dde"
      },
      "source": [
        "print(rows)"
      ],
      "execution_count": 48,
      "outputs": [
        {
          "output_type": "stream",
          "text": [
            "[['M', '0.455', '0.365', '0.095', '0.514', '0.2245', '0.101', '0.15', '15'], ['M', '0.35', '0.265', '0.09', '0.2255', '0.0995', '0.0485', '0.07', '7'], ['F', '0.53', '0.42', '0.135', '0.677', '0.2565', '0.1415', '0.21', '9'], ['M', '0.44', '0.365', '0.125', '0.516', '0.2155', '0.114', '0.155', '10'], ['I', '0.33', '0.255', '0.08', '0.205', '0.0895', '0.0395', '0.055', '7']]\n"
          ],
          "name": "stdout"
        }
      ]
    },
    {
      "cell_type": "code",
      "metadata": {
        "colab": {
          "base_uri": "https://localhost:8080/"
        },
        "id": "EiCl9tSbdzTF",
        "outputId": "a053d83c-c6bc-44f6-df61-b76e7d787814"
      },
      "source": [
        "data = np.zeros([5,11])\n",
        "print(data)\n",
        "  \n"
      ],
      "execution_count": 49,
      "outputs": [
        {
          "output_type": "stream",
          "text": [
            "[[0. 0. 0. 0. 0. 0. 0. 0. 0. 0. 0.]\n",
            " [0. 0. 0. 0. 0. 0. 0. 0. 0. 0. 0.]\n",
            " [0. 0. 0. 0. 0. 0. 0. 0. 0. 0. 0.]\n",
            " [0. 0. 0. 0. 0. 0. 0. 0. 0. 0. 0.]\n",
            " [0. 0. 0. 0. 0. 0. 0. 0. 0. 0. 0.]]\n"
          ],
          "name": "stdout"
        }
      ]
    },
    {
      "cell_type": "code",
      "metadata": {
        "colab": {
          "base_uri": "https://localhost:8080/"
        },
        "id": "nFuKl8ZtgyT8",
        "outputId": "0b46ff04-6002-42b2-b914-688c936b9f65"
      },
      "source": [
        "for idx,row in enumerate(rows):\n",
        "  \n",
        "  if row[0] == 'M' : data[idx,0] = 1\n",
        "  if row[0] == 'F' : data[idx,1] = 1\n",
        "  if row[0] == 'I' : data[idx,2] = 1\n",
        "\n",
        "\n",
        "  data[idx,3:] = row[1:]\n",
        "\n",
        "data"
      ],
      "execution_count": 55,
      "outputs": [
        {
          "output_type": "execute_result",
          "data": {
            "text/plain": [
              "array([[ 1.    ,  0.    ,  0.    ,  0.455 ,  0.365 ,  0.095 ,  0.514 ,\n",
              "         0.2245,  0.101 ,  0.15  , 15.    ],\n",
              "       [ 1.    ,  0.    ,  0.    ,  0.35  ,  0.265 ,  0.09  ,  0.2255,\n",
              "         0.0995,  0.0485,  0.07  ,  7.    ],\n",
              "       [ 0.    ,  1.    ,  0.    ,  0.53  ,  0.42  ,  0.135 ,  0.677 ,\n",
              "         0.2565,  0.1415,  0.21  ,  9.    ],\n",
              "       [ 1.    ,  0.    ,  0.    ,  0.44  ,  0.365 ,  0.125 ,  0.516 ,\n",
              "         0.2155,  0.114 ,  0.155 , 10.    ],\n",
              "       [ 0.    ,  0.    ,  1.    ,  0.33  ,  0.255 ,  0.08  ,  0.205 ,\n",
              "         0.0895,  0.0395,  0.055 ,  7.    ]])"
            ]
          },
          "metadata": {
            "tags": []
          },
          "execution_count": 55
        }
      ]
    },
    {
      "cell_type": "code",
      "metadata": {
        "colab": {
          "base_uri": "https://localhost:8080/",
          "height": 203
        },
        "id": "QcCtjwqHjCVy",
        "outputId": "3ff059c1-2a88-4add-ef53-11ac69180123"
      },
      "source": [
        "import pandas as pd\n",
        "\n",
        "ans = pd.DataFrame(data)\n",
        "ans"
      ],
      "execution_count": 57,
      "outputs": [
        {
          "output_type": "execute_result",
          "data": {
            "text/html": [
              "<div>\n",
              "<style scoped>\n",
              "    .dataframe tbody tr th:only-of-type {\n",
              "        vertical-align: middle;\n",
              "    }\n",
              "\n",
              "    .dataframe tbody tr th {\n",
              "        vertical-align: top;\n",
              "    }\n",
              "\n",
              "    .dataframe thead th {\n",
              "        text-align: right;\n",
              "    }\n",
              "</style>\n",
              "<table border=\"1\" class=\"dataframe\">\n",
              "  <thead>\n",
              "    <tr style=\"text-align: right;\">\n",
              "      <th></th>\n",
              "      <th>0</th>\n",
              "      <th>1</th>\n",
              "      <th>2</th>\n",
              "      <th>3</th>\n",
              "      <th>4</th>\n",
              "      <th>5</th>\n",
              "      <th>6</th>\n",
              "      <th>7</th>\n",
              "      <th>8</th>\n",
              "      <th>9</th>\n",
              "      <th>10</th>\n",
              "    </tr>\n",
              "  </thead>\n",
              "  <tbody>\n",
              "    <tr>\n",
              "      <th>0</th>\n",
              "      <td>1.0</td>\n",
              "      <td>0.0</td>\n",
              "      <td>0.0</td>\n",
              "      <td>0.455</td>\n",
              "      <td>0.365</td>\n",
              "      <td>0.095</td>\n",
              "      <td>0.5140</td>\n",
              "      <td>0.2245</td>\n",
              "      <td>0.1010</td>\n",
              "      <td>0.150</td>\n",
              "      <td>15.0</td>\n",
              "    </tr>\n",
              "    <tr>\n",
              "      <th>1</th>\n",
              "      <td>1.0</td>\n",
              "      <td>0.0</td>\n",
              "      <td>0.0</td>\n",
              "      <td>0.350</td>\n",
              "      <td>0.265</td>\n",
              "      <td>0.090</td>\n",
              "      <td>0.2255</td>\n",
              "      <td>0.0995</td>\n",
              "      <td>0.0485</td>\n",
              "      <td>0.070</td>\n",
              "      <td>7.0</td>\n",
              "    </tr>\n",
              "    <tr>\n",
              "      <th>2</th>\n",
              "      <td>0.0</td>\n",
              "      <td>1.0</td>\n",
              "      <td>0.0</td>\n",
              "      <td>0.530</td>\n",
              "      <td>0.420</td>\n",
              "      <td>0.135</td>\n",
              "      <td>0.6770</td>\n",
              "      <td>0.2565</td>\n",
              "      <td>0.1415</td>\n",
              "      <td>0.210</td>\n",
              "      <td>9.0</td>\n",
              "    </tr>\n",
              "    <tr>\n",
              "      <th>3</th>\n",
              "      <td>1.0</td>\n",
              "      <td>0.0</td>\n",
              "      <td>0.0</td>\n",
              "      <td>0.440</td>\n",
              "      <td>0.365</td>\n",
              "      <td>0.125</td>\n",
              "      <td>0.5160</td>\n",
              "      <td>0.2155</td>\n",
              "      <td>0.1140</td>\n",
              "      <td>0.155</td>\n",
              "      <td>10.0</td>\n",
              "    </tr>\n",
              "    <tr>\n",
              "      <th>4</th>\n",
              "      <td>0.0</td>\n",
              "      <td>0.0</td>\n",
              "      <td>1.0</td>\n",
              "      <td>0.330</td>\n",
              "      <td>0.255</td>\n",
              "      <td>0.080</td>\n",
              "      <td>0.2050</td>\n",
              "      <td>0.0895</td>\n",
              "      <td>0.0395</td>\n",
              "      <td>0.055</td>\n",
              "      <td>7.0</td>\n",
              "    </tr>\n",
              "  </tbody>\n",
              "</table>\n",
              "</div>"
            ],
            "text/plain": [
              "    0    1    2      3      4      5       6       7       8      9     10\n",
              "0  1.0  0.0  0.0  0.455  0.365  0.095  0.5140  0.2245  0.1010  0.150  15.0\n",
              "1  1.0  0.0  0.0  0.350  0.265  0.090  0.2255  0.0995  0.0485  0.070   7.0\n",
              "2  0.0  1.0  0.0  0.530  0.420  0.135  0.6770  0.2565  0.1415  0.210   9.0\n",
              "3  1.0  0.0  0.0  0.440  0.365  0.125  0.5160  0.2155  0.1140  0.155  10.0\n",
              "4  0.0  0.0  1.0  0.330  0.255  0.080  0.2050  0.0895  0.0395  0.055   7.0"
            ]
          },
          "metadata": {
            "tags": []
          },
          "execution_count": 57
        }
      ]
    }
  ]
}