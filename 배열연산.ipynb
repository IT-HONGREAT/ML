{
  "nbformat": 4,
  "nbformat_minor": 0,
  "metadata": {
    "colab": {
      "name": "배열연산",
      "provenance": [],
      "authorship_tag": "ABX9TyOoZyWNK1b/A5dZ+Rrbp2ex",
      "include_colab_link": true
    },
    "kernelspec": {
      "name": "python3",
      "display_name": "Python 3"
    },
    "language_info": {
      "name": "python"
    }
  },
  "cells": [
    {
      "cell_type": "markdown",
      "metadata": {
        "id": "view-in-github",
        "colab_type": "text"
      },
      "source": [
        "<a href=\"https://colab.research.google.com/github/IT-HONGREAT/studying/blob/main/%EB%B0%B0%EC%97%B4%EC%97%B0%EC%82%B0.ipynb\" target=\"_parent\"><img src=\"https://colab.research.google.com/assets/colab-badge.svg\" alt=\"Open In Colab\"/></a>"
      ]
    },
    {
      "cell_type": "code",
      "metadata": {
        "colab": {
          "base_uri": "https://localhost:8080/"
        },
        "id": "LsPNH9ZfphfF",
        "outputId": "c33404d5-10bd-40e2-abf5-94de9a42f99a"
      },
      "source": [
        "import numpy as np\n",
        "arr1 = np.array([1,2])\n",
        "arr2 = np.ones(2, dtype = int)\n",
        "\n",
        "print(arr1+arr2)\n",
        "\n",
        "print(arr1-arr2)\n",
        "\n",
        "print(arr1*arr2)  #간단하게 각 원소 끼리 의 사칙 연산이고, 행렬곱이 아니다.\n",
        "\n",
        "print(arr1/arr2)\n"
      ],
      "execution_count": 5,
      "outputs": [
        {
          "output_type": "stream",
          "text": [
            "[2 3]\n",
            "[0 1]\n",
            "[1 2]\n",
            "[1. 2.]\n"
          ],
          "name": "stdout"
        }
      ]
    },
    {
      "cell_type": "code",
      "metadata": {
        "colab": {
          "base_uri": "https://localhost:8080/"
        },
        "id": "qv0_-9KEqXwa",
        "outputId": "fbd52329-17ac-48fc-8419-99869568ac04"
      },
      "source": [
        "arr = np.array([1,2,3,4])\n",
        "\n",
        "print(arr.sum())"
      ],
      "execution_count": 9,
      "outputs": [
        {
          "output_type": "stream",
          "text": [
            "10\n"
          ],
          "name": "stdout"
        }
      ]
    },
    {
      "cell_type": "code",
      "metadata": {
        "colab": {
          "base_uri": "https://localhost:8080/"
        },
        "id": "vTcElodIqodB",
        "outputId": "cbbb5664-a543-4224-dc29-07ee75cb4aac"
      },
      "source": [
        "arr = np.array([[1,1],[2,2]])\n",
        "\n",
        "print(arr.sum(axis = 0)) #0축 기준 으로 \n",
        "\n",
        "print(arr.sum(axis = 1)) #1축 기준으로 "
      ],
      "execution_count": 11,
      "outputs": [
        {
          "output_type": "stream",
          "text": [
            "[3 3]\n",
            "[2 4]\n"
          ],
          "name": "stdout"
        }
      ]
    },
    {
      "cell_type": "code",
      "metadata": {
        "colab": {
          "base_uri": "https://localhost:8080/"
        },
        "id": "KjM9h-_3rA3k",
        "outputId": "56e984bd-4f7a-4669-8016-1428e648cb00"
      },
      "source": [
        "arr = np.array([[4,2,5,7,2,7],\n",
        "               [9,54,3,8,4,67],\n",
        "               [14,36,58,547,32,7]])\n",
        "\n",
        "print(arr.max(axis=0))\n",
        "print(arr.max(axis=1))\n",
        "print(arr.max())"
      ],
      "execution_count": 14,
      "outputs": [
        {
          "output_type": "stream",
          "text": [
            "[ 14  54  58 547  32  67]\n",
            "[  7  67 547]\n",
            "547\n"
          ],
          "name": "stdout"
        }
      ]
    },
    {
      "cell_type": "code",
      "metadata": {
        "colab": {
          "base_uri": "https://localhost:8080/"
        },
        "id": "bmvTdYW3siC3",
        "outputId": "1218c32f-6d83-4c0e-fd32-c3e7f697bb05"
      },
      "source": [
        "arr = np.array([[4,2,5,7,2,7],\n",
        "               [9,54,3,8,4,67],\n",
        "               [14,36,58,547,32,7]])\n",
        "\n",
        "print(arr.mean(axis = 0))\n",
        "print(arr.mean(axis = 1))\n",
        "print(arr.mean())"
      ],
      "execution_count": 18,
      "outputs": [
        {
          "output_type": "stream",
          "text": [
            "[  9.          30.66666667  22.         187.33333333  12.66666667\n",
            "  27.        ]\n",
            "[  4.5         24.16666667 115.66666667]\n",
            "48.111111111111114\n"
          ],
          "name": "stdout"
        }
      ]
    },
    {
      "cell_type": "code",
      "metadata": {
        "colab": {
          "base_uri": "https://localhost:8080/"
        },
        "id": "vPh1Rpy9tAt2",
        "outputId": "599c29f3-03e3-4d8f-ddb5-45cdb92887a6"
      },
      "source": [
        "arr = np.array([[4,2,5,7,2,7],\n",
        "               [9,54,3,8,4,67],\n",
        "               [14,36,58,547,32,7]])\n",
        "\n",
        "print(arr.std(axis = 0))\n",
        "print(arr.std(axis = 1))\n",
        "print(arr.std())"
      ],
      "execution_count": 20,
      "outputs": [
        {
          "output_type": "stream",
          "text": [
            "[  4.0824829   21.56128217  25.46893533 254.32306663  13.69509239\n",
            "  28.28427125]\n",
            "[  2.06155281  26.04749935 193.59120733]\n",
            "122.74539542795661\n"
          ],
          "name": "stdout"
        }
      ]
    },
    {
      "cell_type": "code",
      "metadata": {
        "colab": {
          "base_uri": "https://localhost:8080/"
        },
        "id": "oFMfGw9duLZq",
        "outputId": "65a941bf-fa65-4688-803a-f9798b3e658d"
      },
      "source": [
        "arr = np.array([[4,2,5,7,2,7],\n",
        "               [9,54,3,8,4,67],\n",
        "               [14,36,58,547,32,7]])\n",
        "\n",
        "print(arr.prod(axis = 0))\n",
        "print(arr.prod(axis = 1))\n",
        "print(arr.prod())"
      ],
      "execution_count": 21,
      "outputs": [
        {
          "output_type": "stream",
          "text": [
            "[  504  3888   870 30632   256  3283]\n",
            "[      3920    3125952 3581738496]\n",
            "6996174903569809408\n"
          ],
          "name": "stdout"
        }
      ]
    },
    {
      "cell_type": "code",
      "metadata": {
        "colab": {
          "base_uri": "https://localhost:8080/"
        },
        "id": "PREVXpvWuPEC",
        "outputId": "a9781721-f674-4b8b-97a7-4243232ebf58"
      },
      "source": [
        "arr1 = np.eye(2) # 단위행렬 만들어주는 함수 eye()\n",
        "arr2 = np.ones((2,2)) * 2\n",
        "\n",
        "print(arr1)\n",
        "print(arr2)\n",
        "print(\"\")\n",
        "print(arr1.dot(arr2))"
      ],
      "execution_count": 27,
      "outputs": [
        {
          "output_type": "stream",
          "text": [
            "[[1. 0.]\n",
            " [0. 1.]]\n",
            "[[2. 2.]\n",
            " [2. 2.]]\n",
            "\n",
            "[[2. 2.]\n",
            " [2. 2.]]\n"
          ],
          "name": "stdout"
        }
      ]
    },
    {
      "cell_type": "code",
      "metadata": {
        "colab": {
          "base_uri": "https://localhost:8080/"
        },
        "id": "PM8IWNZ3vUYw",
        "outputId": "dc033d79-86b7-46f0-e8e5-3badded3c865"
      },
      "source": [
        "print(arr1.dot(arr2).dot(arr2))  #연결해서 사용가능!!"
      ],
      "execution_count": 28,
      "outputs": [
        {
          "output_type": "stream",
          "text": [
            "[[8. 8.]\n",
            " [8. 8.]]\n"
          ],
          "name": "stdout"
        }
      ]
    },
    {
      "cell_type": "code",
      "metadata": {
        "colab": {
          "base_uri": "https://localhost:8080/"
        },
        "id": "XTt-FOFfvyUj",
        "outputId": "7b1af8fd-e254-4fe7-83f5-80705961277b"
      },
      "source": [
        "arr1 = np.array([[1,0],[0,1]])\n",
        "arr2 = np.array([[4,1],[2,2]])\n",
        "\n",
        "print(np.matmul(arr1,arr2))"
      ],
      "execution_count": 29,
      "outputs": [
        {
          "output_type": "stream",
          "text": [
            "[[4 1]\n",
            " [2 2]]\n"
          ],
          "name": "stdout"
        }
      ]
    }
  ]
}