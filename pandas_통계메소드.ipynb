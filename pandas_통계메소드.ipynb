{
  "nbformat": 4,
  "nbformat_minor": 0,
  "metadata": {
    "colab": {
      "name": "pandas_통계메소드",
      "provenance": [],
      "authorship_tag": "ABX9TyPQXsOuEmI7vWSX5spsgWuR",
      "include_colab_link": true
    },
    "kernelspec": {
      "name": "python3",
      "display_name": "Python 3"
    },
    "language_info": {
      "name": "python"
    }
  },
  "cells": [
    {
      "cell_type": "markdown",
      "metadata": {
        "id": "view-in-github",
        "colab_type": "text"
      },
      "source": [
        "<a href=\"https://colab.research.google.com/github/IT-HONGREAT/studying/blob/main/pandas_%ED%86%B5%EA%B3%84%EB%A9%94%EC%86%8C%EB%93%9C.ipynb\" target=\"_parent\"><img src=\"https://colab.research.google.com/assets/colab-badge.svg\" alt=\"Open In Colab\"/></a>"
      ]
    },
    {
      "cell_type": "code",
      "metadata": {
        "id": "K-05JhWoZezq"
      },
      "source": [
        "import pandas as pd\n",
        "from IPython.core.interactiveshell import InteractiveShell\n",
        "InteractiveShell.ast_node_intercativity = \"all\"\n"
      ],
      "execution_count": 1,
      "outputs": []
    },
    {
      "cell_type": "code",
      "metadata": {
        "colab": {
          "base_uri": "https://localhost:8080/",
          "height": 357
        },
        "id": "ObTCqfI2Zibk",
        "outputId": "c0a080a5-406d-4306-f2d6-09787c7c1db2"
      },
      "source": [
        "from random import *\n",
        "#여기서는 random 에서 uniform 을 쓰기위해 사용.\n",
        "#난수 생성\n",
        "\n",
        "data_1 = []\n",
        "data_2 = []\n",
        "\n",
        "for i in range(0,10):\n",
        "  data_1.append(uniform(0,1))\n",
        "for i in range(0,10):\n",
        "  data_2.append(uniform(0,2))\n",
        "\n",
        "#DataFrame 생성\n",
        "\n",
        "dict_data = { 'first' : data_1,\n",
        "             'second' : data_2}\n",
        "\n",
        "index_data = ['zero','1st','2nd','3rd','4th','5th','6th','7th','8th','9th']\n",
        "df = pd.DataFrame(dict_data, index = index_data)\n",
        "df"
      ],
      "execution_count": 16,
      "outputs": [
        {
          "output_type": "execute_result",
          "data": {
            "text/html": [
              "<div>\n",
              "<style scoped>\n",
              "    .dataframe tbody tr th:only-of-type {\n",
              "        vertical-align: middle;\n",
              "    }\n",
              "\n",
              "    .dataframe tbody tr th {\n",
              "        vertical-align: top;\n",
              "    }\n",
              "\n",
              "    .dataframe thead th {\n",
              "        text-align: right;\n",
              "    }\n",
              "</style>\n",
              "<table border=\"1\" class=\"dataframe\">\n",
              "  <thead>\n",
              "    <tr style=\"text-align: right;\">\n",
              "      <th></th>\n",
              "      <th>first</th>\n",
              "      <th>second</th>\n",
              "    </tr>\n",
              "  </thead>\n",
              "  <tbody>\n",
              "    <tr>\n",
              "      <th>zero</th>\n",
              "      <td>0.627450</td>\n",
              "      <td>0.280821</td>\n",
              "    </tr>\n",
              "    <tr>\n",
              "      <th>1st</th>\n",
              "      <td>0.969776</td>\n",
              "      <td>1.842335</td>\n",
              "    </tr>\n",
              "    <tr>\n",
              "      <th>2nd</th>\n",
              "      <td>0.252649</td>\n",
              "      <td>1.962262</td>\n",
              "    </tr>\n",
              "    <tr>\n",
              "      <th>3rd</th>\n",
              "      <td>0.939933</td>\n",
              "      <td>0.420311</td>\n",
              "    </tr>\n",
              "    <tr>\n",
              "      <th>4th</th>\n",
              "      <td>0.295032</td>\n",
              "      <td>1.895976</td>\n",
              "    </tr>\n",
              "    <tr>\n",
              "      <th>5th</th>\n",
              "      <td>0.801342</td>\n",
              "      <td>0.173478</td>\n",
              "    </tr>\n",
              "    <tr>\n",
              "      <th>6th</th>\n",
              "      <td>0.142729</td>\n",
              "      <td>0.868708</td>\n",
              "    </tr>\n",
              "    <tr>\n",
              "      <th>7th</th>\n",
              "      <td>0.923153</td>\n",
              "      <td>0.032596</td>\n",
              "    </tr>\n",
              "    <tr>\n",
              "      <th>8th</th>\n",
              "      <td>0.283217</td>\n",
              "      <td>1.977896</td>\n",
              "    </tr>\n",
              "    <tr>\n",
              "      <th>9th</th>\n",
              "      <td>0.389409</td>\n",
              "      <td>0.139104</td>\n",
              "    </tr>\n",
              "  </tbody>\n",
              "</table>\n",
              "</div>"
            ],
            "text/plain": [
              "         first    second\n",
              "zero  0.627450  0.280821\n",
              "1st   0.969776  1.842335\n",
              "2nd   0.252649  1.962262\n",
              "3rd   0.939933  0.420311\n",
              "4th   0.295032  1.895976\n",
              "5th   0.801342  0.173478\n",
              "6th   0.142729  0.868708\n",
              "7th   0.923153  0.032596\n",
              "8th   0.283217  1.977896\n",
              "9th   0.389409  0.139104"
            ]
          },
          "metadata": {
            "tags": []
          },
          "execution_count": 16
        }
      ]
    },
    {
      "cell_type": "code",
      "metadata": {
        "colab": {
          "base_uri": "https://localhost:8080/"
        },
        "id": "Hxdh8tVta_Cm",
        "outputId": "8589c061-baf6-4532-d4c8-29fa4dec6058"
      },
      "source": [
        "mean_val = df.mean()\n",
        "#first 평균\n",
        "\n",
        "first_mean = df['first'].mean()\n",
        "\n",
        "#second 평균\n",
        "\n",
        "second_mean = df['second'].mean()\n",
        "\n",
        "print(mean_val)\n",
        "print('\\n')\n",
        "print(f'first 평균:{first_mean}')\n",
        "print(f'second 평균:{second_mean}')\n"
      ],
      "execution_count": 18,
      "outputs": [
        {
          "output_type": "stream",
          "text": [
            "first     0.562469\n",
            "second    0.959349\n",
            "dtype: float64\n",
            "\n",
            "\n",
            "first 평균:0.562469110973645\n",
            "second 평균:0.959348758196036\n"
          ],
          "name": "stdout"
        }
      ]
    },
    {
      "cell_type": "code",
      "metadata": {
        "colab": {
          "base_uri": "https://localhost:8080/"
        },
        "id": "2n6hcYBmcbjU",
        "outputId": "49bf1829-6616-4f83-a92f-7c9847de1e55"
      },
      "source": [
        "#median 은 평쥰이 아니라 중간값을 반환\n",
        "#전체 중간값\n",
        "median_val = df.median()\n",
        "\n",
        "#first 평균\n",
        "\n",
        "first_median = df['first'].median()\n",
        "\n",
        "#second 평균\n",
        "\n",
        "second_median = df['second'].median()\n",
        "\n",
        "print(median_val)\n",
        "print('\\n')\n",
        "print(f'first 중간값{first_median}')\n",
        "print(f'second 중간값:{second_median}')\n"
      ],
      "execution_count": 21,
      "outputs": [
        {
          "output_type": "stream",
          "text": [
            "first     0.50843\n",
            "second    0.64451\n",
            "dtype: float64\n",
            "\n",
            "\n",
            "first 중간값0.5084296906494656\n",
            "second 중간값:0.644509536176414\n"
          ],
          "name": "stdout"
        }
      ]
    },
    {
      "cell_type": "code",
      "metadata": {
        "colab": {
          "base_uri": "https://localhost:8080/"
        },
        "id": "7-UbCPDBdGk1",
        "outputId": "c4fa80da-02b1-4cb9-e8fb-f3071bf16cea"
      },
      "source": [
        "#전체 최대값\n",
        "\n",
        "max_val = df.max()\n",
        "\n",
        "#first 최대값\n",
        "\n",
        "first_max = df['first'].max()\n",
        "\n",
        "#second 최대값\n",
        "\n",
        "second_max = df['second'].max()\n",
        "\n",
        "print(max_val)\n",
        "print('\\n')\n",
        "print(f'first 최대값{first_max}')\n",
        "print(f'second 최대값:{second_max}')\n"
      ],
      "execution_count": 23,
      "outputs": [
        {
          "output_type": "stream",
          "text": [
            "first     0.969776\n",
            "second    1.977896\n",
            "dtype: float64\n",
            "\n",
            "\n",
            "first 최대값0.9697759192730618\n",
            "second 최대값:1.9778959756324583\n"
          ],
          "name": "stdout"
        }
      ]
    },
    {
      "cell_type": "code",
      "metadata": {
        "colab": {
          "base_uri": "https://localhost:8080/"
        },
        "id": "VX3bPOhkdsTE",
        "outputId": "f4514d24-31b8-498d-ab31-c42a07bff101"
      },
      "source": [
        "#표준편차\n",
        "\n",
        "std_val = df.std()\n",
        "\n",
        "#first 표준편차\n",
        "\n",
        "first_std = df['first'].std()\n",
        "\n",
        "#second 표준편차\n",
        "\n",
        "second_std = df['second'].std()\n",
        "\n",
        "print(std_val)\n",
        "print('\\n')\n",
        "print(f'first 표준편차{first_std}')\n",
        "print(f'second 표준편차:{second_std}')\n"
      ],
      "execution_count": 25,
      "outputs": [
        {
          "output_type": "stream",
          "text": [
            "first     0.325129\n",
            "second    0.856910\n",
            "dtype: float64\n",
            "\n",
            "\n",
            "first 표준편차0.3251287043619581\n",
            "second 표준편차:0.8569098661156694\n"
          ],
          "name": "stdout"
        }
      ]
    },
    {
      "cell_type": "code",
      "metadata": {
        "colab": {
          "base_uri": "https://localhost:8080/",
          "height": 357
        },
        "id": "Gyf_UBx3ePQu",
        "outputId": "69b1d792-05ed-4160-a5a6-3a056c177911"
      },
      "source": [
        "# third data 생성 및 추가\n",
        "\n",
        "data_3 = []\n",
        "\n",
        "for i in range(0,10):\n",
        "  data_3.append(uniform(0,2))\n",
        "\n",
        "dict_data = {'first':data_1,\n",
        "             'second':data_2,\n",
        "             'third' : data_3}\n",
        "index_data = ['zero','1st','2nd','3rd','4th','5th','6th','7th','8th','9th']\n",
        "\n",
        "#new DataFrame 생성\n",
        "\n",
        "ndf = pd.DataFrame(dict_data,index = index_data)\n",
        "ndf"
      ],
      "execution_count": 26,
      "outputs": [
        {
          "output_type": "execute_result",
          "data": {
            "text/html": [
              "<div>\n",
              "<style scoped>\n",
              "    .dataframe tbody tr th:only-of-type {\n",
              "        vertical-align: middle;\n",
              "    }\n",
              "\n",
              "    .dataframe tbody tr th {\n",
              "        vertical-align: top;\n",
              "    }\n",
              "\n",
              "    .dataframe thead th {\n",
              "        text-align: right;\n",
              "    }\n",
              "</style>\n",
              "<table border=\"1\" class=\"dataframe\">\n",
              "  <thead>\n",
              "    <tr style=\"text-align: right;\">\n",
              "      <th></th>\n",
              "      <th>first</th>\n",
              "      <th>second</th>\n",
              "      <th>third</th>\n",
              "    </tr>\n",
              "  </thead>\n",
              "  <tbody>\n",
              "    <tr>\n",
              "      <th>zero</th>\n",
              "      <td>0.627450</td>\n",
              "      <td>0.280821</td>\n",
              "      <td>1.800332</td>\n",
              "    </tr>\n",
              "    <tr>\n",
              "      <th>1st</th>\n",
              "      <td>0.969776</td>\n",
              "      <td>1.842335</td>\n",
              "      <td>0.619356</td>\n",
              "    </tr>\n",
              "    <tr>\n",
              "      <th>2nd</th>\n",
              "      <td>0.252649</td>\n",
              "      <td>1.962262</td>\n",
              "      <td>0.848207</td>\n",
              "    </tr>\n",
              "    <tr>\n",
              "      <th>3rd</th>\n",
              "      <td>0.939933</td>\n",
              "      <td>0.420311</td>\n",
              "      <td>0.750123</td>\n",
              "    </tr>\n",
              "    <tr>\n",
              "      <th>4th</th>\n",
              "      <td>0.295032</td>\n",
              "      <td>1.895976</td>\n",
              "      <td>0.324034</td>\n",
              "    </tr>\n",
              "    <tr>\n",
              "      <th>5th</th>\n",
              "      <td>0.801342</td>\n",
              "      <td>0.173478</td>\n",
              "      <td>0.651023</td>\n",
              "    </tr>\n",
              "    <tr>\n",
              "      <th>6th</th>\n",
              "      <td>0.142729</td>\n",
              "      <td>0.868708</td>\n",
              "      <td>1.076536</td>\n",
              "    </tr>\n",
              "    <tr>\n",
              "      <th>7th</th>\n",
              "      <td>0.923153</td>\n",
              "      <td>0.032596</td>\n",
              "      <td>1.818345</td>\n",
              "    </tr>\n",
              "    <tr>\n",
              "      <th>8th</th>\n",
              "      <td>0.283217</td>\n",
              "      <td>1.977896</td>\n",
              "      <td>0.934713</td>\n",
              "    </tr>\n",
              "    <tr>\n",
              "      <th>9th</th>\n",
              "      <td>0.389409</td>\n",
              "      <td>0.139104</td>\n",
              "      <td>1.772273</td>\n",
              "    </tr>\n",
              "  </tbody>\n",
              "</table>\n",
              "</div>"
            ],
            "text/plain": [
              "         first    second     third\n",
              "zero  0.627450  0.280821  1.800332\n",
              "1st   0.969776  1.842335  0.619356\n",
              "2nd   0.252649  1.962262  0.848207\n",
              "3rd   0.939933  0.420311  0.750123\n",
              "4th   0.295032  1.895976  0.324034\n",
              "5th   0.801342  0.173478  0.651023\n",
              "6th   0.142729  0.868708  1.076536\n",
              "7th   0.923153  0.032596  1.818345\n",
              "8th   0.283217  1.977896  0.934713\n",
              "9th   0.389409  0.139104  1.772273"
            ]
          },
          "metadata": {
            "tags": []
          },
          "execution_count": 26
        }
      ]
    }
  ]
}