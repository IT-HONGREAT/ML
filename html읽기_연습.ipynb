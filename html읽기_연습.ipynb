{
  "nbformat": 4,
  "nbformat_minor": 0,
  "metadata": {
    "colab": {
      "name": "html읽기 연습",
      "provenance": [],
      "collapsed_sections": [],
      "mount_file_id": "1ghRBk0eaTuSJAqp1eV2FitBCNUIIR7ii",
      "authorship_tag": "ABX9TyPrbpQIE6nwYi48lyPdCUl2",
      "include_colab_link": true
    },
    "kernelspec": {
      "name": "python3",
      "display_name": "Python 3"
    },
    "language_info": {
      "name": "python"
    }
  },
  "cells": [
    {
      "cell_type": "markdown",
      "metadata": {
        "id": "view-in-github",
        "colab_type": "text"
      },
      "source": [
        "<a href=\"https://colab.research.google.com/github/IT-HONGREAT/studying/blob/main/html%EC%9D%BD%EA%B8%B0_%EC%97%B0%EC%8A%B5.ipynb\" target=\"_parent\"><img src=\"https://colab.research.google.com/assets/colab-badge.svg\" alt=\"Open In Colab\"/></a>"
      ]
    },
    {
      "cell_type": "code",
      "metadata": {
        "colab": {
          "base_uri": "https://localhost:8080/"
        },
        "id": "UpR5eOh8ImYo",
        "outputId": "859b4cfa-34c2-4410-a4f6-c3dc2bb6ea38"
      },
      "source": [
        "f = open(\"html_source.txt\",'r',encoding='utf-8')\n",
        "\n",
        "temp = f.read()\n",
        "\n",
        "splitted = temp.split('<div class=\"inner_number\">')\n",
        "\n",
        "a = splitted.pop(0)\n",
        "\n",
        "# print(a)\n",
        "\n",
        "for item in splitted:\n",
        "    print(item.split('</div>')[0])"
      ],
      "execution_count": 3,
      "outputs": [
        {
          "output_type": "stream",
          "text": [
            "223778\n",
            "223773\n",
            "223772\n",
            "223769\n",
            "223767\n",
            "223760\n",
            "223757\n",
            "223755\n",
            "223753\n",
            "223751\n",
            "223743\n",
            "223738\n",
            "223736\n",
            "223728\n",
            "223715\n"
          ],
          "name": "stdout"
        }
      ]
    }
  ]
}