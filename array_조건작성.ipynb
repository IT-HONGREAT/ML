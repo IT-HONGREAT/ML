{
  "nbformat": 4,
  "nbformat_minor": 0,
  "metadata": {
    "colab": {
      "name": "array_조건작성",
      "provenance": [],
      "authorship_tag": "ABX9TyMRr8BG1D/tuY8wrucuicPp",
      "include_colab_link": true
    },
    "kernelspec": {
      "name": "python3",
      "display_name": "Python 3"
    },
    "language_info": {
      "name": "python"
    }
  },
  "cells": [
    {
      "cell_type": "markdown",
      "metadata": {
        "id": "view-in-github",
        "colab_type": "text"
      },
      "source": [
        "<a href=\"https://colab.research.google.com/github/IT-HONGREAT/studying/blob/main/array_%EC%A1%B0%EA%B1%B4%EC%9E%91%EC%84%B1.ipynb\" target=\"_parent\"><img src=\"https://colab.research.google.com/assets/colab-badge.svg\" alt=\"Open In Colab\"/></a>"
      ]
    },
    {
      "cell_type": "code",
      "metadata": {
        "colab": {
          "base_uri": "https://localhost:8080/"
        },
        "id": "qXv6MDG2u0vX",
        "outputId": "cda6f3de-ed30-43b9-ff71-4af6a080c31a"
      },
      "source": [
        "import numpy as np\n",
        "\n",
        "arr = np.array([[1,2,3,4],[5,6,7,8],[9,10,11,12]])\n",
        "\n",
        "print(arr[arr<5])  #arr[arr조건] 을 쓰면 해당 조건에 부합하는 것만 출력된다."
      ],
      "execution_count": 3,
      "outputs": [
        {
          "output_type": "stream",
          "text": [
            "[1 2 3 4]\n"
          ],
          "name": "stdout"
        }
      ]
    },
    {
      "cell_type": "code",
      "metadata": {
        "colab": {
          "base_uri": "https://localhost:8080/"
        },
        "id": "0txpmA94vREo",
        "outputId": "c57c5f89-f447-4819-cbbe-1404e2ee7b9b"
      },
      "source": [
        "arr5 = (arr >= 5)   #조건 자체를 변수 지정\n",
        "print(arr[arr5])"
      ],
      "execution_count": 5,
      "outputs": [
        {
          "output_type": "stream",
          "text": [
            "[ 5  6  7  8  9 10 11 12]\n"
          ],
          "name": "stdout"
        }
      ]
    },
    {
      "cell_type": "code",
      "metadata": {
        "colab": {
          "base_uri": "https://localhost:8080/"
        },
        "id": "Nrs0LrgWvahS",
        "outputId": "b45cc39c-2a63-4f3f-da3b-59ac46a3ac45"
      },
      "source": [
        "arr2 = arr[(arr>2) & (arr< 11)]    #& 혹은 | 도 사용가능!\n",
        "print(arr2)"
      ],
      "execution_count": 7,
      "outputs": [
        {
          "output_type": "stream",
          "text": [
            "[ 3  4  5  6  7  8  9 10]\n"
          ],
          "name": "stdout"
        }
      ]
    },
    {
      "cell_type": "code",
      "metadata": {
        "colab": {
          "base_uri": "https://localhost:8080/"
        },
        "id": "Dtcaqr1lv144",
        "outputId": "09150a66-7d55-455a-8b39-5e44bb27aa33"
      },
      "source": [
        "arr = np.array([[[5 ,2 ,4 ,6 ,7],\n",
        "        [3, 8, 9, 1, 0]],\n",
        " \n",
        "        [[6, 5, 7, 1, 3],\n",
        "        [8, 9 ,4, 0 ,2]],\n",
        " \n",
        "        [[5 ,8, 6, 9, 2],\n",
        "        [1 ,3 ,4, 0 ,7]]])\n",
        "\n",
        "arr[arr < 5] = 0\n",
        "print(arr)"
      ],
      "execution_count": 13,
      "outputs": [
        {
          "output_type": "stream",
          "text": [
            "[[[5 0 0 6 7]\n",
            "  [0 8 9 0 0]]\n",
            "\n",
            " [[6 5 7 0 0]\n",
            "  [8 9 0 0 0]]\n",
            "\n",
            " [[5 8 6 9 0]\n",
            "  [0 0 0 0 7]]]\n"
          ],
          "name": "stdout"
        }
      ]
    },
    {
      "cell_type": "code",
      "metadata": {
        "id": "Zq9FxzkGw0kH"
      },
      "source": [
        ""
      ],
      "execution_count": null,
      "outputs": []
    }
  ]
}